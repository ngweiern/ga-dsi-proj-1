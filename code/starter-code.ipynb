{
 "cells": [
  {
   "cell_type": "markdown",
   "metadata": {},
   "source": [
    "# Project 1: SAT & ACT Analysis"
   ]
  },
  {
   "cell_type": "markdown",
   "metadata": {},
   "source": [
    "The first markdown cell in a notebook is a great place to provide an overview of your entire project. You will likely want to at least state your\n",
    "\n",
    "## Problem Statement"
   ]
  },
  {
   "cell_type": "markdown",
   "metadata": {},
   "source": [
    "Define the problem you are finding answers for from the data given."
   ]
  },
  {
   "cell_type": "markdown",
   "metadata": {},
   "source": [
    "## Executive Summary\n",
    "\n",
    "If you want to, it's great to use relative links to direct your audience to various sections of a notebook. **HERE'S A DEMONSTRATION WITH THE CURRENT SECTION HEADERS**:\n",
    "\n",
    "### Contents:\n",
    "- [2017 Data Import & Cleaning](#Data-Import-and-Cleaning)\n",
    "- [2018 Data Import and Cleaning](#2018-Data-Import-and-Cleaning)\n",
    "- [Exploratory Data Analysis](#Exploratory-Data-Analysis)\n",
    "- [Data Visualization](#Visualize-the-data)\n",
    "- [Descriptive and Inferential Statistics](#Descriptive-and-Inferential-Statistics)\n",
    "- [Outside Research](#Outside-Research)\n",
    "- [Conclusions and Recommendations](#Conclusions-and-Recommendations)"
   ]
  },
  {
   "cell_type": "markdown",
   "metadata": {},
   "source": [
    "**If you combine your problem statement, executive summary, data dictionary, and conclusions/recommendations, you have an amazing README.md file that quickly aligns your audience to the contents of your project.** Don't forget to cite your data sources!"
   ]
  },
  {
   "cell_type": "markdown",
   "metadata": {},
   "source": [
    "*All libraries used should be added here*"
   ]
  },
  {
   "cell_type": "code",
   "execution_count": 1,
   "metadata": {},
   "outputs": [],
   "source": [
    "#Imports:\n",
    "import pandas as pd\n",
    "import numpy as np\n",
    "import matplotlib.pyplot as plt\n",
    "from matplotlib.lines import Line2D\n",
    "from matplotlib.patches import PathPatch\n",
    "\n",
    "import seaborn as sns\n",
    "import re\n",
    "import scipy.stats as stats\n",
    "from numpy.random import randn\n",
    "\n",
    "%matplotlib inline"
   ]
  },
  {
   "cell_type": "markdown",
   "metadata": {},
   "source": [
    "## 2017 Data Import and Cleaning"
   ]
  },
  {
   "cell_type": "markdown",
   "metadata": {},
   "source": [
    "#### 1. Read In SAT & ACT Data\n",
    "\n",
    "Read in the `sat_2017.csv` and `act_2017.csv` files and assign them to appropriately named pandas dataframes."
   ]
  },
  {
   "cell_type": "code",
   "execution_count": 2,
   "metadata": {},
   "outputs": [],
   "source": [
    "sat_2017 = pd.read_csv('../data/sat_2017.csv')\n",
    "act_2017 = pd.read_csv('../data/act_2017.csv')"
   ]
  },
  {
   "cell_type": "markdown",
   "metadata": {},
   "source": [
    "#### 2. Display Data\n",
    "\n",
    "Print the first 10 rows of each dataframe to your jupyter notebook"
   ]
  },
  {
   "cell_type": "code",
   "execution_count": 3,
   "metadata": {},
   "outputs": [
    {
     "data": {
      "text/html": [
       "<div>\n",
       "<style scoped>\n",
       "    .dataframe tbody tr th:only-of-type {\n",
       "        vertical-align: middle;\n",
       "    }\n",
       "\n",
       "    .dataframe tbody tr th {\n",
       "        vertical-align: top;\n",
       "    }\n",
       "\n",
       "    .dataframe thead th {\n",
       "        text-align: right;\n",
       "    }\n",
       "</style>\n",
       "<table border=\"1\" class=\"dataframe\">\n",
       "  <thead>\n",
       "    <tr style=\"text-align: right;\">\n",
       "      <th></th>\n",
       "      <th>State</th>\n",
       "      <th>Participation</th>\n",
       "      <th>Evidence-Based Reading and Writing</th>\n",
       "      <th>Math</th>\n",
       "      <th>Total</th>\n",
       "    </tr>\n",
       "  </thead>\n",
       "  <tbody>\n",
       "    <tr>\n",
       "      <th>0</th>\n",
       "      <td>Alabama</td>\n",
       "      <td>5%</td>\n",
       "      <td>593</td>\n",
       "      <td>572</td>\n",
       "      <td>1165</td>\n",
       "    </tr>\n",
       "    <tr>\n",
       "      <th>1</th>\n",
       "      <td>Alaska</td>\n",
       "      <td>38%</td>\n",
       "      <td>547</td>\n",
       "      <td>533</td>\n",
       "      <td>1080</td>\n",
       "    </tr>\n",
       "    <tr>\n",
       "      <th>2</th>\n",
       "      <td>Arizona</td>\n",
       "      <td>30%</td>\n",
       "      <td>563</td>\n",
       "      <td>553</td>\n",
       "      <td>1116</td>\n",
       "    </tr>\n",
       "    <tr>\n",
       "      <th>3</th>\n",
       "      <td>Arkansas</td>\n",
       "      <td>3%</td>\n",
       "      <td>614</td>\n",
       "      <td>594</td>\n",
       "      <td>1208</td>\n",
       "    </tr>\n",
       "    <tr>\n",
       "      <th>4</th>\n",
       "      <td>California</td>\n",
       "      <td>53%</td>\n",
       "      <td>531</td>\n",
       "      <td>524</td>\n",
       "      <td>1055</td>\n",
       "    </tr>\n",
       "    <tr>\n",
       "      <th>5</th>\n",
       "      <td>Colorado</td>\n",
       "      <td>11%</td>\n",
       "      <td>606</td>\n",
       "      <td>595</td>\n",
       "      <td>1201</td>\n",
       "    </tr>\n",
       "    <tr>\n",
       "      <th>6</th>\n",
       "      <td>Connecticut</td>\n",
       "      <td>100%</td>\n",
       "      <td>530</td>\n",
       "      <td>512</td>\n",
       "      <td>1041</td>\n",
       "    </tr>\n",
       "    <tr>\n",
       "      <th>7</th>\n",
       "      <td>Delaware</td>\n",
       "      <td>100%</td>\n",
       "      <td>503</td>\n",
       "      <td>492</td>\n",
       "      <td>996</td>\n",
       "    </tr>\n",
       "    <tr>\n",
       "      <th>8</th>\n",
       "      <td>District of Columbia</td>\n",
       "      <td>100%</td>\n",
       "      <td>482</td>\n",
       "      <td>468</td>\n",
       "      <td>950</td>\n",
       "    </tr>\n",
       "    <tr>\n",
       "      <th>9</th>\n",
       "      <td>Florida</td>\n",
       "      <td>83%</td>\n",
       "      <td>520</td>\n",
       "      <td>497</td>\n",
       "      <td>1017</td>\n",
       "    </tr>\n",
       "  </tbody>\n",
       "</table>\n",
       "</div>"
      ],
      "text/plain": [
       "                  State Participation  Evidence-Based Reading and Writing  \\\n",
       "0               Alabama            5%                                 593   \n",
       "1                Alaska           38%                                 547   \n",
       "2               Arizona           30%                                 563   \n",
       "3              Arkansas            3%                                 614   \n",
       "4            California           53%                                 531   \n",
       "5              Colorado           11%                                 606   \n",
       "6           Connecticut          100%                                 530   \n",
       "7              Delaware          100%                                 503   \n",
       "8  District of Columbia          100%                                 482   \n",
       "9               Florida           83%                                 520   \n",
       "\n",
       "   Math  Total  \n",
       "0   572   1165  \n",
       "1   533   1080  \n",
       "2   553   1116  \n",
       "3   594   1208  \n",
       "4   524   1055  \n",
       "5   595   1201  \n",
       "6   512   1041  \n",
       "7   492    996  \n",
       "8   468    950  \n",
       "9   497   1017  "
      ]
     },
     "execution_count": 3,
     "metadata": {},
     "output_type": "execute_result"
    }
   ],
   "source": [
    "sat_2017.head(10)"
   ]
  },
  {
   "cell_type": "code",
   "execution_count": 4,
   "metadata": {},
   "outputs": [
    {
     "data": {
      "text/html": [
       "<div>\n",
       "<style scoped>\n",
       "    .dataframe tbody tr th:only-of-type {\n",
       "        vertical-align: middle;\n",
       "    }\n",
       "\n",
       "    .dataframe tbody tr th {\n",
       "        vertical-align: top;\n",
       "    }\n",
       "\n",
       "    .dataframe thead th {\n",
       "        text-align: right;\n",
       "    }\n",
       "</style>\n",
       "<table border=\"1\" class=\"dataframe\">\n",
       "  <thead>\n",
       "    <tr style=\"text-align: right;\">\n",
       "      <th></th>\n",
       "      <th>State</th>\n",
       "      <th>Participation</th>\n",
       "      <th>English</th>\n",
       "      <th>Math</th>\n",
       "      <th>Reading</th>\n",
       "      <th>Science</th>\n",
       "      <th>Composite</th>\n",
       "    </tr>\n",
       "  </thead>\n",
       "  <tbody>\n",
       "    <tr>\n",
       "      <th>0</th>\n",
       "      <td>National</td>\n",
       "      <td>60%</td>\n",
       "      <td>20.3</td>\n",
       "      <td>20.7</td>\n",
       "      <td>21.4</td>\n",
       "      <td>21.0</td>\n",
       "      <td>21.0</td>\n",
       "    </tr>\n",
       "    <tr>\n",
       "      <th>1</th>\n",
       "      <td>Alabama</td>\n",
       "      <td>100%</td>\n",
       "      <td>18.9</td>\n",
       "      <td>18.4</td>\n",
       "      <td>19.7</td>\n",
       "      <td>19.4</td>\n",
       "      <td>19.2</td>\n",
       "    </tr>\n",
       "    <tr>\n",
       "      <th>2</th>\n",
       "      <td>Alaska</td>\n",
       "      <td>65%</td>\n",
       "      <td>18.7</td>\n",
       "      <td>19.8</td>\n",
       "      <td>20.4</td>\n",
       "      <td>19.9</td>\n",
       "      <td>19.8</td>\n",
       "    </tr>\n",
       "    <tr>\n",
       "      <th>3</th>\n",
       "      <td>Arizona</td>\n",
       "      <td>62%</td>\n",
       "      <td>18.6</td>\n",
       "      <td>19.8</td>\n",
       "      <td>20.1</td>\n",
       "      <td>19.8</td>\n",
       "      <td>19.7</td>\n",
       "    </tr>\n",
       "    <tr>\n",
       "      <th>4</th>\n",
       "      <td>Arkansas</td>\n",
       "      <td>100%</td>\n",
       "      <td>18.9</td>\n",
       "      <td>19.0</td>\n",
       "      <td>19.7</td>\n",
       "      <td>19.5</td>\n",
       "      <td>19.4</td>\n",
       "    </tr>\n",
       "    <tr>\n",
       "      <th>5</th>\n",
       "      <td>California</td>\n",
       "      <td>31%</td>\n",
       "      <td>22.5</td>\n",
       "      <td>22.7</td>\n",
       "      <td>23.1</td>\n",
       "      <td>22.2</td>\n",
       "      <td>22.8</td>\n",
       "    </tr>\n",
       "    <tr>\n",
       "      <th>6</th>\n",
       "      <td>Colorado</td>\n",
       "      <td>100%</td>\n",
       "      <td>20.1</td>\n",
       "      <td>20.3</td>\n",
       "      <td>21.2</td>\n",
       "      <td>20.9</td>\n",
       "      <td>20.8</td>\n",
       "    </tr>\n",
       "    <tr>\n",
       "      <th>7</th>\n",
       "      <td>Connecticut</td>\n",
       "      <td>31%</td>\n",
       "      <td>25.5</td>\n",
       "      <td>24.6</td>\n",
       "      <td>25.6</td>\n",
       "      <td>24.6</td>\n",
       "      <td>25.2</td>\n",
       "    </tr>\n",
       "    <tr>\n",
       "      <th>8</th>\n",
       "      <td>Delaware</td>\n",
       "      <td>18%</td>\n",
       "      <td>24.1</td>\n",
       "      <td>23.4</td>\n",
       "      <td>24.8</td>\n",
       "      <td>23.6</td>\n",
       "      <td>24.1</td>\n",
       "    </tr>\n",
       "    <tr>\n",
       "      <th>9</th>\n",
       "      <td>District of Columbia</td>\n",
       "      <td>32%</td>\n",
       "      <td>24.4</td>\n",
       "      <td>23.5</td>\n",
       "      <td>24.9</td>\n",
       "      <td>23.5</td>\n",
       "      <td>24.2</td>\n",
       "    </tr>\n",
       "  </tbody>\n",
       "</table>\n",
       "</div>"
      ],
      "text/plain": [
       "                  State Participation  English  Math  Reading  Science  \\\n",
       "0              National           60%     20.3  20.7     21.4     21.0   \n",
       "1               Alabama          100%     18.9  18.4     19.7     19.4   \n",
       "2                Alaska           65%     18.7  19.8     20.4     19.9   \n",
       "3               Arizona           62%     18.6  19.8     20.1     19.8   \n",
       "4              Arkansas          100%     18.9  19.0     19.7     19.5   \n",
       "5            California           31%     22.5  22.7     23.1     22.2   \n",
       "6              Colorado          100%     20.1  20.3     21.2     20.9   \n",
       "7           Connecticut           31%     25.5  24.6     25.6     24.6   \n",
       "8              Delaware           18%     24.1  23.4     24.8     23.6   \n",
       "9  District of Columbia           32%     24.4  23.5     24.9     23.5   \n",
       "\n",
       "  Composite  \n",
       "0      21.0  \n",
       "1      19.2  \n",
       "2      19.8  \n",
       "3      19.7  \n",
       "4      19.4  \n",
       "5      22.8  \n",
       "6      20.8  \n",
       "7      25.2  \n",
       "8      24.1  \n",
       "9      24.2  "
      ]
     },
     "execution_count": 4,
     "metadata": {},
     "output_type": "execute_result"
    }
   ],
   "source": [
    "act_2017.head(10)"
   ]
  },
  {
   "cell_type": "markdown",
   "metadata": {},
   "source": [
    "#### 3. Verbally Describe Data\n",
    "\n",
    "Take your time looking through the data and thoroughly describe the data in the markdown cell below. "
   ]
  },
  {
   "cell_type": "markdown",
   "metadata": {},
   "source": [
    "##### SAT 2017"
   ]
  },
  {
   "cell_type": "code",
   "execution_count": 5,
   "metadata": {},
   "outputs": [
    {
     "data": {
      "text/plain": [
       "(51, 5)"
      ]
     },
     "execution_count": 5,
     "metadata": {},
     "output_type": "execute_result"
    }
   ],
   "source": [
    "sat_2017.shape"
   ]
  },
  {
   "cell_type": "code",
   "execution_count": 6,
   "metadata": {},
   "outputs": [
    {
     "data": {
      "text/plain": [
       "Index(['State', 'Participation', 'Evidence-Based Reading and Writing', 'Math',\n",
       "       'Total'],\n",
       "      dtype='object')"
      ]
     },
     "execution_count": 6,
     "metadata": {},
     "output_type": "execute_result"
    }
   ],
   "source": [
    "sat_2017.columns"
   ]
  },
  {
   "cell_type": "code",
   "execution_count": 7,
   "metadata": {},
   "outputs": [
    {
     "data": {
      "text/plain": [
       "['Alabama',\n",
       " 'Alaska',\n",
       " 'Arizona',\n",
       " 'Arkansas',\n",
       " 'California',\n",
       " 'Colorado',\n",
       " 'Connecticut',\n",
       " 'Delaware',\n",
       " 'District of Columbia',\n",
       " 'Florida',\n",
       " 'Georgia',\n",
       " 'Hawaii',\n",
       " 'Idaho',\n",
       " 'Illinois',\n",
       " 'Indiana',\n",
       " 'Iowa',\n",
       " 'Kansas',\n",
       " 'Kentucky',\n",
       " 'Louisiana',\n",
       " 'Maine',\n",
       " 'Maryland',\n",
       " 'Massachusetts',\n",
       " 'Michigan',\n",
       " 'Minnesota',\n",
       " 'Mississippi',\n",
       " 'Missouri',\n",
       " 'Montana',\n",
       " 'Nebraska',\n",
       " 'Nevada',\n",
       " 'New Hampshire',\n",
       " 'New Jersey',\n",
       " 'New Mexico',\n",
       " 'New York',\n",
       " 'North Carolina',\n",
       " 'North Dakota',\n",
       " 'Ohio',\n",
       " 'Oklahoma',\n",
       " 'Oregon',\n",
       " 'Pennsylvania',\n",
       " 'Rhode Island',\n",
       " 'South Carolina',\n",
       " 'South Dakota',\n",
       " 'Tennessee',\n",
       " 'Texas',\n",
       " 'Utah',\n",
       " 'Vermont',\n",
       " 'Virginia',\n",
       " 'Washington',\n",
       " 'West Virginia',\n",
       " 'Wisconsin',\n",
       " 'Wyoming']"
      ]
     },
     "execution_count": 7,
     "metadata": {},
     "output_type": "execute_result"
    }
   ],
   "source": [
    "sat_2017['State'].sort_values().tolist()"
   ]
  },
  {
   "cell_type": "code",
   "execution_count": 8,
   "metadata": {},
   "outputs": [
    {
     "name": "stdout",
     "output_type": "stream",
     "text": [
      "<class 'pandas.core.frame.DataFrame'>\n",
      "RangeIndex: 51 entries, 0 to 50\n",
      "Data columns (total 5 columns):\n",
      "State                                 51 non-null object\n",
      "Participation                         51 non-null object\n",
      "Evidence-Based Reading and Writing    51 non-null int64\n",
      "Math                                  51 non-null int64\n",
      "Total                                 51 non-null int64\n",
      "dtypes: int64(3), object(2)\n",
      "memory usage: 2.1+ KB\n"
     ]
    }
   ],
   "source": [
    "# Participation should be of float datatype, but is currently an object datatype\n",
    "sat_2017.info()"
   ]
  },
  {
   "cell_type": "code",
   "execution_count": 9,
   "metadata": {},
   "outputs": [
    {
     "data": {
      "text/html": [
       "<div>\n",
       "<style scoped>\n",
       "    .dataframe tbody tr th:only-of-type {\n",
       "        vertical-align: middle;\n",
       "    }\n",
       "\n",
       "    .dataframe tbody tr th {\n",
       "        vertical-align: top;\n",
       "    }\n",
       "\n",
       "    .dataframe thead th {\n",
       "        text-align: right;\n",
       "    }\n",
       "</style>\n",
       "<table border=\"1\" class=\"dataframe\">\n",
       "  <thead>\n",
       "    <tr style=\"text-align: right;\">\n",
       "      <th></th>\n",
       "      <th>Evidence-Based Reading and Writing</th>\n",
       "      <th>Math</th>\n",
       "      <th>Total</th>\n",
       "    </tr>\n",
       "  </thead>\n",
       "  <tbody>\n",
       "    <tr>\n",
       "      <th>count</th>\n",
       "      <td>51.000000</td>\n",
       "      <td>51.000000</td>\n",
       "      <td>51.000000</td>\n",
       "    </tr>\n",
       "    <tr>\n",
       "      <th>mean</th>\n",
       "      <td>569.117647</td>\n",
       "      <td>547.627451</td>\n",
       "      <td>1126.098039</td>\n",
       "    </tr>\n",
       "    <tr>\n",
       "      <th>std</th>\n",
       "      <td>45.666901</td>\n",
       "      <td>84.909119</td>\n",
       "      <td>92.494812</td>\n",
       "    </tr>\n",
       "    <tr>\n",
       "      <th>min</th>\n",
       "      <td>482.000000</td>\n",
       "      <td>52.000000</td>\n",
       "      <td>950.000000</td>\n",
       "    </tr>\n",
       "    <tr>\n",
       "      <th>25%</th>\n",
       "      <td>533.500000</td>\n",
       "      <td>522.000000</td>\n",
       "      <td>1055.500000</td>\n",
       "    </tr>\n",
       "    <tr>\n",
       "      <th>50%</th>\n",
       "      <td>559.000000</td>\n",
       "      <td>548.000000</td>\n",
       "      <td>1107.000000</td>\n",
       "    </tr>\n",
       "    <tr>\n",
       "      <th>75%</th>\n",
       "      <td>613.000000</td>\n",
       "      <td>599.000000</td>\n",
       "      <td>1212.000000</td>\n",
       "    </tr>\n",
       "    <tr>\n",
       "      <th>max</th>\n",
       "      <td>644.000000</td>\n",
       "      <td>651.000000</td>\n",
       "      <td>1295.000000</td>\n",
       "    </tr>\n",
       "  </tbody>\n",
       "</table>\n",
       "</div>"
      ],
      "text/plain": [
       "       Evidence-Based Reading and Writing        Math        Total\n",
       "count                           51.000000   51.000000    51.000000\n",
       "mean                           569.117647  547.627451  1126.098039\n",
       "std                             45.666901   84.909119    92.494812\n",
       "min                            482.000000   52.000000   950.000000\n",
       "25%                            533.500000  522.000000  1055.500000\n",
       "50%                            559.000000  548.000000  1107.000000\n",
       "75%                            613.000000  599.000000  1212.000000\n",
       "max                            644.000000  651.000000  1295.000000"
      ]
     },
     "execution_count": 9,
     "metadata": {},
     "output_type": "execute_result"
    }
   ],
   "source": [
    "sat_2017.describe()"
   ]
  },
  {
   "cell_type": "code",
   "execution_count": 10,
   "metadata": {},
   "outputs": [
    {
     "data": {
      "text/plain": [
       "State                                 0\n",
       "Participation                         0\n",
       "Evidence-Based Reading and Writing    0\n",
       "Math                                  0\n",
       "Total                                 0\n",
       "dtype: int64"
      ]
     },
     "execution_count": 10,
     "metadata": {},
     "output_type": "execute_result"
    }
   ],
   "source": [
    "# No null values observed\n",
    "sat_2017.isna().sum(axis=0)"
   ]
  },
  {
   "cell_type": "markdown",
   "metadata": {},
   "source": [
    "##### ACT 2017"
   ]
  },
  {
   "cell_type": "code",
   "execution_count": 11,
   "metadata": {},
   "outputs": [
    {
     "data": {
      "text/plain": [
       "(52, 7)"
      ]
     },
     "execution_count": 11,
     "metadata": {},
     "output_type": "execute_result"
    }
   ],
   "source": [
    "# ACT 2017 dataset seems to have one more row than the SAT 2017 dataset\n",
    "act_2017.shape"
   ]
  },
  {
   "cell_type": "code",
   "execution_count": 12,
   "metadata": {},
   "outputs": [
    {
     "data": {
      "text/plain": [
       "Index(['State', 'Participation', 'English', 'Math', 'Reading', 'Science',\n",
       "       'Composite'],\n",
       "      dtype='object')"
      ]
     },
     "execution_count": 12,
     "metadata": {},
     "output_type": "execute_result"
    }
   ],
   "source": [
    "act_2017.columns"
   ]
  },
  {
   "cell_type": "code",
   "execution_count": 13,
   "metadata": {},
   "outputs": [
    {
     "data": {
      "text/plain": [
       "['Alabama',\n",
       " 'Alaska',\n",
       " 'Arizona',\n",
       " 'Arkansas',\n",
       " 'California',\n",
       " 'Colorado',\n",
       " 'Connecticut',\n",
       " 'Delaware',\n",
       " 'District of Columbia',\n",
       " 'Florida',\n",
       " 'Georgia',\n",
       " 'Hawaii',\n",
       " 'Idaho',\n",
       " 'Illinois',\n",
       " 'Indiana',\n",
       " 'Iowa',\n",
       " 'Kansas',\n",
       " 'Kentucky',\n",
       " 'Louisiana',\n",
       " 'Maine',\n",
       " 'Maryland',\n",
       " 'Massachusetts',\n",
       " 'Michigan',\n",
       " 'Minnesota',\n",
       " 'Mississippi',\n",
       " 'Missouri',\n",
       " 'Montana',\n",
       " 'National',\n",
       " 'Nebraska',\n",
       " 'Nevada',\n",
       " 'New Hampshire',\n",
       " 'New Jersey',\n",
       " 'New Mexico',\n",
       " 'New York',\n",
       " 'North Carolina',\n",
       " 'North Dakota',\n",
       " 'Ohio',\n",
       " 'Oklahoma',\n",
       " 'Oregon',\n",
       " 'Pennsylvania',\n",
       " 'Rhode Island',\n",
       " 'South Carolina',\n",
       " 'South Dakota',\n",
       " 'Tennessee',\n",
       " 'Texas',\n",
       " 'Utah',\n",
       " 'Vermont',\n",
       " 'Virginia',\n",
       " 'Washington',\n",
       " 'West Virginia',\n",
       " 'Wisconsin',\n",
       " 'Wyoming']"
      ]
     },
     "execution_count": 13,
     "metadata": {},
     "output_type": "execute_result"
    }
   ],
   "source": [
    "act_2017['State'].sort_values().tolist()"
   ]
  },
  {
   "cell_type": "code",
   "execution_count": 14,
   "metadata": {},
   "outputs": [
    {
     "name": "stdout",
     "output_type": "stream",
     "text": [
      "<class 'pandas.core.frame.DataFrame'>\n",
      "RangeIndex: 52 entries, 0 to 51\n",
      "Data columns (total 7 columns):\n",
      "State            52 non-null object\n",
      "Participation    52 non-null object\n",
      "English          52 non-null float64\n",
      "Math             52 non-null float64\n",
      "Reading          52 non-null float64\n",
      "Science          52 non-null float64\n",
      "Composite        52 non-null object\n",
      "dtypes: float64(4), object(3)\n",
      "memory usage: 3.0+ KB\n"
     ]
    }
   ],
   "source": [
    "act_2017.info()"
   ]
  },
  {
   "cell_type": "code",
   "execution_count": 15,
   "metadata": {},
   "outputs": [
    {
     "data": {
      "text/html": [
       "<div>\n",
       "<style scoped>\n",
       "    .dataframe tbody tr th:only-of-type {\n",
       "        vertical-align: middle;\n",
       "    }\n",
       "\n",
       "    .dataframe tbody tr th {\n",
       "        vertical-align: top;\n",
       "    }\n",
       "\n",
       "    .dataframe thead th {\n",
       "        text-align: right;\n",
       "    }\n",
       "</style>\n",
       "<table border=\"1\" class=\"dataframe\">\n",
       "  <thead>\n",
       "    <tr style=\"text-align: right;\">\n",
       "      <th></th>\n",
       "      <th>English</th>\n",
       "      <th>Math</th>\n",
       "      <th>Reading</th>\n",
       "      <th>Science</th>\n",
       "    </tr>\n",
       "  </thead>\n",
       "  <tbody>\n",
       "    <tr>\n",
       "      <th>count</th>\n",
       "      <td>52.000000</td>\n",
       "      <td>52.000000</td>\n",
       "      <td>52.000000</td>\n",
       "      <td>52.000000</td>\n",
       "    </tr>\n",
       "    <tr>\n",
       "      <th>mean</th>\n",
       "      <td>20.919231</td>\n",
       "      <td>21.173077</td>\n",
       "      <td>22.001923</td>\n",
       "      <td>21.040385</td>\n",
       "    </tr>\n",
       "    <tr>\n",
       "      <th>std</th>\n",
       "      <td>2.332132</td>\n",
       "      <td>1.963602</td>\n",
       "      <td>2.048672</td>\n",
       "      <td>3.151113</td>\n",
       "    </tr>\n",
       "    <tr>\n",
       "      <th>min</th>\n",
       "      <td>16.300000</td>\n",
       "      <td>18.000000</td>\n",
       "      <td>18.100000</td>\n",
       "      <td>2.300000</td>\n",
       "    </tr>\n",
       "    <tr>\n",
       "      <th>25%</th>\n",
       "      <td>19.000000</td>\n",
       "      <td>19.400000</td>\n",
       "      <td>20.475000</td>\n",
       "      <td>19.900000</td>\n",
       "    </tr>\n",
       "    <tr>\n",
       "      <th>50%</th>\n",
       "      <td>20.550000</td>\n",
       "      <td>20.900000</td>\n",
       "      <td>21.700000</td>\n",
       "      <td>21.150000</td>\n",
       "    </tr>\n",
       "    <tr>\n",
       "      <th>75%</th>\n",
       "      <td>23.300000</td>\n",
       "      <td>23.100000</td>\n",
       "      <td>24.125000</td>\n",
       "      <td>22.525000</td>\n",
       "    </tr>\n",
       "    <tr>\n",
       "      <th>max</th>\n",
       "      <td>25.500000</td>\n",
       "      <td>25.300000</td>\n",
       "      <td>26.000000</td>\n",
       "      <td>24.900000</td>\n",
       "    </tr>\n",
       "  </tbody>\n",
       "</table>\n",
       "</div>"
      ],
      "text/plain": [
       "         English       Math    Reading    Science\n",
       "count  52.000000  52.000000  52.000000  52.000000\n",
       "mean   20.919231  21.173077  22.001923  21.040385\n",
       "std     2.332132   1.963602   2.048672   3.151113\n",
       "min    16.300000  18.000000  18.100000   2.300000\n",
       "25%    19.000000  19.400000  20.475000  19.900000\n",
       "50%    20.550000  20.900000  21.700000  21.150000\n",
       "75%    23.300000  23.100000  24.125000  22.525000\n",
       "max    25.500000  25.300000  26.000000  24.900000"
      ]
     },
     "execution_count": 15,
     "metadata": {},
     "output_type": "execute_result"
    }
   ],
   "source": [
    "act_2017.describe()"
   ]
  },
  {
   "cell_type": "code",
   "execution_count": 16,
   "metadata": {},
   "outputs": [
    {
     "data": {
      "text/plain": [
       "State            0\n",
       "Participation    0\n",
       "English          0\n",
       "Math             0\n",
       "Reading          0\n",
       "Science          0\n",
       "Composite        0\n",
       "dtype: int64"
      ]
     },
     "execution_count": 16,
     "metadata": {},
     "output_type": "execute_result"
    }
   ],
   "source": [
    "act_2017.isna().sum(axis=0)"
   ]
  },
  {
   "cell_type": "markdown",
   "metadata": {},
   "source": [
    "#### 4a. Does the data look complete? "
   ]
  },
  {
   "cell_type": "markdown",
   "metadata": {},
   "source": [
    "Answer: The data is complete as far as non-null values are concerned."
   ]
  },
  {
   "cell_type": "markdown",
   "metadata": {},
   "source": [
    "#### 4b. Are there any obvious issues with the observations?\n",
    "\n",
    "**What is the minimum *possible* value for each test/subtest? What is the maximum *possible* value?**\n",
    "\n",
    "Consider comparing any questionable values to the sources of your data:\n",
    "- [SAT](https://blog.collegevine.com/here-are-the-average-sat-scores-by-state/)\n",
    "- [ACT](https://blog.prepscholar.com/act-scores-by-state-averages-highs-and-lows)"
   ]
  },
  {
   "cell_type": "code",
   "execution_count": 17,
   "metadata": {},
   "outputs": [
    {
     "data": {
      "text/html": [
       "<style>\n",
       "table {float:left}\n",
       "</style>\n"
      ],
      "text/plain": [
       "<IPython.core.display.HTML object>"
      ]
     },
     "metadata": {},
     "output_type": "display_data"
    }
   ],
   "source": [
    "%%html\n",
    "<style>\n",
    "table {float:left}\n",
    "</style>"
   ]
  },
  {
   "cell_type": "markdown",
   "metadata": {},
   "source": [
    "Answer:  "
   ]
  },
  {
   "cell_type": "markdown",
   "metadata": {},
   "source": [
    "**SAT**  \n",
    "\n",
    "| | Evidence-Based Reading and Writing | Math | Total \n",
    ":--- | :--- | :-- | :-- \n",
    "**Minimum** | 200 | 200 | 400\n",
    "**Maximum** | 800 | 800 | 1600"
   ]
  },
  {
   "cell_type": "markdown",
   "metadata": {},
   "source": [
    "**ACT**  \n",
    "\n",
    "| | English | Math | Reading | Science | Composite |\n",
    "| :--- | :--- | :-- | :-- | :-- | :-- |\n",
    "| Minimum | 1 | 1 | 1 | 1 | 1 |\n",
    "| Maximum | 36 | 36 | 36 | 36 | 36 |"
   ]
  },
  {
   "cell_type": "code",
   "execution_count": 18,
   "metadata": {},
   "outputs": [
    {
     "data": {
      "text/html": [
       "<div>\n",
       "<style scoped>\n",
       "    .dataframe tbody tr th:only-of-type {\n",
       "        vertical-align: middle;\n",
       "    }\n",
       "\n",
       "    .dataframe tbody tr th {\n",
       "        vertical-align: top;\n",
       "    }\n",
       "\n",
       "    .dataframe thead th {\n",
       "        text-align: right;\n",
       "    }\n",
       "</style>\n",
       "<table border=\"1\" class=\"dataframe\">\n",
       "  <thead>\n",
       "    <tr style=\"text-align: right;\">\n",
       "      <th></th>\n",
       "      <th>Evidence-Based Reading and Writing</th>\n",
       "      <th>Math</th>\n",
       "      <th>Total</th>\n",
       "    </tr>\n",
       "  </thead>\n",
       "  <tbody>\n",
       "    <tr>\n",
       "      <th>count</th>\n",
       "      <td>51.000000</td>\n",
       "      <td>51.000000</td>\n",
       "      <td>51.000000</td>\n",
       "    </tr>\n",
       "    <tr>\n",
       "      <th>mean</th>\n",
       "      <td>569.117647</td>\n",
       "      <td>547.627451</td>\n",
       "      <td>1126.098039</td>\n",
       "    </tr>\n",
       "    <tr>\n",
       "      <th>std</th>\n",
       "      <td>45.666901</td>\n",
       "      <td>84.909119</td>\n",
       "      <td>92.494812</td>\n",
       "    </tr>\n",
       "    <tr>\n",
       "      <th>min</th>\n",
       "      <td>482.000000</td>\n",
       "      <td>52.000000</td>\n",
       "      <td>950.000000</td>\n",
       "    </tr>\n",
       "    <tr>\n",
       "      <th>25%</th>\n",
       "      <td>533.500000</td>\n",
       "      <td>522.000000</td>\n",
       "      <td>1055.500000</td>\n",
       "    </tr>\n",
       "    <tr>\n",
       "      <th>50%</th>\n",
       "      <td>559.000000</td>\n",
       "      <td>548.000000</td>\n",
       "      <td>1107.000000</td>\n",
       "    </tr>\n",
       "    <tr>\n",
       "      <th>75%</th>\n",
       "      <td>613.000000</td>\n",
       "      <td>599.000000</td>\n",
       "      <td>1212.000000</td>\n",
       "    </tr>\n",
       "    <tr>\n",
       "      <th>max</th>\n",
       "      <td>644.000000</td>\n",
       "      <td>651.000000</td>\n",
       "      <td>1295.000000</td>\n",
       "    </tr>\n",
       "  </tbody>\n",
       "</table>\n",
       "</div>"
      ],
      "text/plain": [
       "       Evidence-Based Reading and Writing        Math        Total\n",
       "count                           51.000000   51.000000    51.000000\n",
       "mean                           569.117647  547.627451  1126.098039\n",
       "std                             45.666901   84.909119    92.494812\n",
       "min                            482.000000   52.000000   950.000000\n",
       "25%                            533.500000  522.000000  1055.500000\n",
       "50%                            559.000000  548.000000  1107.000000\n",
       "75%                            613.000000  599.000000  1212.000000\n",
       "max                            644.000000  651.000000  1295.000000"
      ]
     },
     "execution_count": 18,
     "metadata": {},
     "output_type": "execute_result"
    }
   ],
   "source": [
    "sat_2017.describe()"
   ]
  },
  {
   "cell_type": "markdown",
   "metadata": {},
   "source": [
    "The minimum value for the Math section of the SAT 2017 results does not fall within the possible range of values for the Math section."
   ]
  },
  {
   "cell_type": "code",
   "execution_count": 19,
   "metadata": {},
   "outputs": [
    {
     "data": {
      "text/html": [
       "<div>\n",
       "<style scoped>\n",
       "    .dataframe tbody tr th:only-of-type {\n",
       "        vertical-align: middle;\n",
       "    }\n",
       "\n",
       "    .dataframe tbody tr th {\n",
       "        vertical-align: top;\n",
       "    }\n",
       "\n",
       "    .dataframe thead th {\n",
       "        text-align: right;\n",
       "    }\n",
       "</style>\n",
       "<table border=\"1\" class=\"dataframe\">\n",
       "  <thead>\n",
       "    <tr style=\"text-align: right;\">\n",
       "      <th></th>\n",
       "      <th>English</th>\n",
       "      <th>Math</th>\n",
       "      <th>Reading</th>\n",
       "      <th>Science</th>\n",
       "    </tr>\n",
       "  </thead>\n",
       "  <tbody>\n",
       "    <tr>\n",
       "      <th>count</th>\n",
       "      <td>52.000000</td>\n",
       "      <td>52.000000</td>\n",
       "      <td>52.000000</td>\n",
       "      <td>52.000000</td>\n",
       "    </tr>\n",
       "    <tr>\n",
       "      <th>mean</th>\n",
       "      <td>20.919231</td>\n",
       "      <td>21.173077</td>\n",
       "      <td>22.001923</td>\n",
       "      <td>21.040385</td>\n",
       "    </tr>\n",
       "    <tr>\n",
       "      <th>std</th>\n",
       "      <td>2.332132</td>\n",
       "      <td>1.963602</td>\n",
       "      <td>2.048672</td>\n",
       "      <td>3.151113</td>\n",
       "    </tr>\n",
       "    <tr>\n",
       "      <th>min</th>\n",
       "      <td>16.300000</td>\n",
       "      <td>18.000000</td>\n",
       "      <td>18.100000</td>\n",
       "      <td>2.300000</td>\n",
       "    </tr>\n",
       "    <tr>\n",
       "      <th>25%</th>\n",
       "      <td>19.000000</td>\n",
       "      <td>19.400000</td>\n",
       "      <td>20.475000</td>\n",
       "      <td>19.900000</td>\n",
       "    </tr>\n",
       "    <tr>\n",
       "      <th>50%</th>\n",
       "      <td>20.550000</td>\n",
       "      <td>20.900000</td>\n",
       "      <td>21.700000</td>\n",
       "      <td>21.150000</td>\n",
       "    </tr>\n",
       "    <tr>\n",
       "      <th>75%</th>\n",
       "      <td>23.300000</td>\n",
       "      <td>23.100000</td>\n",
       "      <td>24.125000</td>\n",
       "      <td>22.525000</td>\n",
       "    </tr>\n",
       "    <tr>\n",
       "      <th>max</th>\n",
       "      <td>25.500000</td>\n",
       "      <td>25.300000</td>\n",
       "      <td>26.000000</td>\n",
       "      <td>24.900000</td>\n",
       "    </tr>\n",
       "  </tbody>\n",
       "</table>\n",
       "</div>"
      ],
      "text/plain": [
       "         English       Math    Reading    Science\n",
       "count  52.000000  52.000000  52.000000  52.000000\n",
       "mean   20.919231  21.173077  22.001923  21.040385\n",
       "std     2.332132   1.963602   2.048672   3.151113\n",
       "min    16.300000  18.000000  18.100000   2.300000\n",
       "25%    19.000000  19.400000  20.475000  19.900000\n",
       "50%    20.550000  20.900000  21.700000  21.150000\n",
       "75%    23.300000  23.100000  24.125000  22.525000\n",
       "max    25.500000  25.300000  26.000000  24.900000"
      ]
     },
     "execution_count": 19,
     "metadata": {},
     "output_type": "execute_result"
    }
   ],
   "source": [
    "act_2017.describe()"
   ]
  },
  {
   "cell_type": "markdown",
   "metadata": {},
   "source": [
    "The minimum value of the Science section of the ACT 2017 results falls within the possible range of values for the Science section but seems to vary from the what should be a reasonable average value."
   ]
  },
  {
   "cell_type": "markdown",
   "metadata": {},
   "source": [
    "#### 4c. Fix any errors you identified\n",
    "\n",
    "**The data is available** so there's no need to guess or calculate anything. If you didn't find any errors, continue to the next step."
   ]
  },
  {
   "cell_type": "code",
   "execution_count": 20,
   "metadata": {},
   "outputs": [
    {
     "data": {
      "text/html": [
       "<div>\n",
       "<style scoped>\n",
       "    .dataframe tbody tr th:only-of-type {\n",
       "        vertical-align: middle;\n",
       "    }\n",
       "\n",
       "    .dataframe tbody tr th {\n",
       "        vertical-align: top;\n",
       "    }\n",
       "\n",
       "    .dataframe thead th {\n",
       "        text-align: right;\n",
       "    }\n",
       "</style>\n",
       "<table border=\"1\" class=\"dataframe\">\n",
       "  <thead>\n",
       "    <tr style=\"text-align: right;\">\n",
       "      <th></th>\n",
       "      <th>State</th>\n",
       "      <th>Participation</th>\n",
       "      <th>Evidence-Based Reading and Writing</th>\n",
       "      <th>Math</th>\n",
       "      <th>Total</th>\n",
       "    </tr>\n",
       "  </thead>\n",
       "  <tbody>\n",
       "    <tr>\n",
       "      <th>20</th>\n",
       "      <td>Maryland</td>\n",
       "      <td>69%</td>\n",
       "      <td>536</td>\n",
       "      <td>52</td>\n",
       "      <td>1060</td>\n",
       "    </tr>\n",
       "  </tbody>\n",
       "</table>\n",
       "</div>"
      ],
      "text/plain": [
       "       State Participation  Evidence-Based Reading and Writing  Math  Total\n",
       "20  Maryland           69%                                 536    52   1060"
      ]
     },
     "execution_count": 20,
     "metadata": {},
     "output_type": "execute_result"
    }
   ],
   "source": [
    "sat_2017[sat_2017['Math'] == sat_2017['Math'].min()]"
   ]
  },
  {
   "cell_type": "markdown",
   "metadata": {},
   "source": [
    "Reference: [SAT Suite of Assessments Annual Report 2017 - Maryland](https://reports.collegeboard.org/pdf/2017-maryland-sat-suite-assessments-annual-report.pdf)"
   ]
  },
  {
   "cell_type": "code",
   "execution_count": 21,
   "metadata": {},
   "outputs": [],
   "source": [
    "sat_2017.loc[sat_2017['Math'] == sat_2017['Math'].min(), 'Math'] = 524"
   ]
  },
  {
   "cell_type": "code",
   "execution_count": 22,
   "metadata": {},
   "outputs": [],
   "source": [
    "# Some rows don't seem to have their columns add up\n",
    "# sat_2017[sat_2017['Evidence-Based Reading and Writing'] + sat_2017['Math'] != sat_2017['Total']]"
   ]
  },
  {
   "cell_type": "markdown",
   "metadata": {},
   "source": [
    "For the abovementioned states, the sum of the scores for evidence-based reading and writing and math do not tally with the total in the dataset, as well as in the reports available on the webpage."
   ]
  },
  {
   "cell_type": "code",
   "execution_count": 23,
   "metadata": {},
   "outputs": [
    {
     "data": {
      "text/html": [
       "<div>\n",
       "<style scoped>\n",
       "    .dataframe tbody tr th:only-of-type {\n",
       "        vertical-align: middle;\n",
       "    }\n",
       "\n",
       "    .dataframe tbody tr th {\n",
       "        vertical-align: top;\n",
       "    }\n",
       "\n",
       "    .dataframe thead th {\n",
       "        text-align: right;\n",
       "    }\n",
       "</style>\n",
       "<table border=\"1\" class=\"dataframe\">\n",
       "  <thead>\n",
       "    <tr style=\"text-align: right;\">\n",
       "      <th></th>\n",
       "      <th>State</th>\n",
       "      <th>Participation</th>\n",
       "      <th>English</th>\n",
       "      <th>Math</th>\n",
       "      <th>Reading</th>\n",
       "      <th>Science</th>\n",
       "      <th>Composite</th>\n",
       "    </tr>\n",
       "  </thead>\n",
       "  <tbody>\n",
       "    <tr>\n",
       "      <th>21</th>\n",
       "      <td>Maryland</td>\n",
       "      <td>28%</td>\n",
       "      <td>23.3</td>\n",
       "      <td>23.1</td>\n",
       "      <td>24.2</td>\n",
       "      <td>2.3</td>\n",
       "      <td>23.6</td>\n",
       "    </tr>\n",
       "  </tbody>\n",
       "</table>\n",
       "</div>"
      ],
      "text/plain": [
       "       State Participation  English  Math  Reading  Science Composite\n",
       "21  Maryland           28%     23.3  23.1     24.2      2.3      23.6"
      ]
     },
     "execution_count": 23,
     "metadata": {},
     "output_type": "execute_result"
    }
   ],
   "source": [
    "act_2017[act_2017['Science'] == act_2017['Science'].min()]"
   ]
  },
  {
   "cell_type": "code",
   "execution_count": 24,
   "metadata": {},
   "outputs": [
    {
     "data": {
      "text/plain": [
       "21    2.3\n",
       "Name: Science, dtype: float64"
      ]
     },
     "execution_count": 24,
     "metadata": {},
     "output_type": "execute_result"
    }
   ],
   "source": [
    "act_2017[act_2017['State'] == 'Maryland']['Science']"
   ]
  },
  {
   "cell_type": "code",
   "execution_count": 25,
   "metadata": {},
   "outputs": [],
   "source": [
    "act_2017.loc[act_2017['Science'] == act_2017['Science'].min(), 'Science'] = 23.2"
   ]
  },
  {
   "cell_type": "markdown",
   "metadata": {},
   "source": [
    "#### 5. What are your data types? \n",
    "Display the data types of each feature. "
   ]
  },
  {
   "cell_type": "code",
   "execution_count": 26,
   "metadata": {},
   "outputs": [
    {
     "data": {
      "text/plain": [
       "State                                 object\n",
       "Participation                         object\n",
       "Evidence-Based Reading and Writing     int64\n",
       "Math                                   int64\n",
       "Total                                  int64\n",
       "dtype: object"
      ]
     },
     "execution_count": 26,
     "metadata": {},
     "output_type": "execute_result"
    }
   ],
   "source": [
    "sat_2017.dtypes"
   ]
  },
  {
   "cell_type": "code",
   "execution_count": 27,
   "metadata": {},
   "outputs": [
    {
     "data": {
      "text/plain": [
       "State             object\n",
       "Participation     object\n",
       "English          float64\n",
       "Math             float64\n",
       "Reading          float64\n",
       "Science          float64\n",
       "Composite         object\n",
       "dtype: object"
      ]
     },
     "execution_count": 27,
     "metadata": {},
     "output_type": "execute_result"
    }
   ],
   "source": [
    "act_2017.dtypes"
   ]
  },
  {
   "cell_type": "markdown",
   "metadata": {},
   "source": [
    "What did you learn?\n",
    "- Do any of them seem odd?  \n",
    "- Which ones are not as they should be?  "
   ]
  },
  {
   "cell_type": "markdown",
   "metadata": {},
   "source": [
    "Answer:  \n",
    "* For 2017 SAT, the variable Participation is of type object when it should be a float.\n",
    "* For 2017 ACT, the variables Participation and Composite are of type object when they should be float."
   ]
  },
  {
   "cell_type": "markdown",
   "metadata": {},
   "source": [
    "#### 6. Fix Incorrect Data Types\n",
    "Based on what you discovered above, use appropriate methods to re-type incorrectly typed data.\n",
    "- Define a function that will allow you to convert participation rates to an appropriate numeric type. Use `map` or `apply` to change these columns in each dataframe."
   ]
  },
  {
   "cell_type": "code",
   "execution_count": 28,
   "metadata": {},
   "outputs": [],
   "source": [
    "sat_2017['Participation'] = sat_2017['Participation'].apply(lambda x: float(x[:-1])/100)"
   ]
  },
  {
   "cell_type": "code",
   "execution_count": 29,
   "metadata": {},
   "outputs": [
    {
     "data": {
      "text/html": [
       "<div>\n",
       "<style scoped>\n",
       "    .dataframe tbody tr th:only-of-type {\n",
       "        vertical-align: middle;\n",
       "    }\n",
       "\n",
       "    .dataframe tbody tr th {\n",
       "        vertical-align: top;\n",
       "    }\n",
       "\n",
       "    .dataframe thead th {\n",
       "        text-align: right;\n",
       "    }\n",
       "</style>\n",
       "<table border=\"1\" class=\"dataframe\">\n",
       "  <thead>\n",
       "    <tr style=\"text-align: right;\">\n",
       "      <th></th>\n",
       "      <th>State</th>\n",
       "      <th>Participation</th>\n",
       "      <th>Evidence-Based Reading and Writing</th>\n",
       "      <th>Math</th>\n",
       "      <th>Total</th>\n",
       "    </tr>\n",
       "  </thead>\n",
       "  <tbody>\n",
       "  </tbody>\n",
       "</table>\n",
       "</div>"
      ],
      "text/plain": [
       "Empty DataFrame\n",
       "Columns: [State, Participation, Evidence-Based Reading and Writing, Math, Total]\n",
       "Index: []"
      ]
     },
     "execution_count": 29,
     "metadata": {},
     "output_type": "execute_result"
    }
   ],
   "source": [
    "# Find within SAT 2017 dataset whether there are entries whose participation rate do not fall within 0 and 1 inclusive.\n",
    "sat_2017[~((sat_2017['Participation'] >= 0) & (sat_2017['Participation'] <= 1))]"
   ]
  },
  {
   "cell_type": "code",
   "execution_count": 30,
   "metadata": {},
   "outputs": [],
   "source": [
    "act_2017['Participation'] = act_2017['Participation'].map(lambda x: float(x.replace('%', ''))/100)"
   ]
  },
  {
   "cell_type": "code",
   "execution_count": 31,
   "metadata": {},
   "outputs": [
    {
     "data": {
      "text/plain": [
       "0    0.60\n",
       "1    1.00\n",
       "2    0.65\n",
       "3    0.62\n",
       "4    1.00\n",
       "Name: Participation, dtype: float64"
      ]
     },
     "execution_count": 31,
     "metadata": {},
     "output_type": "execute_result"
    }
   ],
   "source": [
    "act_2017['Participation'].head()"
   ]
  },
  {
   "cell_type": "code",
   "execution_count": 32,
   "metadata": {},
   "outputs": [
    {
     "data": {
      "text/html": [
       "<div>\n",
       "<style scoped>\n",
       "    .dataframe tbody tr th:only-of-type {\n",
       "        vertical-align: middle;\n",
       "    }\n",
       "\n",
       "    .dataframe tbody tr th {\n",
       "        vertical-align: top;\n",
       "    }\n",
       "\n",
       "    .dataframe thead th {\n",
       "        text-align: right;\n",
       "    }\n",
       "</style>\n",
       "<table border=\"1\" class=\"dataframe\">\n",
       "  <thead>\n",
       "    <tr style=\"text-align: right;\">\n",
       "      <th></th>\n",
       "      <th>State</th>\n",
       "      <th>Participation</th>\n",
       "      <th>English</th>\n",
       "      <th>Math</th>\n",
       "      <th>Reading</th>\n",
       "      <th>Science</th>\n",
       "      <th>Composite</th>\n",
       "    </tr>\n",
       "  </thead>\n",
       "  <tbody>\n",
       "  </tbody>\n",
       "</table>\n",
       "</div>"
      ],
      "text/plain": [
       "Empty DataFrame\n",
       "Columns: [State, Participation, English, Math, Reading, Science, Composite]\n",
       "Index: []"
      ]
     },
     "execution_count": 32,
     "metadata": {},
     "output_type": "execute_result"
    }
   ],
   "source": [
    "# Find within ACT 2017 dataset whether there are entries whose participation rate do not fall within 0 and 1 inclusive.\n",
    "act_2017[~((act_2017['Participation'] >= 0) & (act_2017['Participation'] <= 1))]"
   ]
  },
  {
   "cell_type": "markdown",
   "metadata": {},
   "source": [
    "- Fix any individual values preventing other columns from being the appropriate type."
   ]
  },
  {
   "cell_type": "code",
   "execution_count": 33,
   "metadata": {},
   "outputs": [],
   "source": [
    "# Change column State from object to category\n",
    "sat_2017['State'] = sat_2017['State'].astype('category')\n",
    "act_2017['State'] = act_2017['State'].astype('category')"
   ]
  },
  {
   "cell_type": "code",
   "execution_count": 34,
   "metadata": {},
   "outputs": [
    {
     "data": {
      "text/plain": [
       "51    20.2x\n",
       "Name: Composite, dtype: object"
      ]
     },
     "execution_count": 34,
     "metadata": {},
     "output_type": "execute_result"
    }
   ],
   "source": [
    "# Change column Composite from object to float\n",
    "indexes_with_error = []\n",
    "\n",
    "for idx, value in enumerate(act_2017['Composite']):\n",
    "    try:\n",
    "        float(value)\n",
    "    except:\n",
    "        indexes_with_error.append(idx)\n",
    "\n",
    "act_2017.iloc[indexes_with_error]['Composite']"
   ]
  },
  {
   "cell_type": "code",
   "execution_count": 35,
   "metadata": {},
   "outputs": [],
   "source": [
    "act_2017_composite = act_2017['Composite'].copy()\n",
    "act_2017_composite.iloc[indexes_with_error] = act_2017_composite.iloc[indexes_with_error].apply(lambda x: x.replace('x', ''))"
   ]
  },
  {
   "cell_type": "code",
   "execution_count": 36,
   "metadata": {},
   "outputs": [],
   "source": [
    "act_2017_composite = act_2017_composite.apply(lambda x: float(x))"
   ]
  },
  {
   "cell_type": "code",
   "execution_count": 37,
   "metadata": {},
   "outputs": [],
   "source": [
    "act_2017['Composite'] = act_2017_composite"
   ]
  },
  {
   "cell_type": "markdown",
   "metadata": {},
   "source": [
    "- Finish your data modifications by making sure the columns are now typed appropriately."
   ]
  },
  {
   "cell_type": "markdown",
   "metadata": {},
   "source": [
    "- Display the data types again to confirm they are correct."
   ]
  },
  {
   "cell_type": "code",
   "execution_count": 38,
   "metadata": {},
   "outputs": [
    {
     "data": {
      "text/plain": [
       "State            category\n",
       "Participation     float64\n",
       "English           float64\n",
       "Math              float64\n",
       "Reading           float64\n",
       "Science           float64\n",
       "Composite         float64\n",
       "dtype: object"
      ]
     },
     "execution_count": 38,
     "metadata": {},
     "output_type": "execute_result"
    }
   ],
   "source": [
    "act_2017.dtypes"
   ]
  },
  {
   "cell_type": "code",
   "execution_count": 39,
   "metadata": {},
   "outputs": [
    {
     "data": {
      "text/plain": [
       "State                                 category\n",
       "Participation                          float64\n",
       "Evidence-Based Reading and Writing       int64\n",
       "Math                                     int64\n",
       "Total                                    int64\n",
       "dtype: object"
      ]
     },
     "execution_count": 39,
     "metadata": {},
     "output_type": "execute_result"
    }
   ],
   "source": [
    "sat_2017.dtypes"
   ]
  },
  {
   "cell_type": "markdown",
   "metadata": {},
   "source": [
    "#### 7. Rename Columns\n",
    "Change the names of the columns to more expressive names so that you can tell the difference the SAT columns and the ACT columns. Your solution should map all column names being changed at once (no repeated singular name-changes). **We will be combining these data with some of the data from 2018, and so you should name columns in an appropriate way**.\n",
    "\n",
    "**Guidelines**:\n",
    "- Column names should be all lowercase (you will thank yourself when you start pushing data to SQL later in the course)\n",
    "- Column names should not contain spaces (underscores will suffice--this allows for using the `df.column_name` method to access columns in addition to `df['column_name']`.\n",
    "- Column names should be unique and informative (the only feature that we actually share between dataframes is the state)."
   ]
  },
  {
   "cell_type": "code",
   "execution_count": 40,
   "metadata": {},
   "outputs": [],
   "source": [
    "# ACT\n",
    "act_columns_dict = {\n",
    "    \"State\": \"state\",\n",
    "    \"Participation\": \"act_2017_participation\",\n",
    "    \"English\": \"act_2017_english\",\n",
    "    \"Math\": \"act_2017_math\",\n",
    "    \"Reading\": \"act_2017_reading\",\n",
    "    \"Science\": \"act_2017_science\",\n",
    "    \"Composite\": \"act_2017_composite\"\n",
    "}\n",
    "act_2017.rename(act_columns_dict, axis='columns', inplace=True)"
   ]
  },
  {
   "cell_type": "code",
   "execution_count": 41,
   "metadata": {},
   "outputs": [],
   "source": [
    "# SAT\n",
    "sat_columns_dict = {\n",
    "    \"State\": \"state\",\n",
    "    \"Participation\": \"sat_2017_participation\",\n",
    "    \"Evidence-Based Reading and Writing\": \"sat_2017_ebrw\",\n",
    "    \"Math\": \"sat_2017_math\",\n",
    "    \"Total\": \"sat_2017_total\"\n",
    "}\n",
    "\n",
    "sat_2017.rename(sat_columns_dict, axis='columns', inplace=True)"
   ]
  },
  {
   "cell_type": "markdown",
   "metadata": {},
   "source": [
    "#### 8. Create a data dictionary\n",
    "\n",
    "Now that we've fixed our data, and given it appropriate names, let's create a [data dictionary](http://library.ucmerced.edu/node/10249). \n",
    "\n",
    "A data dictionary provides a quick overview of features/variables/columns, alongside data types and descriptions. The more descriptive you can be, the more useful this document is.\n",
    "\n",
    "Example of a Fictional Data Dictionary Entry: \n",
    "\n",
    "|Feature|Type|Dataset|Description|\n",
    "|---|---|---|---|\n",
    "|**county_pop**|*integer*|2010 census|The population of the county (units in thousands, where 2.5 represents 2500 people).| \n",
    "|**per_poverty**|*float*|2010 census|The percent of the county over the age of 18 living below the 200% of official US poverty rate (units percent to two decimal places 98.10 means 98.1%)|\n",
    "\n",
    "[Here's a quick link to a short guide for formatting markdown in Jupyter notebooks](https://jupyter-notebook.readthedocs.io/en/stable/examples/Notebook/Working%20With%20Markdown%20Cells.html).\n",
    "\n",
    "Provided is the skeleton for formatting a markdown table, with columns headers that will help you create a data dictionary to quickly summarize your data, as well as some examples. **This would be a great thing to copy and paste into your custom README for this project.**"
   ]
  },
  {
   "cell_type": "markdown",
   "metadata": {},
   "source": [
    "|Feature|Type|Dataset|Description|\n",
    "|:---|:---|:---|:---|\n",
    "|**state**|*category*|act_2017, act_2018, sat_2017, sat_2018, combined_2017, combined_2018, final|One of the states in America|\n",
    "|**act_participation_2017**|*float*|act_2017, combined_2017, final|Participation rate (real number from 0 to 1 in two decimal places, i.e. ℝ ∈ [0,1])|\n",
    "|**act_english_2017**|*float*|act_2017, combined_2017, final|Score for the ACT's English section (real number from 1 to 36 in two decimal places, i.e. ℝ ∈ [1,36])|\n",
    "|**act_math_2017**|*float*|act_2017, combined_2017, final|Score for the ACT's Math section (real number from 1 to 36 in two decimal places, i.e. ℝ ∈ [1,36]) |\n",
    "|**act_reading_2017**|*float*|act_2017, combined_2017, final|Score for the ACT's Reading section (real number from 1 to 36 in two decimal places, i.e. ℝ ∈ [1,36]) |\n",
    "|**act_science_2017**|*float*|act_2017, combined_2017, final|Score for the ACT's Science section (real number from 1 to 36 in two decimal places, i.e. ℝ ∈ [1,36]) |\n",
    "|**act_composite_2017**|*float*|act_2017, combined_2017, final|Score for the ACT's Composite section (real number from 1 to 36 in two decimal places, i.e. ℝ ∈ [1,36]) |\n",
    "|**sat_participation_2017**|*float*|sat_2017, combined_2017, final|Participation rate (real number from 0 to 1 in two decimal places, i.e. ℝ ∈ [0,1]) |\n",
    "|**sat_ebrw_2017**|*int*|sat_2017, combined_2017, final|Score for the SAT's Evidence-Based Reading and Writing section (real number from 1 to 36 in two decimal places, i.e. ℤ ∈ [200,800]) |\n",
    "|**sat_math_2017**|*int*|sat_2017, combined_2017, final|Score for the SAT's Math section (real number from 1 to 36 in two decimal places, i.e. ℤ ∈ [200,800]) |\n",
    "|**sat_total_2017**|*int*|sat_2017, combined_2017, final|Score for the SAT's Total (real number from 1 to 36 in two decimal places, i.e. ℤ ∈ [400,1600]) |\n",
    "|**act_participation_2018**|*float*|act_2018, combined_2018, final|Participation rate (real number from 0 to 1 in two decimal places, i.e. ℝ ∈ [0,1])|\n",
    "|**act_english_2018**|*float*|act_2018, combined_2018, final|Score for the ACT's English section (real number from 1 to 36 in two decimal places, i.e. ℝ ∈ [1,36])|\n",
    "|**act_math_2018**|*float*|act_2018, combined_2018, final|Score for the ACT's Math section (real number from 1 to 36 in two decimal places, i.e. ℝ ∈ [1,36]) |\n",
    "|**act_reading_2018**|*float*|act_2018, combined_2018, final|Score for the ACT's Reading section (real number from 1 to 36 in two decimal places, i.e. ℝ ∈ [1,36]) |\n",
    "|**act_science_2018**|*float*|act_2018, combined_2018, final|Score for the ACT's Science section (real number from 1 to 36 in two decimal places, i.e. ℝ ∈ [1,36]) |\n",
    "|**act_composite_2018**|*float*|act_2018, combined_2018, final|Score for the ACT's Composite section (real number from 1 to 36 in two decimal places, i.e. ℝ ∈ [1,36]) |\n",
    "|**sat_participation_2018**|*float*|sat_2018, combined_2018, final|Participation rate (real number from 0 to 1 in two decimal places, i.e. ℝ ∈ [0,1]) |\n",
    "|**sat_ebrw_2018**|*int*|sat_2018, combined_2018, final|Score for the SAT's Evidence-Based Reading and Writing section (real number from 1 to 36 in two decimal places, i.e. ℤ ∈ [200,800]) |\n",
    "|**sat_math_2018**|*int*|sat_2018, combined_2018, final|Score for the SAT's Math section (real number from 1 to 36 in two decimal places, i.e. ℤ ∈ [200,800]) |\n",
    "|**sat_total_2018**|*int*|sat_2018, combined_2018, final|Score for the SAT's Total (real number from 1 to 36 in two decimal places, i.e. ℤ ∈ [400,1600]) |"
   ]
  },
  {
   "cell_type": "markdown",
   "metadata": {},
   "source": [
    "#### 9. Drop unnecessary rows\n",
    "\n",
    "One of our dataframes contains an extra row. Identify and remove this from the dataframe."
   ]
  },
  {
   "cell_type": "code",
   "execution_count": 42,
   "metadata": {},
   "outputs": [
    {
     "data": {
      "text/html": [
       "<div>\n",
       "<style scoped>\n",
       "    .dataframe tbody tr th:only-of-type {\n",
       "        vertical-align: middle;\n",
       "    }\n",
       "\n",
       "    .dataframe tbody tr th {\n",
       "        vertical-align: top;\n",
       "    }\n",
       "\n",
       "    .dataframe thead th {\n",
       "        text-align: right;\n",
       "    }\n",
       "</style>\n",
       "<table border=\"1\" class=\"dataframe\">\n",
       "  <thead>\n",
       "    <tr style=\"text-align: right;\">\n",
       "      <th></th>\n",
       "      <th>state</th>\n",
       "      <th>act_2017_participation</th>\n",
       "      <th>act_2017_english</th>\n",
       "      <th>act_2017_math</th>\n",
       "      <th>act_2017_reading</th>\n",
       "      <th>act_2017_science</th>\n",
       "      <th>act_2017_composite</th>\n",
       "    </tr>\n",
       "  </thead>\n",
       "  <tbody>\n",
       "  </tbody>\n",
       "</table>\n",
       "</div>"
      ],
      "text/plain": [
       "Empty DataFrame\n",
       "Columns: [state, act_2017_participation, act_2017_english, act_2017_math, act_2017_reading, act_2017_science, act_2017_composite]\n",
       "Index: []"
      ]
     },
     "execution_count": 42,
     "metadata": {},
     "output_type": "execute_result"
    }
   ],
   "source": [
    "# Drop duplicated rows\n",
    "act_2017[act_2017.duplicated()]"
   ]
  },
  {
   "cell_type": "code",
   "execution_count": 43,
   "metadata": {},
   "outputs": [],
   "source": [
    "act_2017.drop(act_2017[act_2017['state'] == 'National'].index, inplace=True)"
   ]
  },
  {
   "cell_type": "code",
   "execution_count": 44,
   "metadata": {},
   "outputs": [],
   "source": [
    "act_2017.reset_index(drop=True, inplace=True)"
   ]
  },
  {
   "cell_type": "code",
   "execution_count": 45,
   "metadata": {},
   "outputs": [
    {
     "data": {
      "text/html": [
       "<div>\n",
       "<style scoped>\n",
       "    .dataframe tbody tr th:only-of-type {\n",
       "        vertical-align: middle;\n",
       "    }\n",
       "\n",
       "    .dataframe tbody tr th {\n",
       "        vertical-align: top;\n",
       "    }\n",
       "\n",
       "    .dataframe thead th {\n",
       "        text-align: right;\n",
       "    }\n",
       "</style>\n",
       "<table border=\"1\" class=\"dataframe\">\n",
       "  <thead>\n",
       "    <tr style=\"text-align: right;\">\n",
       "      <th></th>\n",
       "      <th>state</th>\n",
       "      <th>sat_2017_participation</th>\n",
       "      <th>sat_2017_ebrw</th>\n",
       "      <th>sat_2017_math</th>\n",
       "      <th>sat_2017_total</th>\n",
       "    </tr>\n",
       "  </thead>\n",
       "  <tbody>\n",
       "  </tbody>\n",
       "</table>\n",
       "</div>"
      ],
      "text/plain": [
       "Empty DataFrame\n",
       "Columns: [state, sat_2017_participation, sat_2017_ebrw, sat_2017_math, sat_2017_total]\n",
       "Index: []"
      ]
     },
     "execution_count": 45,
     "metadata": {},
     "output_type": "execute_result"
    }
   ],
   "source": [
    "sat_2017[sat_2017.duplicated()]"
   ]
  },
  {
   "cell_type": "markdown",
   "metadata": {},
   "source": [
    "#### 10. Merge Dataframes\n",
    "\n",
    "Join the 2017 ACT and SAT dataframes using the state in each dataframe as the key. Assign this to a new variable."
   ]
  },
  {
   "cell_type": "code",
   "execution_count": 46,
   "metadata": {},
   "outputs": [],
   "source": [
    "combined_2017 = act_2017.merge(sat_2017, on='state')"
   ]
  },
  {
   "cell_type": "code",
   "execution_count": 47,
   "metadata": {},
   "outputs": [
    {
     "data": {
      "text/html": [
       "<div>\n",
       "<style scoped>\n",
       "    .dataframe tbody tr th:only-of-type {\n",
       "        vertical-align: middle;\n",
       "    }\n",
       "\n",
       "    .dataframe tbody tr th {\n",
       "        vertical-align: top;\n",
       "    }\n",
       "\n",
       "    .dataframe thead th {\n",
       "        text-align: right;\n",
       "    }\n",
       "</style>\n",
       "<table border=\"1\" class=\"dataframe\">\n",
       "  <thead>\n",
       "    <tr style=\"text-align: right;\">\n",
       "      <th></th>\n",
       "      <th>state</th>\n",
       "      <th>act_2017_participation</th>\n",
       "      <th>act_2017_english</th>\n",
       "      <th>act_2017_math</th>\n",
       "      <th>act_2017_reading</th>\n",
       "      <th>act_2017_science</th>\n",
       "      <th>act_2017_composite</th>\n",
       "      <th>sat_2017_participation</th>\n",
       "      <th>sat_2017_ebrw</th>\n",
       "      <th>sat_2017_math</th>\n",
       "      <th>sat_2017_total</th>\n",
       "    </tr>\n",
       "  </thead>\n",
       "  <tbody>\n",
       "    <tr>\n",
       "      <th>0</th>\n",
       "      <td>Alabama</td>\n",
       "      <td>1.00</td>\n",
       "      <td>18.9</td>\n",
       "      <td>18.4</td>\n",
       "      <td>19.7</td>\n",
       "      <td>19.4</td>\n",
       "      <td>19.2</td>\n",
       "      <td>0.05</td>\n",
       "      <td>593</td>\n",
       "      <td>572</td>\n",
       "      <td>1165</td>\n",
       "    </tr>\n",
       "    <tr>\n",
       "      <th>1</th>\n",
       "      <td>Alaska</td>\n",
       "      <td>0.65</td>\n",
       "      <td>18.7</td>\n",
       "      <td>19.8</td>\n",
       "      <td>20.4</td>\n",
       "      <td>19.9</td>\n",
       "      <td>19.8</td>\n",
       "      <td>0.38</td>\n",
       "      <td>547</td>\n",
       "      <td>533</td>\n",
       "      <td>1080</td>\n",
       "    </tr>\n",
       "    <tr>\n",
       "      <th>2</th>\n",
       "      <td>Arizona</td>\n",
       "      <td>0.62</td>\n",
       "      <td>18.6</td>\n",
       "      <td>19.8</td>\n",
       "      <td>20.1</td>\n",
       "      <td>19.8</td>\n",
       "      <td>19.7</td>\n",
       "      <td>0.30</td>\n",
       "      <td>563</td>\n",
       "      <td>553</td>\n",
       "      <td>1116</td>\n",
       "    </tr>\n",
       "    <tr>\n",
       "      <th>3</th>\n",
       "      <td>Arkansas</td>\n",
       "      <td>1.00</td>\n",
       "      <td>18.9</td>\n",
       "      <td>19.0</td>\n",
       "      <td>19.7</td>\n",
       "      <td>19.5</td>\n",
       "      <td>19.4</td>\n",
       "      <td>0.03</td>\n",
       "      <td>614</td>\n",
       "      <td>594</td>\n",
       "      <td>1208</td>\n",
       "    </tr>\n",
       "    <tr>\n",
       "      <th>4</th>\n",
       "      <td>California</td>\n",
       "      <td>0.31</td>\n",
       "      <td>22.5</td>\n",
       "      <td>22.7</td>\n",
       "      <td>23.1</td>\n",
       "      <td>22.2</td>\n",
       "      <td>22.8</td>\n",
       "      <td>0.53</td>\n",
       "      <td>531</td>\n",
       "      <td>524</td>\n",
       "      <td>1055</td>\n",
       "    </tr>\n",
       "  </tbody>\n",
       "</table>\n",
       "</div>"
      ],
      "text/plain": [
       "        state  act_2017_participation  act_2017_english  act_2017_math  \\\n",
       "0     Alabama                    1.00              18.9           18.4   \n",
       "1      Alaska                    0.65              18.7           19.8   \n",
       "2     Arizona                    0.62              18.6           19.8   \n",
       "3    Arkansas                    1.00              18.9           19.0   \n",
       "4  California                    0.31              22.5           22.7   \n",
       "\n",
       "   act_2017_reading  act_2017_science  act_2017_composite  \\\n",
       "0              19.7              19.4                19.2   \n",
       "1              20.4              19.9                19.8   \n",
       "2              20.1              19.8                19.7   \n",
       "3              19.7              19.5                19.4   \n",
       "4              23.1              22.2                22.8   \n",
       "\n",
       "   sat_2017_participation  sat_2017_ebrw  sat_2017_math  sat_2017_total  \n",
       "0                    0.05            593            572            1165  \n",
       "1                    0.38            547            533            1080  \n",
       "2                    0.30            563            553            1116  \n",
       "3                    0.03            614            594            1208  \n",
       "4                    0.53            531            524            1055  "
      ]
     },
     "execution_count": 47,
     "metadata": {},
     "output_type": "execute_result"
    }
   ],
   "source": [
    "combined_2017.head()"
   ]
  },
  {
   "cell_type": "markdown",
   "metadata": {},
   "source": [
    "#### 11. Save your cleaned, merged dataframe\n",
    "\n",
    "Use a relative path to save out your data as `combined_2017.csv`."
   ]
  },
  {
   "cell_type": "code",
   "execution_count": 48,
   "metadata": {},
   "outputs": [],
   "source": [
    "combined_2017.to_csv(\"../data/combined_2017.csv\")"
   ]
  },
  {
   "cell_type": "markdown",
   "metadata": {},
   "source": [
    "## 2018 Data Import and Cleaning"
   ]
  },
  {
   "cell_type": "markdown",
   "metadata": {},
   "source": [
    "Links to the 2018 ACT and SAT data are provided in the README. These data live in PDFs, and so you'll get to enjoy practicing some *manual* data collection. Save these data as a CSV in your `data` directory, and import, explore, and clean these data in the same way you did above. **Make sure you comment on your steps so it is clear *why* you are doing each process**."
   ]
  },
  {
   "cell_type": "markdown",
   "metadata": {},
   "source": [
    "#### 1. Read In SAT & ACT data for 2018"
   ]
  },
  {
   "cell_type": "code",
   "execution_count": 49,
   "metadata": {},
   "outputs": [],
   "source": [
    "act_2018 = pd.read_csv(\"../data/act_2018.csv\")\n",
    "sat_2018 = pd.read_csv(\"../data/sat_2018.csv\")"
   ]
  },
  {
   "cell_type": "markdown",
   "metadata": {},
   "source": [
    "#### 2. Display Data"
   ]
  },
  {
   "cell_type": "markdown",
   "metadata": {},
   "source": [
    "##### ACT 2018"
   ]
  },
  {
   "cell_type": "code",
   "execution_count": 50,
   "metadata": {},
   "outputs": [
    {
     "data": {
      "text/html": [
       "<div>\n",
       "<style scoped>\n",
       "    .dataframe tbody tr th:only-of-type {\n",
       "        vertical-align: middle;\n",
       "    }\n",
       "\n",
       "    .dataframe tbody tr th {\n",
       "        vertical-align: top;\n",
       "    }\n",
       "\n",
       "    .dataframe thead th {\n",
       "        text-align: right;\n",
       "    }\n",
       "</style>\n",
       "<table border=\"1\" class=\"dataframe\">\n",
       "  <thead>\n",
       "    <tr style=\"text-align: right;\">\n",
       "      <th></th>\n",
       "      <th>State</th>\n",
       "      <th>Percentage of Students Tested</th>\n",
       "      <th>Average Composite Score</th>\n",
       "      <th>Average English Score</th>\n",
       "      <th>Average Math Score</th>\n",
       "      <th>Average Reading Score</th>\n",
       "      <th>Average Science Score</th>\n",
       "    </tr>\n",
       "  </thead>\n",
       "  <tbody>\n",
       "    <tr>\n",
       "      <th>0</th>\n",
       "      <td>Alabama</td>\n",
       "      <td>100</td>\n",
       "      <td>19.1</td>\n",
       "      <td>18.9</td>\n",
       "      <td>18.3</td>\n",
       "      <td>19.6</td>\n",
       "      <td>19.0</td>\n",
       "    </tr>\n",
       "    <tr>\n",
       "      <th>1</th>\n",
       "      <td>Alaska</td>\n",
       "      <td>33</td>\n",
       "      <td>20.8</td>\n",
       "      <td>19.8</td>\n",
       "      <td>20.6</td>\n",
       "      <td>21.6</td>\n",
       "      <td>20.7</td>\n",
       "    </tr>\n",
       "    <tr>\n",
       "      <th>2</th>\n",
       "      <td>Arizona</td>\n",
       "      <td>66</td>\n",
       "      <td>19.2</td>\n",
       "      <td>18.2</td>\n",
       "      <td>19.4</td>\n",
       "      <td>19.5</td>\n",
       "      <td>19.2</td>\n",
       "    </tr>\n",
       "    <tr>\n",
       "      <th>3</th>\n",
       "      <td>Arkansas</td>\n",
       "      <td>100</td>\n",
       "      <td>19.4</td>\n",
       "      <td>19.1</td>\n",
       "      <td>18.9</td>\n",
       "      <td>19.7</td>\n",
       "      <td>19.4</td>\n",
       "    </tr>\n",
       "    <tr>\n",
       "      <th>4</th>\n",
       "      <td>California</td>\n",
       "      <td>27</td>\n",
       "      <td>22.7</td>\n",
       "      <td>22.5</td>\n",
       "      <td>22.5</td>\n",
       "      <td>23.0</td>\n",
       "      <td>22.1</td>\n",
       "    </tr>\n",
       "  </tbody>\n",
       "</table>\n",
       "</div>"
      ],
      "text/plain": [
       "        State  Percentage of Students Tested  Average Composite Score  \\\n",
       "0     Alabama                            100                     19.1   \n",
       "1      Alaska                             33                     20.8   \n",
       "2     Arizona                             66                     19.2   \n",
       "3    Arkansas                            100                     19.4   \n",
       "4  California                             27                     22.7   \n",
       "\n",
       "   Average English Score  Average Math Score  Average Reading Score  \\\n",
       "0                   18.9                18.3                   19.6   \n",
       "1                   19.8                20.6                   21.6   \n",
       "2                   18.2                19.4                   19.5   \n",
       "3                   19.1                18.9                   19.7   \n",
       "4                   22.5                22.5                   23.0   \n",
       "\n",
       "   Average Science Score  \n",
       "0                   19.0  \n",
       "1                   20.7  \n",
       "2                   19.2  \n",
       "3                   19.4  \n",
       "4                   22.1  "
      ]
     },
     "execution_count": 50,
     "metadata": {},
     "output_type": "execute_result"
    }
   ],
   "source": [
    "act_2018.head()"
   ]
  },
  {
   "cell_type": "code",
   "execution_count": 51,
   "metadata": {},
   "outputs": [
    {
     "data": {
      "text/plain": [
       "(51, 7)"
      ]
     },
     "execution_count": 51,
     "metadata": {},
     "output_type": "execute_result"
    }
   ],
   "source": [
    "act_2018.shape"
   ]
  },
  {
   "cell_type": "markdown",
   "metadata": {},
   "source": [
    "##### SAT 2018"
   ]
  },
  {
   "cell_type": "code",
   "execution_count": 52,
   "metadata": {},
   "outputs": [
    {
     "data": {
      "text/html": [
       "<div>\n",
       "<style scoped>\n",
       "    .dataframe tbody tr th:only-of-type {\n",
       "        vertical-align: middle;\n",
       "    }\n",
       "\n",
       "    .dataframe tbody tr th {\n",
       "        vertical-align: top;\n",
       "    }\n",
       "\n",
       "    .dataframe thead th {\n",
       "        text-align: right;\n",
       "    }\n",
       "</style>\n",
       "<table border=\"1\" class=\"dataframe\">\n",
       "  <thead>\n",
       "    <tr style=\"text-align: right;\">\n",
       "      <th></th>\n",
       "      <th>State</th>\n",
       "      <th>Participation</th>\n",
       "      <th>Evidence-Based Reading and Writing</th>\n",
       "      <th>Math</th>\n",
       "      <th>Total</th>\n",
       "    </tr>\n",
       "  </thead>\n",
       "  <tbody>\n",
       "    <tr>\n",
       "      <th>0</th>\n",
       "      <td>Alabama</td>\n",
       "      <td>6%</td>\n",
       "      <td>595</td>\n",
       "      <td>571</td>\n",
       "      <td>1166</td>\n",
       "    </tr>\n",
       "    <tr>\n",
       "      <th>1</th>\n",
       "      <td>Alaska</td>\n",
       "      <td>43%</td>\n",
       "      <td>562</td>\n",
       "      <td>544</td>\n",
       "      <td>1106</td>\n",
       "    </tr>\n",
       "    <tr>\n",
       "      <th>2</th>\n",
       "      <td>Arizona</td>\n",
       "      <td>29%</td>\n",
       "      <td>577</td>\n",
       "      <td>572</td>\n",
       "      <td>1149</td>\n",
       "    </tr>\n",
       "    <tr>\n",
       "      <th>3</th>\n",
       "      <td>Arkansas</td>\n",
       "      <td>5%</td>\n",
       "      <td>592</td>\n",
       "      <td>576</td>\n",
       "      <td>1169</td>\n",
       "    </tr>\n",
       "    <tr>\n",
       "      <th>4</th>\n",
       "      <td>California</td>\n",
       "      <td>60%</td>\n",
       "      <td>540</td>\n",
       "      <td>536</td>\n",
       "      <td>1076</td>\n",
       "    </tr>\n",
       "  </tbody>\n",
       "</table>\n",
       "</div>"
      ],
      "text/plain": [
       "        State Participation  Evidence-Based Reading and Writing  Math  Total\n",
       "0     Alabama            6%                                 595   571   1166\n",
       "1      Alaska           43%                                 562   544   1106\n",
       "2     Arizona           29%                                 577   572   1149\n",
       "3    Arkansas            5%                                 592   576   1169\n",
       "4  California           60%                                 540   536   1076"
      ]
     },
     "execution_count": 52,
     "metadata": {},
     "output_type": "execute_result"
    }
   ],
   "source": [
    "sat_2018.head()"
   ]
  },
  {
   "cell_type": "code",
   "execution_count": 53,
   "metadata": {},
   "outputs": [
    {
     "data": {
      "text/plain": [
       "(51, 5)"
      ]
     },
     "execution_count": 53,
     "metadata": {},
     "output_type": "execute_result"
    }
   ],
   "source": [
    "sat_2018.shape"
   ]
  },
  {
   "cell_type": "markdown",
   "metadata": {},
   "source": [
    "#### 3. Rename Columns"
   ]
  },
  {
   "cell_type": "code",
   "execution_count": 54,
   "metadata": {},
   "outputs": [],
   "source": [
    "act_columns_dict = {\n",
    "    \"State\": \"state\",\n",
    "    \"Percentage of Students Tested\": \"act_2018_participation\",\n",
    "    \"Average Composite Score\": \"act_2018_composite\",\n",
    "    \"Average English Score\": \"act_2018_english\",\n",
    "    \"Average Math Score\": \"act_2018_math\",\n",
    "    \"Average Reading Score\": \"act_2018_reading\",\n",
    "    \"Average Science Score\": \"act_2018_science\"\n",
    "}\n",
    "\n",
    "act_2018.rename(act_columns_dict, axis='columns', inplace=True)"
   ]
  },
  {
   "cell_type": "code",
   "execution_count": 55,
   "metadata": {},
   "outputs": [],
   "source": [
    "sat_columns_dict = {\n",
    "    'State': 'state',\n",
    "    'Participation': 'sat_2018_participation',\n",
    "    'Evidence-Based Reading and Writing': 'sat_2018_ebrw',\n",
    "    'Math': 'sat_2018_math',\n",
    "    'Total': 'sat_2018_total'\n",
    "}\n",
    "\n",
    "sat_2018.rename(sat_columns_dict, axis='columns', inplace=True)"
   ]
  },
  {
   "cell_type": "markdown",
   "metadata": {},
   "source": [
    "#### 4. Verbally Describe Data"
   ]
  },
  {
   "cell_type": "code",
   "execution_count": 56,
   "metadata": {},
   "outputs": [
    {
     "data": {
      "text/html": [
       "<div>\n",
       "<style scoped>\n",
       "    .dataframe tbody tr th:only-of-type {\n",
       "        vertical-align: middle;\n",
       "    }\n",
       "\n",
       "    .dataframe tbody tr th {\n",
       "        vertical-align: top;\n",
       "    }\n",
       "\n",
       "    .dataframe thead th {\n",
       "        text-align: right;\n",
       "    }\n",
       "</style>\n",
       "<table border=\"1\" class=\"dataframe\">\n",
       "  <thead>\n",
       "    <tr style=\"text-align: right;\">\n",
       "      <th></th>\n",
       "      <th>act_2018_participation</th>\n",
       "      <th>act_2018_composite</th>\n",
       "      <th>act_2018_english</th>\n",
       "      <th>act_2018_math</th>\n",
       "      <th>act_2018_reading</th>\n",
       "      <th>act_2018_science</th>\n",
       "    </tr>\n",
       "  </thead>\n",
       "  <tbody>\n",
       "    <tr>\n",
       "      <th>count</th>\n",
       "      <td>51.000000</td>\n",
       "      <td>51.000000</td>\n",
       "      <td>51.000000</td>\n",
       "      <td>51.000000</td>\n",
       "      <td>51.000000</td>\n",
       "      <td>51.000000</td>\n",
       "    </tr>\n",
       "    <tr>\n",
       "      <th>mean</th>\n",
       "      <td>61.647059</td>\n",
       "      <td>21.486275</td>\n",
       "      <td>20.988235</td>\n",
       "      <td>21.125490</td>\n",
       "      <td>22.015686</td>\n",
       "      <td>21.345098</td>\n",
       "    </tr>\n",
       "    <tr>\n",
       "      <th>std</th>\n",
       "      <td>34.080976</td>\n",
       "      <td>2.106278</td>\n",
       "      <td>2.446356</td>\n",
       "      <td>2.035765</td>\n",
       "      <td>2.167245</td>\n",
       "      <td>1.870114</td>\n",
       "    </tr>\n",
       "    <tr>\n",
       "      <th>min</th>\n",
       "      <td>7.000000</td>\n",
       "      <td>17.700000</td>\n",
       "      <td>16.600000</td>\n",
       "      <td>17.800000</td>\n",
       "      <td>18.000000</td>\n",
       "      <td>17.900000</td>\n",
       "    </tr>\n",
       "    <tr>\n",
       "      <th>25%</th>\n",
       "      <td>28.500000</td>\n",
       "      <td>19.950000</td>\n",
       "      <td>19.100000</td>\n",
       "      <td>19.400000</td>\n",
       "      <td>20.450000</td>\n",
       "      <td>19.850000</td>\n",
       "    </tr>\n",
       "    <tr>\n",
       "      <th>50%</th>\n",
       "      <td>66.000000</td>\n",
       "      <td>21.300000</td>\n",
       "      <td>20.200000</td>\n",
       "      <td>20.700000</td>\n",
       "      <td>21.600000</td>\n",
       "      <td>21.100000</td>\n",
       "    </tr>\n",
       "    <tr>\n",
       "      <th>75%</th>\n",
       "      <td>100.000000</td>\n",
       "      <td>23.550000</td>\n",
       "      <td>23.700000</td>\n",
       "      <td>23.150000</td>\n",
       "      <td>24.100000</td>\n",
       "      <td>23.050000</td>\n",
       "    </tr>\n",
       "    <tr>\n",
       "      <th>max</th>\n",
       "      <td>100.000000</td>\n",
       "      <td>25.600000</td>\n",
       "      <td>26.000000</td>\n",
       "      <td>25.200000</td>\n",
       "      <td>26.100000</td>\n",
       "      <td>24.900000</td>\n",
       "    </tr>\n",
       "  </tbody>\n",
       "</table>\n",
       "</div>"
      ],
      "text/plain": [
       "       act_2018_participation  act_2018_composite  act_2018_english  \\\n",
       "count               51.000000           51.000000         51.000000   \n",
       "mean                61.647059           21.486275         20.988235   \n",
       "std                 34.080976            2.106278          2.446356   \n",
       "min                  7.000000           17.700000         16.600000   \n",
       "25%                 28.500000           19.950000         19.100000   \n",
       "50%                 66.000000           21.300000         20.200000   \n",
       "75%                100.000000           23.550000         23.700000   \n",
       "max                100.000000           25.600000         26.000000   \n",
       "\n",
       "       act_2018_math  act_2018_reading  act_2018_science  \n",
       "count      51.000000         51.000000         51.000000  \n",
       "mean       21.125490         22.015686         21.345098  \n",
       "std         2.035765          2.167245          1.870114  \n",
       "min        17.800000         18.000000         17.900000  \n",
       "25%        19.400000         20.450000         19.850000  \n",
       "50%        20.700000         21.600000         21.100000  \n",
       "75%        23.150000         24.100000         23.050000  \n",
       "max        25.200000         26.100000         24.900000  "
      ]
     },
     "execution_count": 56,
     "metadata": {},
     "output_type": "execute_result"
    }
   ],
   "source": [
    "act_2018.describe()"
   ]
  },
  {
   "cell_type": "code",
   "execution_count": 57,
   "metadata": {},
   "outputs": [
    {
     "name": "stdout",
     "output_type": "stream",
     "text": [
      "<class 'pandas.core.frame.DataFrame'>\n",
      "RangeIndex: 51 entries, 0 to 50\n",
      "Data columns (total 7 columns):\n",
      "state                     51 non-null object\n",
      "act_2018_participation    51 non-null int64\n",
      "act_2018_composite        51 non-null float64\n",
      "act_2018_english          51 non-null float64\n",
      "act_2018_math             51 non-null float64\n",
      "act_2018_reading          51 non-null float64\n",
      "act_2018_science          51 non-null float64\n",
      "dtypes: float64(5), int64(1), object(1)\n",
      "memory usage: 2.9+ KB\n"
     ]
    }
   ],
   "source": [
    "act_2018.info()"
   ]
  },
  {
   "cell_type": "code",
   "execution_count": 58,
   "metadata": {},
   "outputs": [
    {
     "data": {
      "text/html": [
       "<div>\n",
       "<style scoped>\n",
       "    .dataframe tbody tr th:only-of-type {\n",
       "        vertical-align: middle;\n",
       "    }\n",
       "\n",
       "    .dataframe tbody tr th {\n",
       "        vertical-align: top;\n",
       "    }\n",
       "\n",
       "    .dataframe thead th {\n",
       "        text-align: right;\n",
       "    }\n",
       "</style>\n",
       "<table border=\"1\" class=\"dataframe\">\n",
       "  <thead>\n",
       "    <tr style=\"text-align: right;\">\n",
       "      <th></th>\n",
       "      <th>sat_2018_ebrw</th>\n",
       "      <th>sat_2018_math</th>\n",
       "      <th>sat_2018_total</th>\n",
       "    </tr>\n",
       "  </thead>\n",
       "  <tbody>\n",
       "    <tr>\n",
       "      <th>count</th>\n",
       "      <td>51.000000</td>\n",
       "      <td>51.000000</td>\n",
       "      <td>51.000000</td>\n",
       "    </tr>\n",
       "    <tr>\n",
       "      <th>mean</th>\n",
       "      <td>563.686275</td>\n",
       "      <td>556.235294</td>\n",
       "      <td>1120.019608</td>\n",
       "    </tr>\n",
       "    <tr>\n",
       "      <th>std</th>\n",
       "      <td>47.502627</td>\n",
       "      <td>47.772623</td>\n",
       "      <td>94.155083</td>\n",
       "    </tr>\n",
       "    <tr>\n",
       "      <th>min</th>\n",
       "      <td>480.000000</td>\n",
       "      <td>480.000000</td>\n",
       "      <td>977.000000</td>\n",
       "    </tr>\n",
       "    <tr>\n",
       "      <th>25%</th>\n",
       "      <td>534.500000</td>\n",
       "      <td>522.500000</td>\n",
       "      <td>1057.500000</td>\n",
       "    </tr>\n",
       "    <tr>\n",
       "      <th>50%</th>\n",
       "      <td>552.000000</td>\n",
       "      <td>544.000000</td>\n",
       "      <td>1098.000000</td>\n",
       "    </tr>\n",
       "    <tr>\n",
       "      <th>75%</th>\n",
       "      <td>610.500000</td>\n",
       "      <td>593.500000</td>\n",
       "      <td>1204.000000</td>\n",
       "    </tr>\n",
       "    <tr>\n",
       "      <th>max</th>\n",
       "      <td>643.000000</td>\n",
       "      <td>655.000000</td>\n",
       "      <td>1298.000000</td>\n",
       "    </tr>\n",
       "  </tbody>\n",
       "</table>\n",
       "</div>"
      ],
      "text/plain": [
       "       sat_2018_ebrw  sat_2018_math  sat_2018_total\n",
       "count      51.000000      51.000000       51.000000\n",
       "mean      563.686275     556.235294     1120.019608\n",
       "std        47.502627      47.772623       94.155083\n",
       "min       480.000000     480.000000      977.000000\n",
       "25%       534.500000     522.500000     1057.500000\n",
       "50%       552.000000     544.000000     1098.000000\n",
       "75%       610.500000     593.500000     1204.000000\n",
       "max       643.000000     655.000000     1298.000000"
      ]
     },
     "execution_count": 58,
     "metadata": {},
     "output_type": "execute_result"
    }
   ],
   "source": [
    "sat_2018.describe()"
   ]
  },
  {
   "cell_type": "code",
   "execution_count": 59,
   "metadata": {},
   "outputs": [
    {
     "name": "stdout",
     "output_type": "stream",
     "text": [
      "<class 'pandas.core.frame.DataFrame'>\n",
      "RangeIndex: 51 entries, 0 to 50\n",
      "Data columns (total 5 columns):\n",
      "state                     51 non-null object\n",
      "sat_2018_participation    51 non-null object\n",
      "sat_2018_ebrw             51 non-null int64\n",
      "sat_2018_math             51 non-null int64\n",
      "sat_2018_total            51 non-null int64\n",
      "dtypes: int64(3), object(2)\n",
      "memory usage: 2.1+ KB\n"
     ]
    }
   ],
   "source": [
    "sat_2018.info()"
   ]
  },
  {
   "cell_type": "markdown",
   "metadata": {},
   "source": [
    "#### 5a. Does the data look complete?"
   ]
  },
  {
   "cell_type": "code",
   "execution_count": 60,
   "metadata": {},
   "outputs": [
    {
     "data": {
      "text/plain": [
       "state                     0\n",
       "act_2018_participation    0\n",
       "act_2018_composite        0\n",
       "act_2018_english          0\n",
       "act_2018_math             0\n",
       "act_2018_reading          0\n",
       "act_2018_science          0\n",
       "dtype: int64"
      ]
     },
     "execution_count": 60,
     "metadata": {},
     "output_type": "execute_result"
    }
   ],
   "source": [
    "act_2018.isnull().sum()"
   ]
  },
  {
   "cell_type": "code",
   "execution_count": 61,
   "metadata": {},
   "outputs": [
    {
     "data": {
      "text/plain": [
       "state                     0\n",
       "sat_2018_participation    0\n",
       "sat_2018_ebrw             0\n",
       "sat_2018_math             0\n",
       "sat_2018_total            0\n",
       "dtype: int64"
      ]
     },
     "execution_count": 61,
     "metadata": {},
     "output_type": "execute_result"
    }
   ],
   "source": [
    "sat_2018.isnull().sum()"
   ]
  },
  {
   "cell_type": "markdown",
   "metadata": {},
   "source": [
    "#### 5b. Are there any obvious issues with the observations?"
   ]
  },
  {
   "cell_type": "markdown",
   "metadata": {},
   "source": [
    "act_2018_participation falls within the range of 7 and 100 inclusive and should be converted to a real number between 0 and 1.\n",
    "\n",
    "sat_2018_participation should be of float type between 0 and 1."
   ]
  },
  {
   "cell_type": "markdown",
   "metadata": {},
   "source": [
    "#### 5c. Fix any errors you identified"
   ]
  },
  {
   "cell_type": "code",
   "execution_count": 62,
   "metadata": {},
   "outputs": [],
   "source": [
    "act_2018['state'] = act_2018['state'].astype('category')"
   ]
  },
  {
   "cell_type": "code",
   "execution_count": 63,
   "metadata": {},
   "outputs": [],
   "source": [
    "# Convert participation rate from integer to float which falls within 0 and 1 inclusive\n",
    "act_2018['act_2018_participation'] = act_2018['act_2018_participation'].apply(lambda x: x/100)"
   ]
  },
  {
   "cell_type": "code",
   "execution_count": 64,
   "metadata": {},
   "outputs": [
    {
     "data": {
      "text/html": [
       "<div>\n",
       "<style scoped>\n",
       "    .dataframe tbody tr th:only-of-type {\n",
       "        vertical-align: middle;\n",
       "    }\n",
       "\n",
       "    .dataframe tbody tr th {\n",
       "        vertical-align: top;\n",
       "    }\n",
       "\n",
       "    .dataframe thead th {\n",
       "        text-align: right;\n",
       "    }\n",
       "</style>\n",
       "<table border=\"1\" class=\"dataframe\">\n",
       "  <thead>\n",
       "    <tr style=\"text-align: right;\">\n",
       "      <th></th>\n",
       "      <th>state</th>\n",
       "      <th>act_2018_participation</th>\n",
       "      <th>act_2018_composite</th>\n",
       "      <th>act_2018_english</th>\n",
       "      <th>act_2018_math</th>\n",
       "      <th>act_2018_reading</th>\n",
       "      <th>act_2018_science</th>\n",
       "    </tr>\n",
       "  </thead>\n",
       "  <tbody>\n",
       "  </tbody>\n",
       "</table>\n",
       "</div>"
      ],
      "text/plain": [
       "Empty DataFrame\n",
       "Columns: [state, act_2018_participation, act_2018_composite, act_2018_english, act_2018_math, act_2018_reading, act_2018_science]\n",
       "Index: []"
      ]
     },
     "execution_count": 64,
     "metadata": {},
     "output_type": "execute_result"
    }
   ],
   "source": [
    "# Check if the participation rate falls within 0 and 1 inclusive; somewhat unnecessary since describe is used\n",
    "act_2018[~((act_2018['act_2018_participation'] >= 0) & (act_2018['act_2018_participation'] <=1))]"
   ]
  },
  {
   "cell_type": "code",
   "execution_count": 65,
   "metadata": {},
   "outputs": [],
   "source": [
    "sat_2018['state'] = sat_2018['state'].astype('category')"
   ]
  },
  {
   "cell_type": "code",
   "execution_count": 66,
   "metadata": {},
   "outputs": [],
   "source": [
    "sat_2018['sat_2018_participation'] = sat_2018['sat_2018_participation'].map(lambda x: float(x.replace('%', ''))/100)"
   ]
  },
  {
   "cell_type": "code",
   "execution_count": 67,
   "metadata": {},
   "outputs": [
    {
     "data": {
      "text/html": [
       "<div>\n",
       "<style scoped>\n",
       "    .dataframe tbody tr th:only-of-type {\n",
       "        vertical-align: middle;\n",
       "    }\n",
       "\n",
       "    .dataframe tbody tr th {\n",
       "        vertical-align: top;\n",
       "    }\n",
       "\n",
       "    .dataframe thead th {\n",
       "        text-align: right;\n",
       "    }\n",
       "</style>\n",
       "<table border=\"1\" class=\"dataframe\">\n",
       "  <thead>\n",
       "    <tr style=\"text-align: right;\">\n",
       "      <th></th>\n",
       "      <th>state</th>\n",
       "      <th>sat_2018_participation</th>\n",
       "      <th>sat_2018_ebrw</th>\n",
       "      <th>sat_2018_math</th>\n",
       "      <th>sat_2018_total</th>\n",
       "    </tr>\n",
       "  </thead>\n",
       "  <tbody>\n",
       "  </tbody>\n",
       "</table>\n",
       "</div>"
      ],
      "text/plain": [
       "Empty DataFrame\n",
       "Columns: [state, sat_2018_participation, sat_2018_ebrw, sat_2018_math, sat_2018_total]\n",
       "Index: []"
      ]
     },
     "execution_count": 67,
     "metadata": {},
     "output_type": "execute_result"
    }
   ],
   "source": [
    "# Check if the participation rate falls within 0 and 1 inclusive; somewhat unnecessary since describe is used\n",
    "sat_2018[~((sat_2018['sat_2018_participation'] >= 0) & (sat_2018['sat_2018_participation'] <=1))]"
   ]
  },
  {
   "cell_type": "markdown",
   "metadata": {},
   "source": [
    "#### Combine your 2017 and 2018 data into a single dataframe\n",
    "Joining on state names should work, assuming you formatted all your state names identically. Make sure none of your columns (other than state) have identical names. Do yourself a favor and decide if you're encoding participation rates as floats or integers and standardize this across your datasets.\n",
    "\n",
    "Save the contents of this merged dataframe as `final.csv`.\n",
    "\n",
    "**Use this combined dataframe for the remainder of the project**."
   ]
  },
  {
   "cell_type": "code",
   "execution_count": 68,
   "metadata": {},
   "outputs": [],
   "source": [
    "combined_2018 = act_2018.merge(sat_2018, on='state')"
   ]
  },
  {
   "cell_type": "code",
   "execution_count": 69,
   "metadata": {},
   "outputs": [
    {
     "data": {
      "text/html": [
       "<div>\n",
       "<style scoped>\n",
       "    .dataframe tbody tr th:only-of-type {\n",
       "        vertical-align: middle;\n",
       "    }\n",
       "\n",
       "    .dataframe tbody tr th {\n",
       "        vertical-align: top;\n",
       "    }\n",
       "\n",
       "    .dataframe thead th {\n",
       "        text-align: right;\n",
       "    }\n",
       "</style>\n",
       "<table border=\"1\" class=\"dataframe\">\n",
       "  <thead>\n",
       "    <tr style=\"text-align: right;\">\n",
       "      <th></th>\n",
       "      <th>state</th>\n",
       "      <th>act_2018_participation</th>\n",
       "      <th>act_2018_composite</th>\n",
       "      <th>act_2018_english</th>\n",
       "      <th>act_2018_math</th>\n",
       "      <th>act_2018_reading</th>\n",
       "      <th>act_2018_science</th>\n",
       "      <th>sat_2018_participation</th>\n",
       "      <th>sat_2018_ebrw</th>\n",
       "      <th>sat_2018_math</th>\n",
       "      <th>sat_2018_total</th>\n",
       "    </tr>\n",
       "  </thead>\n",
       "  <tbody>\n",
       "    <tr>\n",
       "      <th>0</th>\n",
       "      <td>Alabama</td>\n",
       "      <td>1.00</td>\n",
       "      <td>19.1</td>\n",
       "      <td>18.9</td>\n",
       "      <td>18.3</td>\n",
       "      <td>19.6</td>\n",
       "      <td>19.0</td>\n",
       "      <td>0.06</td>\n",
       "      <td>595</td>\n",
       "      <td>571</td>\n",
       "      <td>1166</td>\n",
       "    </tr>\n",
       "    <tr>\n",
       "      <th>1</th>\n",
       "      <td>Alaska</td>\n",
       "      <td>0.33</td>\n",
       "      <td>20.8</td>\n",
       "      <td>19.8</td>\n",
       "      <td>20.6</td>\n",
       "      <td>21.6</td>\n",
       "      <td>20.7</td>\n",
       "      <td>0.43</td>\n",
       "      <td>562</td>\n",
       "      <td>544</td>\n",
       "      <td>1106</td>\n",
       "    </tr>\n",
       "    <tr>\n",
       "      <th>2</th>\n",
       "      <td>Arizona</td>\n",
       "      <td>0.66</td>\n",
       "      <td>19.2</td>\n",
       "      <td>18.2</td>\n",
       "      <td>19.4</td>\n",
       "      <td>19.5</td>\n",
       "      <td>19.2</td>\n",
       "      <td>0.29</td>\n",
       "      <td>577</td>\n",
       "      <td>572</td>\n",
       "      <td>1149</td>\n",
       "    </tr>\n",
       "    <tr>\n",
       "      <th>3</th>\n",
       "      <td>Arkansas</td>\n",
       "      <td>1.00</td>\n",
       "      <td>19.4</td>\n",
       "      <td>19.1</td>\n",
       "      <td>18.9</td>\n",
       "      <td>19.7</td>\n",
       "      <td>19.4</td>\n",
       "      <td>0.05</td>\n",
       "      <td>592</td>\n",
       "      <td>576</td>\n",
       "      <td>1169</td>\n",
       "    </tr>\n",
       "    <tr>\n",
       "      <th>4</th>\n",
       "      <td>California</td>\n",
       "      <td>0.27</td>\n",
       "      <td>22.7</td>\n",
       "      <td>22.5</td>\n",
       "      <td>22.5</td>\n",
       "      <td>23.0</td>\n",
       "      <td>22.1</td>\n",
       "      <td>0.60</td>\n",
       "      <td>540</td>\n",
       "      <td>536</td>\n",
       "      <td>1076</td>\n",
       "    </tr>\n",
       "  </tbody>\n",
       "</table>\n",
       "</div>"
      ],
      "text/plain": [
       "        state  act_2018_participation  act_2018_composite  act_2018_english  \\\n",
       "0     Alabama                    1.00                19.1              18.9   \n",
       "1      Alaska                    0.33                20.8              19.8   \n",
       "2     Arizona                    0.66                19.2              18.2   \n",
       "3    Arkansas                    1.00                19.4              19.1   \n",
       "4  California                    0.27                22.7              22.5   \n",
       "\n",
       "   act_2018_math  act_2018_reading  act_2018_science  sat_2018_participation  \\\n",
       "0           18.3              19.6              19.0                    0.06   \n",
       "1           20.6              21.6              20.7                    0.43   \n",
       "2           19.4              19.5              19.2                    0.29   \n",
       "3           18.9              19.7              19.4                    0.05   \n",
       "4           22.5              23.0              22.1                    0.60   \n",
       "\n",
       "   sat_2018_ebrw  sat_2018_math  sat_2018_total  \n",
       "0            595            571            1166  \n",
       "1            562            544            1106  \n",
       "2            577            572            1149  \n",
       "3            592            576            1169  \n",
       "4            540            536            1076  "
      ]
     },
     "execution_count": 69,
     "metadata": {},
     "output_type": "execute_result"
    }
   ],
   "source": [
    "combined_2018.head()"
   ]
  },
  {
   "cell_type": "code",
   "execution_count": 70,
   "metadata": {},
   "outputs": [
    {
     "data": {
      "text/plain": [
       "(51, 11)"
      ]
     },
     "execution_count": 70,
     "metadata": {},
     "output_type": "execute_result"
    }
   ],
   "source": [
    "combined_2018.shape"
   ]
  },
  {
   "cell_type": "code",
   "execution_count": 71,
   "metadata": {},
   "outputs": [],
   "source": [
    "final = combined_2017.merge(combined_2018, on='state')"
   ]
  },
  {
   "cell_type": "code",
   "execution_count": 72,
   "metadata": {},
   "outputs": [
    {
     "data": {
      "text/html": [
       "<div>\n",
       "<style scoped>\n",
       "    .dataframe tbody tr th:only-of-type {\n",
       "        vertical-align: middle;\n",
       "    }\n",
       "\n",
       "    .dataframe tbody tr th {\n",
       "        vertical-align: top;\n",
       "    }\n",
       "\n",
       "    .dataframe thead th {\n",
       "        text-align: right;\n",
       "    }\n",
       "</style>\n",
       "<table border=\"1\" class=\"dataframe\">\n",
       "  <thead>\n",
       "    <tr style=\"text-align: right;\">\n",
       "      <th></th>\n",
       "      <th>state</th>\n",
       "      <th>act_2017_participation</th>\n",
       "      <th>act_2017_english</th>\n",
       "      <th>act_2017_math</th>\n",
       "      <th>act_2017_reading</th>\n",
       "      <th>act_2017_science</th>\n",
       "      <th>act_2017_composite</th>\n",
       "      <th>sat_2017_participation</th>\n",
       "      <th>sat_2017_ebrw</th>\n",
       "      <th>sat_2017_math</th>\n",
       "      <th>...</th>\n",
       "      <th>act_2018_participation</th>\n",
       "      <th>act_2018_composite</th>\n",
       "      <th>act_2018_english</th>\n",
       "      <th>act_2018_math</th>\n",
       "      <th>act_2018_reading</th>\n",
       "      <th>act_2018_science</th>\n",
       "      <th>sat_2018_participation</th>\n",
       "      <th>sat_2018_ebrw</th>\n",
       "      <th>sat_2018_math</th>\n",
       "      <th>sat_2018_total</th>\n",
       "    </tr>\n",
       "  </thead>\n",
       "  <tbody>\n",
       "    <tr>\n",
       "      <th>0</th>\n",
       "      <td>Alabama</td>\n",
       "      <td>1.00</td>\n",
       "      <td>18.9</td>\n",
       "      <td>18.4</td>\n",
       "      <td>19.7</td>\n",
       "      <td>19.4</td>\n",
       "      <td>19.2</td>\n",
       "      <td>0.05</td>\n",
       "      <td>593</td>\n",
       "      <td>572</td>\n",
       "      <td>...</td>\n",
       "      <td>1.00</td>\n",
       "      <td>19.1</td>\n",
       "      <td>18.9</td>\n",
       "      <td>18.3</td>\n",
       "      <td>19.6</td>\n",
       "      <td>19.0</td>\n",
       "      <td>0.06</td>\n",
       "      <td>595</td>\n",
       "      <td>571</td>\n",
       "      <td>1166</td>\n",
       "    </tr>\n",
       "    <tr>\n",
       "      <th>1</th>\n",
       "      <td>Alaska</td>\n",
       "      <td>0.65</td>\n",
       "      <td>18.7</td>\n",
       "      <td>19.8</td>\n",
       "      <td>20.4</td>\n",
       "      <td>19.9</td>\n",
       "      <td>19.8</td>\n",
       "      <td>0.38</td>\n",
       "      <td>547</td>\n",
       "      <td>533</td>\n",
       "      <td>...</td>\n",
       "      <td>0.33</td>\n",
       "      <td>20.8</td>\n",
       "      <td>19.8</td>\n",
       "      <td>20.6</td>\n",
       "      <td>21.6</td>\n",
       "      <td>20.7</td>\n",
       "      <td>0.43</td>\n",
       "      <td>562</td>\n",
       "      <td>544</td>\n",
       "      <td>1106</td>\n",
       "    </tr>\n",
       "    <tr>\n",
       "      <th>2</th>\n",
       "      <td>Arizona</td>\n",
       "      <td>0.62</td>\n",
       "      <td>18.6</td>\n",
       "      <td>19.8</td>\n",
       "      <td>20.1</td>\n",
       "      <td>19.8</td>\n",
       "      <td>19.7</td>\n",
       "      <td>0.30</td>\n",
       "      <td>563</td>\n",
       "      <td>553</td>\n",
       "      <td>...</td>\n",
       "      <td>0.66</td>\n",
       "      <td>19.2</td>\n",
       "      <td>18.2</td>\n",
       "      <td>19.4</td>\n",
       "      <td>19.5</td>\n",
       "      <td>19.2</td>\n",
       "      <td>0.29</td>\n",
       "      <td>577</td>\n",
       "      <td>572</td>\n",
       "      <td>1149</td>\n",
       "    </tr>\n",
       "    <tr>\n",
       "      <th>3</th>\n",
       "      <td>Arkansas</td>\n",
       "      <td>1.00</td>\n",
       "      <td>18.9</td>\n",
       "      <td>19.0</td>\n",
       "      <td>19.7</td>\n",
       "      <td>19.5</td>\n",
       "      <td>19.4</td>\n",
       "      <td>0.03</td>\n",
       "      <td>614</td>\n",
       "      <td>594</td>\n",
       "      <td>...</td>\n",
       "      <td>1.00</td>\n",
       "      <td>19.4</td>\n",
       "      <td>19.1</td>\n",
       "      <td>18.9</td>\n",
       "      <td>19.7</td>\n",
       "      <td>19.4</td>\n",
       "      <td>0.05</td>\n",
       "      <td>592</td>\n",
       "      <td>576</td>\n",
       "      <td>1169</td>\n",
       "    </tr>\n",
       "    <tr>\n",
       "      <th>4</th>\n",
       "      <td>California</td>\n",
       "      <td>0.31</td>\n",
       "      <td>22.5</td>\n",
       "      <td>22.7</td>\n",
       "      <td>23.1</td>\n",
       "      <td>22.2</td>\n",
       "      <td>22.8</td>\n",
       "      <td>0.53</td>\n",
       "      <td>531</td>\n",
       "      <td>524</td>\n",
       "      <td>...</td>\n",
       "      <td>0.27</td>\n",
       "      <td>22.7</td>\n",
       "      <td>22.5</td>\n",
       "      <td>22.5</td>\n",
       "      <td>23.0</td>\n",
       "      <td>22.1</td>\n",
       "      <td>0.60</td>\n",
       "      <td>540</td>\n",
       "      <td>536</td>\n",
       "      <td>1076</td>\n",
       "    </tr>\n",
       "  </tbody>\n",
       "</table>\n",
       "<p>5 rows × 21 columns</p>\n",
       "</div>"
      ],
      "text/plain": [
       "        state  act_2017_participation  act_2017_english  act_2017_math  \\\n",
       "0     Alabama                    1.00              18.9           18.4   \n",
       "1      Alaska                    0.65              18.7           19.8   \n",
       "2     Arizona                    0.62              18.6           19.8   \n",
       "3    Arkansas                    1.00              18.9           19.0   \n",
       "4  California                    0.31              22.5           22.7   \n",
       "\n",
       "   act_2017_reading  act_2017_science  act_2017_composite  \\\n",
       "0              19.7              19.4                19.2   \n",
       "1              20.4              19.9                19.8   \n",
       "2              20.1              19.8                19.7   \n",
       "3              19.7              19.5                19.4   \n",
       "4              23.1              22.2                22.8   \n",
       "\n",
       "   sat_2017_participation  sat_2017_ebrw  sat_2017_math  ...  \\\n",
       "0                    0.05            593            572  ...   \n",
       "1                    0.38            547            533  ...   \n",
       "2                    0.30            563            553  ...   \n",
       "3                    0.03            614            594  ...   \n",
       "4                    0.53            531            524  ...   \n",
       "\n",
       "   act_2018_participation  act_2018_composite  act_2018_english  \\\n",
       "0                    1.00                19.1              18.9   \n",
       "1                    0.33                20.8              19.8   \n",
       "2                    0.66                19.2              18.2   \n",
       "3                    1.00                19.4              19.1   \n",
       "4                    0.27                22.7              22.5   \n",
       "\n",
       "   act_2018_math  act_2018_reading  act_2018_science  sat_2018_participation  \\\n",
       "0           18.3              19.6              19.0                    0.06   \n",
       "1           20.6              21.6              20.7                    0.43   \n",
       "2           19.4              19.5              19.2                    0.29   \n",
       "3           18.9              19.7              19.4                    0.05   \n",
       "4           22.5              23.0              22.1                    0.60   \n",
       "\n",
       "   sat_2018_ebrw  sat_2018_math  sat_2018_total  \n",
       "0            595            571            1166  \n",
       "1            562            544            1106  \n",
       "2            577            572            1149  \n",
       "3            592            576            1169  \n",
       "4            540            536            1076  \n",
       "\n",
       "[5 rows x 21 columns]"
      ]
     },
     "execution_count": 72,
     "metadata": {},
     "output_type": "execute_result"
    }
   ],
   "source": [
    "final.head()"
   ]
  },
  {
   "cell_type": "code",
   "execution_count": 73,
   "metadata": {},
   "outputs": [
    {
     "data": {
      "text/plain": [
       "(51, 21)"
      ]
     },
     "execution_count": 73,
     "metadata": {},
     "output_type": "execute_result"
    }
   ],
   "source": [
    "final.shape"
   ]
  },
  {
   "cell_type": "code",
   "execution_count": 74,
   "metadata": {},
   "outputs": [],
   "source": [
    "# Save aggregated dataset from ACT and SAT of 2017 and of 2018 into final.csv\n",
    "final.to_csv('../data/final.csv')"
   ]
  },
  {
   "cell_type": "markdown",
   "metadata": {},
   "source": [
    "## Exploratory Data Analysis\n",
    "\n",
    "\n",
    "### Summary Statistics\n",
    "Transpose the output of pandas `describe` method to create a quick overview of each numeric feature."
   ]
  },
  {
   "cell_type": "code",
   "execution_count": 75,
   "metadata": {},
   "outputs": [
    {
     "data": {
      "text/html": [
       "<div>\n",
       "<style scoped>\n",
       "    .dataframe tbody tr th:only-of-type {\n",
       "        vertical-align: middle;\n",
       "    }\n",
       "\n",
       "    .dataframe tbody tr th {\n",
       "        vertical-align: top;\n",
       "    }\n",
       "\n",
       "    .dataframe thead th {\n",
       "        text-align: right;\n",
       "    }\n",
       "</style>\n",
       "<table border=\"1\" class=\"dataframe\">\n",
       "  <thead>\n",
       "    <tr style=\"text-align: right;\">\n",
       "      <th></th>\n",
       "      <th>count</th>\n",
       "      <th>mean</th>\n",
       "      <th>std</th>\n",
       "      <th>min</th>\n",
       "      <th>25%</th>\n",
       "      <th>50%</th>\n",
       "      <th>75%</th>\n",
       "      <th>max</th>\n",
       "    </tr>\n",
       "  </thead>\n",
       "  <tbody>\n",
       "    <tr>\n",
       "      <th>act_2017_participation</th>\n",
       "      <td>51.0</td>\n",
       "      <td>0.652549</td>\n",
       "      <td>0.321408</td>\n",
       "      <td>0.08</td>\n",
       "      <td>0.310</td>\n",
       "      <td>0.69</td>\n",
       "      <td>1.000</td>\n",
       "      <td>1.0</td>\n",
       "    </tr>\n",
       "    <tr>\n",
       "      <th>act_2017_english</th>\n",
       "      <td>51.0</td>\n",
       "      <td>20.931373</td>\n",
       "      <td>2.353677</td>\n",
       "      <td>16.30</td>\n",
       "      <td>19.000</td>\n",
       "      <td>20.70</td>\n",
       "      <td>23.300</td>\n",
       "      <td>25.5</td>\n",
       "    </tr>\n",
       "    <tr>\n",
       "      <th>act_2017_math</th>\n",
       "      <td>51.0</td>\n",
       "      <td>21.182353</td>\n",
       "      <td>1.981989</td>\n",
       "      <td>18.00</td>\n",
       "      <td>19.400</td>\n",
       "      <td>20.90</td>\n",
       "      <td>23.100</td>\n",
       "      <td>25.3</td>\n",
       "    </tr>\n",
       "    <tr>\n",
       "      <th>act_2017_reading</th>\n",
       "      <td>51.0</td>\n",
       "      <td>22.013725</td>\n",
       "      <td>2.067271</td>\n",
       "      <td>18.10</td>\n",
       "      <td>20.450</td>\n",
       "      <td>21.80</td>\n",
       "      <td>24.150</td>\n",
       "      <td>26.0</td>\n",
       "    </tr>\n",
       "    <tr>\n",
       "      <th>act_2017_science</th>\n",
       "      <td>51.0</td>\n",
       "      <td>21.450980</td>\n",
       "      <td>1.739353</td>\n",
       "      <td>18.20</td>\n",
       "      <td>19.950</td>\n",
       "      <td>21.30</td>\n",
       "      <td>23.200</td>\n",
       "      <td>24.9</td>\n",
       "    </tr>\n",
       "    <tr>\n",
       "      <th>act_2017_composite</th>\n",
       "      <td>51.0</td>\n",
       "      <td>21.519608</td>\n",
       "      <td>2.020695</td>\n",
       "      <td>17.80</td>\n",
       "      <td>19.800</td>\n",
       "      <td>21.40</td>\n",
       "      <td>23.600</td>\n",
       "      <td>25.5</td>\n",
       "    </tr>\n",
       "    <tr>\n",
       "      <th>sat_2017_participation</th>\n",
       "      <td>51.0</td>\n",
       "      <td>0.398039</td>\n",
       "      <td>0.352766</td>\n",
       "      <td>0.02</td>\n",
       "      <td>0.040</td>\n",
       "      <td>0.38</td>\n",
       "      <td>0.660</td>\n",
       "      <td>1.0</td>\n",
       "    </tr>\n",
       "    <tr>\n",
       "      <th>sat_2017_ebrw</th>\n",
       "      <td>51.0</td>\n",
       "      <td>569.117647</td>\n",
       "      <td>45.666901</td>\n",
       "      <td>482.00</td>\n",
       "      <td>533.500</td>\n",
       "      <td>559.00</td>\n",
       "      <td>613.000</td>\n",
       "      <td>644.0</td>\n",
       "    </tr>\n",
       "    <tr>\n",
       "      <th>sat_2017_math</th>\n",
       "      <td>51.0</td>\n",
       "      <td>556.882353</td>\n",
       "      <td>47.121395</td>\n",
       "      <td>468.00</td>\n",
       "      <td>523.500</td>\n",
       "      <td>548.00</td>\n",
       "      <td>599.000</td>\n",
       "      <td>651.0</td>\n",
       "    </tr>\n",
       "    <tr>\n",
       "      <th>sat_2017_total</th>\n",
       "      <td>51.0</td>\n",
       "      <td>1126.098039</td>\n",
       "      <td>92.494812</td>\n",
       "      <td>950.00</td>\n",
       "      <td>1055.500</td>\n",
       "      <td>1107.00</td>\n",
       "      <td>1212.000</td>\n",
       "      <td>1295.0</td>\n",
       "    </tr>\n",
       "    <tr>\n",
       "      <th>act_2018_participation</th>\n",
       "      <td>51.0</td>\n",
       "      <td>0.616471</td>\n",
       "      <td>0.340810</td>\n",
       "      <td>0.07</td>\n",
       "      <td>0.285</td>\n",
       "      <td>0.66</td>\n",
       "      <td>1.000</td>\n",
       "      <td>1.0</td>\n",
       "    </tr>\n",
       "    <tr>\n",
       "      <th>act_2018_composite</th>\n",
       "      <td>51.0</td>\n",
       "      <td>21.486275</td>\n",
       "      <td>2.106278</td>\n",
       "      <td>17.70</td>\n",
       "      <td>19.950</td>\n",
       "      <td>21.30</td>\n",
       "      <td>23.550</td>\n",
       "      <td>25.6</td>\n",
       "    </tr>\n",
       "    <tr>\n",
       "      <th>act_2018_english</th>\n",
       "      <td>51.0</td>\n",
       "      <td>20.988235</td>\n",
       "      <td>2.446356</td>\n",
       "      <td>16.60</td>\n",
       "      <td>19.100</td>\n",
       "      <td>20.20</td>\n",
       "      <td>23.700</td>\n",
       "      <td>26.0</td>\n",
       "    </tr>\n",
       "    <tr>\n",
       "      <th>act_2018_math</th>\n",
       "      <td>51.0</td>\n",
       "      <td>21.125490</td>\n",
       "      <td>2.035765</td>\n",
       "      <td>17.80</td>\n",
       "      <td>19.400</td>\n",
       "      <td>20.70</td>\n",
       "      <td>23.150</td>\n",
       "      <td>25.2</td>\n",
       "    </tr>\n",
       "    <tr>\n",
       "      <th>act_2018_reading</th>\n",
       "      <td>51.0</td>\n",
       "      <td>22.015686</td>\n",
       "      <td>2.167245</td>\n",
       "      <td>18.00</td>\n",
       "      <td>20.450</td>\n",
       "      <td>21.60</td>\n",
       "      <td>24.100</td>\n",
       "      <td>26.1</td>\n",
       "    </tr>\n",
       "    <tr>\n",
       "      <th>act_2018_science</th>\n",
       "      <td>51.0</td>\n",
       "      <td>21.345098</td>\n",
       "      <td>1.870114</td>\n",
       "      <td>17.90</td>\n",
       "      <td>19.850</td>\n",
       "      <td>21.10</td>\n",
       "      <td>23.050</td>\n",
       "      <td>24.9</td>\n",
       "    </tr>\n",
       "    <tr>\n",
       "      <th>sat_2018_participation</th>\n",
       "      <td>51.0</td>\n",
       "      <td>0.457451</td>\n",
       "      <td>0.373143</td>\n",
       "      <td>0.02</td>\n",
       "      <td>0.045</td>\n",
       "      <td>0.52</td>\n",
       "      <td>0.775</td>\n",
       "      <td>1.0</td>\n",
       "    </tr>\n",
       "    <tr>\n",
       "      <th>sat_2018_ebrw</th>\n",
       "      <td>51.0</td>\n",
       "      <td>563.686275</td>\n",
       "      <td>47.502627</td>\n",
       "      <td>480.00</td>\n",
       "      <td>534.500</td>\n",
       "      <td>552.00</td>\n",
       "      <td>610.500</td>\n",
       "      <td>643.0</td>\n",
       "    </tr>\n",
       "    <tr>\n",
       "      <th>sat_2018_math</th>\n",
       "      <td>51.0</td>\n",
       "      <td>556.235294</td>\n",
       "      <td>47.772623</td>\n",
       "      <td>480.00</td>\n",
       "      <td>522.500</td>\n",
       "      <td>544.00</td>\n",
       "      <td>593.500</td>\n",
       "      <td>655.0</td>\n",
       "    </tr>\n",
       "    <tr>\n",
       "      <th>sat_2018_total</th>\n",
       "      <td>51.0</td>\n",
       "      <td>1120.019608</td>\n",
       "      <td>94.155083</td>\n",
       "      <td>977.00</td>\n",
       "      <td>1057.500</td>\n",
       "      <td>1098.00</td>\n",
       "      <td>1204.000</td>\n",
       "      <td>1298.0</td>\n",
       "    </tr>\n",
       "  </tbody>\n",
       "</table>\n",
       "</div>"
      ],
      "text/plain": [
       "                        count         mean        std     min       25%  \\\n",
       "act_2017_participation   51.0     0.652549   0.321408    0.08     0.310   \n",
       "act_2017_english         51.0    20.931373   2.353677   16.30    19.000   \n",
       "act_2017_math            51.0    21.182353   1.981989   18.00    19.400   \n",
       "act_2017_reading         51.0    22.013725   2.067271   18.10    20.450   \n",
       "act_2017_science         51.0    21.450980   1.739353   18.20    19.950   \n",
       "act_2017_composite       51.0    21.519608   2.020695   17.80    19.800   \n",
       "sat_2017_participation   51.0     0.398039   0.352766    0.02     0.040   \n",
       "sat_2017_ebrw            51.0   569.117647  45.666901  482.00   533.500   \n",
       "sat_2017_math            51.0   556.882353  47.121395  468.00   523.500   \n",
       "sat_2017_total           51.0  1126.098039  92.494812  950.00  1055.500   \n",
       "act_2018_participation   51.0     0.616471   0.340810    0.07     0.285   \n",
       "act_2018_composite       51.0    21.486275   2.106278   17.70    19.950   \n",
       "act_2018_english         51.0    20.988235   2.446356   16.60    19.100   \n",
       "act_2018_math            51.0    21.125490   2.035765   17.80    19.400   \n",
       "act_2018_reading         51.0    22.015686   2.167245   18.00    20.450   \n",
       "act_2018_science         51.0    21.345098   1.870114   17.90    19.850   \n",
       "sat_2018_participation   51.0     0.457451   0.373143    0.02     0.045   \n",
       "sat_2018_ebrw            51.0   563.686275  47.502627  480.00   534.500   \n",
       "sat_2018_math            51.0   556.235294  47.772623  480.00   522.500   \n",
       "sat_2018_total           51.0  1120.019608  94.155083  977.00  1057.500   \n",
       "\n",
       "                            50%       75%     max  \n",
       "act_2017_participation     0.69     1.000     1.0  \n",
       "act_2017_english          20.70    23.300    25.5  \n",
       "act_2017_math             20.90    23.100    25.3  \n",
       "act_2017_reading          21.80    24.150    26.0  \n",
       "act_2017_science          21.30    23.200    24.9  \n",
       "act_2017_composite        21.40    23.600    25.5  \n",
       "sat_2017_participation     0.38     0.660     1.0  \n",
       "sat_2017_ebrw            559.00   613.000   644.0  \n",
       "sat_2017_math            548.00   599.000   651.0  \n",
       "sat_2017_total          1107.00  1212.000  1295.0  \n",
       "act_2018_participation     0.66     1.000     1.0  \n",
       "act_2018_composite        21.30    23.550    25.6  \n",
       "act_2018_english          20.20    23.700    26.0  \n",
       "act_2018_math             20.70    23.150    25.2  \n",
       "act_2018_reading          21.60    24.100    26.1  \n",
       "act_2018_science          21.10    23.050    24.9  \n",
       "sat_2018_participation     0.52     0.775     1.0  \n",
       "sat_2018_ebrw            552.00   610.500   643.0  \n",
       "sat_2018_math            544.00   593.500   655.0  \n",
       "sat_2018_total          1098.00  1204.000  1298.0  "
      ]
     },
     "execution_count": 75,
     "metadata": {},
     "output_type": "execute_result"
    }
   ],
   "source": [
    "final.describe().T"
   ]
  },
  {
   "cell_type": "markdown",
   "metadata": {},
   "source": [
    "#### Manually calculate standard deviation\n",
    "\n",
    "$$\\sigma = \\sqrt{\\frac{1}{n}\\sum_{i=1}^n(x_i - \\mu)^2}$$\n",
    "\n",
    "- Write a function to calculate standard deviation using the formula above"
   ]
  },
  {
   "cell_type": "code",
   "execution_count": 76,
   "metadata": {},
   "outputs": [],
   "source": [
    "#code\n",
    "def get_standard_deviation(column):\n",
    "    n = np.size(column)\n",
    "    mu = np.mean(column)\n",
    "    return ((1/n) * np.sum((column - mu)**2))**(1/2)"
   ]
  },
  {
   "cell_type": "code",
   "execution_count": 77,
   "metadata": {},
   "outputs": [],
   "source": [
    "final.select_dtypes(include=['float64', 'int64']);"
   ]
  },
  {
   "cell_type": "markdown",
   "metadata": {},
   "source": [
    "- Use a **dictionary comprehension** to apply your standard deviation function to each numeric column in the dataframe.  **No loops**  \n",
    "- Assign the output to variable `sd` as a dictionary where: \n",
    "    - Each column name is now a key \n",
    "    - That standard deviation of the column is the value \n",
    "     \n",
    "*Example Output :* `{'ACT_Math': 120, 'ACT_Reading': 120, ...}`"
   ]
  },
  {
   "cell_type": "code",
   "execution_count": 78,
   "metadata": {},
   "outputs": [],
   "source": [
    "#Code:\n",
    "final_numeric = final.select_dtypes(include=['float64', 'int64'])"
   ]
  },
  {
   "cell_type": "code",
   "execution_count": 79,
   "metadata": {},
   "outputs": [
    {
     "data": {
      "text/plain": [
       "{'act_2017_participation': 0.31824175751231804,\n",
       " 'act_2017_english': 2.3304876369363368,\n",
       " 'act_2017_math': 1.9624620273436781,\n",
       " 'act_2017_reading': 2.046902931484265,\n",
       " 'act_2017_science': 1.7222161451443672,\n",
       " 'act_2017_composite': 2.0007860815819893,\n",
       " 'sat_2017_participation': 0.3492907076664507,\n",
       " 'sat_2017_ebrw': 45.21697020437866,\n",
       " 'sat_2017_math': 46.65713364485504,\n",
       " 'sat_2017_total': 91.58351056778743,\n",
       " 'act_2018_participation': 0.3374519488199751,\n",
       " 'act_2018_composite': 2.0855261815801143,\n",
       " 'act_2018_english': 2.4222536143202795,\n",
       " 'act_2018_math': 2.0157072555557174,\n",
       " 'act_2018_reading': 2.1458918845104216,\n",
       " 'act_2018_science': 1.8516885484833538,\n",
       " 'sat_2018_participation': 0.3694661922353941,\n",
       " 'sat_2018_ebrw': 47.03460978357609,\n",
       " 'sat_2018_math': 47.30194550378353,\n",
       " 'sat_2018_total': 93.22742384464432}"
      ]
     },
     "execution_count": 79,
     "metadata": {},
     "output_type": "execute_result"
    }
   ],
   "source": [
    "sd = {col: get_standard_deviation(final[col]) for col in final if (final[col].dtype == 'float64') or (final[col].dtype == 'int64')}\n",
    "sd"
   ]
  },
  {
   "cell_type": "code",
   "execution_count": 80,
   "metadata": {},
   "outputs": [
    {
     "data": {
      "text/plain": [
       "{'act_2017_participation': 0.3182417575123181,\n",
       " 'act_2017_english': 2.3304876369363363,\n",
       " 'act_2017_math': 1.9624620273436781,\n",
       " 'act_2017_reading': 2.0469029314842646,\n",
       " 'act_2017_science': 1.7222161451443676,\n",
       " 'act_2017_composite': 2.000786081581989,\n",
       " 'sat_2017_participation': 0.3492907076664507,\n",
       " 'sat_2017_ebrw': 45.21697020437866,\n",
       " 'sat_2017_math': 46.65713364485503,\n",
       " 'sat_2017_total': 91.58351056778743,\n",
       " 'act_2018_participation': 0.33745194881997503,\n",
       " 'act_2018_composite': 2.0855261815801147,\n",
       " 'act_2018_english': 2.4222536143202795,\n",
       " 'act_2018_math': 2.015707255555717,\n",
       " 'act_2018_reading': 2.145891884510421,\n",
       " 'act_2018_science': 1.8516885484833543,\n",
       " 'sat_2018_participation': 0.3694661922353942,\n",
       " 'sat_2018_ebrw': 47.03460978357609,\n",
       " 'sat_2018_math': 47.30194550378352,\n",
       " 'sat_2018_total': 93.22742384464433}"
      ]
     },
     "execution_count": 80,
     "metadata": {},
     "output_type": "execute_result"
    }
   ],
   "source": [
    "{col: np.std(final[col]) for col in final if (final[col].dtype == 'float64') or (final[col].dtype == 'int64')}"
   ]
  },
  {
   "cell_type": "markdown",
   "metadata": {},
   "source": [
    "Do your manually calculated standard deviations match up with the output from pandas `describe`? What about numpy's `std` method?"
   ]
  },
  {
   "cell_type": "markdown",
   "metadata": {},
   "source": [
    "The values of the standard deviations obtained by manual calculation are slightly less than that obtained from pandas `describe` but matches numpy's `std`"
   ]
  },
  {
   "cell_type": "markdown",
   "metadata": {},
   "source": [
    "#### Investigate trends in the data\n",
    "Using sorting and/or masking (along with the `.head` method to not print our entire dataframe), consider the following questions:\n",
    "\n",
    "- Which states have the highest and lowest participation rates for the:\n",
    "    - 2017 SAT?\n",
    "    - 2018 SAT?\n",
    "    - 2017 ACT?\n",
    "    - 2018 ACT?\n",
    "- Which states have the highest and lowest mean total/composite scores for the:\n",
    "    - 2017 SAT?\n",
    "    - 2018 SAT?\n",
    "    - 2017 ACT?\n",
    "    - 2018 ACT?\n",
    "- Do any states with 100% participation on a given test have a rate change year-to-year?\n",
    "- Do any states show have >50% participation on *both* tests either year?\n",
    "\n",
    "Based on what you've just observed, have you identified any states that you're especially interested in? **Make a note of these and state *why* you think they're interesting**.\n",
    "\n",
    "**You should comment on your findings at each step in a markdown cell below your code block**. Make sure you include at least one example of sorting your dataframe by a column, and one example of using boolean filtering (i.e., masking) to select a subset of the dataframe."
   ]
  },
  {
   "cell_type": "markdown",
   "metadata": {},
   "source": [
    "<table>\n",
    "    <thead>\n",
    "        <tr >\n",
    "            <th colspan=5 style=\"text-align: center;\">Mean Participation Rates</th>\n",
    "        </tr>\n",
    "        <tr>\n",
    "            <th>Test</th>\n",
    "            <th>Year</th>\n",
    "            <th>Highest/Lowest</th>\n",
    "            <th>Value</th>\n",
    "            <th>Countries</th>\n",
    "        </tr>\n",
    "    </thead>\n",
    "    <tbody>\n",
    "        <tr>\n",
    "            <td rowspan=4>SAT</td>\n",
    "            <td rowspan=2>2017</td>\n",
    "            <td>Highest</td>\n",
    "            <td>100%</td>\n",
    "            <td>Connecticut, Delaware, District of Columbia, Michigan</td>\n",
    "        </tr>\n",
    "        <tr>\n",
    "            <td>Lowest</td>\n",
    "            <td>2%</td>\n",
    "            <td>Iowa, Mississippi, North Dakota</td>\n",
    "        </tr>\n",
    "        <tr>\n",
    "            <td rowspan=2>2018</td>\n",
    "            <td>Highest</td>\n",
    "            <td>100%</td>\n",
    "            <td>Colorado, Connecticut, Delaware, Idaho, Michigan</td>\n",
    "        </tr>\n",
    "        <tr>\n",
    "            <td>Lowest</td>\n",
    "            <td>2%</td>\n",
    "            <td>North Dakota</td>\n",
    "        </tr>\n",
    "        <!-- -->\n",
    "        <tr>\n",
    "            <td rowspan=4>ACT</td>\n",
    "            <td rowspan=2>2017</td>\n",
    "            <td>Highest</td>\n",
    "            <td>100%</td>\n",
    "            <td>Alabama, Arkansas, Colorado, Kentucky, Louisiana, Minnesota, Mississippi, Missouri, Montana, Nevada, North Carolina, Oklahoma, South Carolina, Tennessee, Utah, Wisconsin, Wyoming</td>\n",
    "        </tr>\n",
    "        <tr>\n",
    "            <td>Lowest</td>\n",
    "            <td>8%</td>\n",
    "            <td>Maine</td>\n",
    "        </tr>\n",
    "        <tr>\n",
    "            <td rowspan=2>2018</td>\n",
    "            <td>Highest</td>\n",
    "            <td>100%</td>\n",
    "            <td>Alabama, Arkansas, Kentucky, Louisiana, Mississippi, Missouri, Montana, Nebraska, Nevada, North Carolina, Ohio, Oklahoma, South Carolina, Tennessee, Utah, Wisconsin, Wyoming</td>\n",
    "        </tr>\n",
    "        <tr>\n",
    "            <td>Lowest</td>\n",
    "            <td>7%</td>\n",
    "            <td>Maine</td>\n",
    "        </tr>\n",
    "    </tbody>\n",
    "</table>"
   ]
  },
  {
   "cell_type": "markdown",
   "metadata": {},
   "source": [
    "SAT Highest for 2 years running: Connecticut, Delaware, Michigan  \n",
    "SAT Lowest for 2 years running: North Dakota  \n",
    "\n",
    "ACT Highest for 2 years running: Alabama, Arkansas, Kentucky, Louisiana, Mississippi, Missouri, Montana, Nevada, North Carolina, Oklahoma, South Carolina, Tennessee, Utah, Wisconsin, Wyoming  \n",
    "ACT Lowest for 2 years running: Maine"
   ]
  },
  {
   "cell_type": "markdown",
   "metadata": {},
   "source": [
    "<table style=\"float:left\">\n",
    "    <thead>\n",
    "        <tr >\n",
    "            <th colspan=5 style=\"text-align: center;\">Mean Total/Composite Scores</th>\n",
    "        </tr>\n",
    "        <tr>\n",
    "            <th>Test</th>\n",
    "            <th>Year</th>\n",
    "            <th>Highest/Lowest</th>\n",
    "            <th>Value</th>\n",
    "            <th>Countries</th>\n",
    "        </tr>\n",
    "    </thead>\n",
    "    <tbody>\n",
    "        <tr>\n",
    "            <td rowspan=4>SAT</td>\n",
    "            <td rowspan=2>2017</td>\n",
    "            <td>Highest</td>\n",
    "            <td>1295</td>\n",
    "            <td>Minnesota</td>\n",
    "        </tr>\n",
    "        <tr>\n",
    "            <td>Lowest</td>\n",
    "            <td>950</td>\n",
    "            <td>District of Columbia</td>\n",
    "        </tr>\n",
    "        <tr>\n",
    "            <td rowspan=2>2018</td>\n",
    "            <td>Highest</td>\n",
    "            <td>1298</td>\n",
    "            <td>Minnesota</td>\n",
    "        </tr>\n",
    "        <tr>\n",
    "            <td>Lowest</td>\n",
    "            <td>977</td>\n",
    "            <td>District of Columbia</td>\n",
    "        </tr>\n",
    "        <!-- -->\n",
    "        <tr>\n",
    "            <td rowspan=4>ACT</td>\n",
    "            <td rowspan=2>2017</td>\n",
    "            <td>Highest</td>\n",
    "            <td>25.5</td>\n",
    "            <td>New Hampshire</td>\n",
    "        </tr>\n",
    "        <tr>\n",
    "            <td>Lowest</td>\n",
    "            <td>17.8</td>\n",
    "            <td>Nevada</td>\n",
    "        </tr>\n",
    "        <tr>\n",
    "            <td rowspan=2>2018</td>\n",
    "            <td>Highest</td>\n",
    "            <td>25.6</td>\n",
    "            <td>Connecticut</td>\n",
    "        </tr>\n",
    "        <tr>\n",
    "            <td>Lowest</td>\n",
    "            <td>17.7</td>\n",
    "            <td>Nevada</td>\n",
    "        </tr>\n",
    "    </tbody>\n",
    "</table>"
   ]
  },
  {
   "cell_type": "markdown",
   "metadata": {},
   "source": [
    "Minnesota has the highest total score for the SAT for both 2017 and 2018.  \n",
    "District of Columbia has the lowest total score for the SAT for both 2017 and 2018.\n",
    "\n",
    "Nevada has the lowest composite score for the ACT for both 2017 and 2018."
   ]
  },
  {
   "cell_type": "markdown",
   "metadata": {},
   "source": [
    "##### highest and lowest participation rates"
   ]
  },
  {
   "cell_type": "code",
   "execution_count": 81,
   "metadata": {},
   "outputs": [
    {
     "data": {
      "text/html": [
       "<div>\n",
       "<style scoped>\n",
       "    .dataframe tbody tr th:only-of-type {\n",
       "        vertical-align: middle;\n",
       "    }\n",
       "\n",
       "    .dataframe tbody tr th {\n",
       "        vertical-align: top;\n",
       "    }\n",
       "\n",
       "    .dataframe thead th {\n",
       "        text-align: right;\n",
       "    }\n",
       "</style>\n",
       "<table border=\"1\" class=\"dataframe\">\n",
       "  <thead>\n",
       "    <tr style=\"text-align: right;\">\n",
       "      <th></th>\n",
       "      <th>state</th>\n",
       "      <th>sat_2017_participation</th>\n",
       "    </tr>\n",
       "  </thead>\n",
       "  <tbody>\n",
       "    <tr>\n",
       "      <th>15</th>\n",
       "      <td>Iowa</td>\n",
       "      <td>0.02</td>\n",
       "    </tr>\n",
       "    <tr>\n",
       "      <th>24</th>\n",
       "      <td>Mississippi</td>\n",
       "      <td>0.02</td>\n",
       "    </tr>\n",
       "    <tr>\n",
       "      <th>34</th>\n",
       "      <td>North Dakota</td>\n",
       "      <td>0.02</td>\n",
       "    </tr>\n",
       "  </tbody>\n",
       "</table>\n",
       "</div>"
      ],
      "text/plain": [
       "           state  sat_2017_participation\n",
       "15          Iowa                    0.02\n",
       "24   Mississippi                    0.02\n",
       "34  North Dakota                    0.02"
      ]
     },
     "execution_count": 81,
     "metadata": {},
     "output_type": "execute_result"
    }
   ],
   "source": [
    "# 2017 SAT lowest participation rate\n",
    "final.loc[final['sat_2017_participation'] == final['sat_2017_participation'].min(), ['state', 'sat_2017_participation']]"
   ]
  },
  {
   "cell_type": "markdown",
   "metadata": {},
   "source": [
    "2017 SAT lowest participation rate: Iowa, Mississippi, North Dakota"
   ]
  },
  {
   "cell_type": "code",
   "execution_count": 82,
   "metadata": {},
   "outputs": [
    {
     "data": {
      "text/html": [
       "<div>\n",
       "<style scoped>\n",
       "    .dataframe tbody tr th:only-of-type {\n",
       "        vertical-align: middle;\n",
       "    }\n",
       "\n",
       "    .dataframe tbody tr th {\n",
       "        vertical-align: top;\n",
       "    }\n",
       "\n",
       "    .dataframe thead th {\n",
       "        text-align: right;\n",
       "    }\n",
       "</style>\n",
       "<table border=\"1\" class=\"dataframe\">\n",
       "  <thead>\n",
       "    <tr style=\"text-align: right;\">\n",
       "      <th></th>\n",
       "      <th>state</th>\n",
       "      <th>sat_2017_participation</th>\n",
       "    </tr>\n",
       "  </thead>\n",
       "  <tbody>\n",
       "    <tr>\n",
       "      <th>6</th>\n",
       "      <td>Connecticut</td>\n",
       "      <td>1.0</td>\n",
       "    </tr>\n",
       "    <tr>\n",
       "      <th>7</th>\n",
       "      <td>Delaware</td>\n",
       "      <td>1.0</td>\n",
       "    </tr>\n",
       "    <tr>\n",
       "      <th>8</th>\n",
       "      <td>District of Columbia</td>\n",
       "      <td>1.0</td>\n",
       "    </tr>\n",
       "    <tr>\n",
       "      <th>22</th>\n",
       "      <td>Michigan</td>\n",
       "      <td>1.0</td>\n",
       "    </tr>\n",
       "  </tbody>\n",
       "</table>\n",
       "</div>"
      ],
      "text/plain": [
       "                   state  sat_2017_participation\n",
       "6            Connecticut                     1.0\n",
       "7               Delaware                     1.0\n",
       "8   District of Columbia                     1.0\n",
       "22              Michigan                     1.0"
      ]
     },
     "execution_count": 82,
     "metadata": {},
     "output_type": "execute_result"
    }
   ],
   "source": [
    "# 2017 SAT highest participation rate\n",
    "final.loc[final['sat_2017_participation'] == final['sat_2017_participation'].max(), ['state', 'sat_2017_participation']]"
   ]
  },
  {
   "cell_type": "markdown",
   "metadata": {},
   "source": [
    "2017 SAT highest participation rate: Connecticut, Delaware, District of Columbia, Michigan"
   ]
  },
  {
   "cell_type": "code",
   "execution_count": 83,
   "metadata": {},
   "outputs": [
    {
     "data": {
      "text/html": [
       "<div>\n",
       "<style scoped>\n",
       "    .dataframe tbody tr th:only-of-type {\n",
       "        vertical-align: middle;\n",
       "    }\n",
       "\n",
       "    .dataframe tbody tr th {\n",
       "        vertical-align: top;\n",
       "    }\n",
       "\n",
       "    .dataframe thead th {\n",
       "        text-align: right;\n",
       "    }\n",
       "</style>\n",
       "<table border=\"1\" class=\"dataframe\">\n",
       "  <thead>\n",
       "    <tr style=\"text-align: right;\">\n",
       "      <th></th>\n",
       "      <th>state</th>\n",
       "      <th>sat_2018_participation</th>\n",
       "    </tr>\n",
       "  </thead>\n",
       "  <tbody>\n",
       "    <tr>\n",
       "      <th>34</th>\n",
       "      <td>North Dakota</td>\n",
       "      <td>0.02</td>\n",
       "    </tr>\n",
       "  </tbody>\n",
       "</table>\n",
       "</div>"
      ],
      "text/plain": [
       "           state  sat_2018_participation\n",
       "34  North Dakota                    0.02"
      ]
     },
     "execution_count": 83,
     "metadata": {},
     "output_type": "execute_result"
    }
   ],
   "source": [
    "# 2018 SAT lowest participation rate\n",
    "final.loc[final['sat_2018_participation'] == final['sat_2018_participation'].min(), ['state', 'sat_2018_participation']]"
   ]
  },
  {
   "cell_type": "markdown",
   "metadata": {},
   "source": [
    "2018 SAT lowest participation rate: North Dakota"
   ]
  },
  {
   "cell_type": "code",
   "execution_count": 84,
   "metadata": {},
   "outputs": [
    {
     "data": {
      "text/html": [
       "<div>\n",
       "<style scoped>\n",
       "    .dataframe tbody tr th:only-of-type {\n",
       "        vertical-align: middle;\n",
       "    }\n",
       "\n",
       "    .dataframe tbody tr th {\n",
       "        vertical-align: top;\n",
       "    }\n",
       "\n",
       "    .dataframe thead th {\n",
       "        text-align: right;\n",
       "    }\n",
       "</style>\n",
       "<table border=\"1\" class=\"dataframe\">\n",
       "  <thead>\n",
       "    <tr style=\"text-align: right;\">\n",
       "      <th></th>\n",
       "      <th>state</th>\n",
       "      <th>sat_2018_participation</th>\n",
       "    </tr>\n",
       "  </thead>\n",
       "  <tbody>\n",
       "    <tr>\n",
       "      <th>5</th>\n",
       "      <td>Colorado</td>\n",
       "      <td>1.0</td>\n",
       "    </tr>\n",
       "    <tr>\n",
       "      <th>6</th>\n",
       "      <td>Connecticut</td>\n",
       "      <td>1.0</td>\n",
       "    </tr>\n",
       "    <tr>\n",
       "      <th>7</th>\n",
       "      <td>Delaware</td>\n",
       "      <td>1.0</td>\n",
       "    </tr>\n",
       "    <tr>\n",
       "      <th>12</th>\n",
       "      <td>Idaho</td>\n",
       "      <td>1.0</td>\n",
       "    </tr>\n",
       "    <tr>\n",
       "      <th>22</th>\n",
       "      <td>Michigan</td>\n",
       "      <td>1.0</td>\n",
       "    </tr>\n",
       "  </tbody>\n",
       "</table>\n",
       "</div>"
      ],
      "text/plain": [
       "          state  sat_2018_participation\n",
       "5      Colorado                     1.0\n",
       "6   Connecticut                     1.0\n",
       "7      Delaware                     1.0\n",
       "12        Idaho                     1.0\n",
       "22     Michigan                     1.0"
      ]
     },
     "execution_count": 84,
     "metadata": {},
     "output_type": "execute_result"
    }
   ],
   "source": [
    "# 2018 SAT highest participation rate\n",
    "final.loc[final['sat_2018_participation'] == final['sat_2018_participation'].max(), ['state', 'sat_2018_participation']]"
   ]
  },
  {
   "cell_type": "markdown",
   "metadata": {},
   "source": [
    "2018 SAT highest participation rate: Colorado, Connecticut, Delaware, Idaho, Michigan"
   ]
  },
  {
   "cell_type": "code",
   "execution_count": 85,
   "metadata": {},
   "outputs": [
    {
     "data": {
      "text/html": [
       "<div>\n",
       "<style scoped>\n",
       "    .dataframe tbody tr th:only-of-type {\n",
       "        vertical-align: middle;\n",
       "    }\n",
       "\n",
       "    .dataframe tbody tr th {\n",
       "        vertical-align: top;\n",
       "    }\n",
       "\n",
       "    .dataframe thead th {\n",
       "        text-align: right;\n",
       "    }\n",
       "</style>\n",
       "<table border=\"1\" class=\"dataframe\">\n",
       "  <thead>\n",
       "    <tr style=\"text-align: right;\">\n",
       "      <th></th>\n",
       "      <th>state</th>\n",
       "      <th>act_2017_participation</th>\n",
       "    </tr>\n",
       "  </thead>\n",
       "  <tbody>\n",
       "    <tr>\n",
       "      <th>19</th>\n",
       "      <td>Maine</td>\n",
       "      <td>0.08</td>\n",
       "    </tr>\n",
       "  </tbody>\n",
       "</table>\n",
       "</div>"
      ],
      "text/plain": [
       "    state  act_2017_participation\n",
       "19  Maine                    0.08"
      ]
     },
     "execution_count": 85,
     "metadata": {},
     "output_type": "execute_result"
    }
   ],
   "source": [
    "# 2017 ACT lowest participation rate\n",
    "final.loc[final['act_2017_participation'] == final['act_2017_participation'].min(), ['state', 'act_2017_participation']]"
   ]
  },
  {
   "cell_type": "markdown",
   "metadata": {},
   "source": [
    "2017 ACT lowest participation rate: Maine"
   ]
  },
  {
   "cell_type": "code",
   "execution_count": 86,
   "metadata": {},
   "outputs": [
    {
     "data": {
      "text/html": [
       "<div>\n",
       "<style scoped>\n",
       "    .dataframe tbody tr th:only-of-type {\n",
       "        vertical-align: middle;\n",
       "    }\n",
       "\n",
       "    .dataframe tbody tr th {\n",
       "        vertical-align: top;\n",
       "    }\n",
       "\n",
       "    .dataframe thead th {\n",
       "        text-align: right;\n",
       "    }\n",
       "</style>\n",
       "<table border=\"1\" class=\"dataframe\">\n",
       "  <thead>\n",
       "    <tr style=\"text-align: right;\">\n",
       "      <th></th>\n",
       "      <th>state</th>\n",
       "      <th>act_2017_participation</th>\n",
       "    </tr>\n",
       "  </thead>\n",
       "  <tbody>\n",
       "    <tr>\n",
       "      <th>0</th>\n",
       "      <td>Alabama</td>\n",
       "      <td>1.0</td>\n",
       "    </tr>\n",
       "    <tr>\n",
       "      <th>3</th>\n",
       "      <td>Arkansas</td>\n",
       "      <td>1.0</td>\n",
       "    </tr>\n",
       "    <tr>\n",
       "      <th>5</th>\n",
       "      <td>Colorado</td>\n",
       "      <td>1.0</td>\n",
       "    </tr>\n",
       "    <tr>\n",
       "      <th>17</th>\n",
       "      <td>Kentucky</td>\n",
       "      <td>1.0</td>\n",
       "    </tr>\n",
       "    <tr>\n",
       "      <th>18</th>\n",
       "      <td>Louisiana</td>\n",
       "      <td>1.0</td>\n",
       "    </tr>\n",
       "  </tbody>\n",
       "</table>\n",
       "</div>"
      ],
      "text/plain": [
       "        state  act_2017_participation\n",
       "0     Alabama                     1.0\n",
       "3    Arkansas                     1.0\n",
       "5    Colorado                     1.0\n",
       "17   Kentucky                     1.0\n",
       "18  Louisiana                     1.0"
      ]
     },
     "execution_count": 86,
     "metadata": {},
     "output_type": "execute_result"
    }
   ],
   "source": [
    "# 2017 ACT highest participation rate\n",
    "final.loc[final['act_2017_participation'] == final['act_2017_participation'].max(), ['state', 'act_2017_participation']].head()"
   ]
  },
  {
   "cell_type": "markdown",
   "metadata": {},
   "source": [
    "2017 ACT highest participation rate: Alabama, Arkansas, Colorado, Kentucky, Louisiana, Minnesota, Mississippi, Missouri, Montana, Nevada, North Carolina, Oklahoma, South Carolina, Tennessee, Utah, Wisconsin, Wyoming"
   ]
  },
  {
   "cell_type": "code",
   "execution_count": 87,
   "metadata": {},
   "outputs": [
    {
     "data": {
      "text/html": [
       "<div>\n",
       "<style scoped>\n",
       "    .dataframe tbody tr th:only-of-type {\n",
       "        vertical-align: middle;\n",
       "    }\n",
       "\n",
       "    .dataframe tbody tr th {\n",
       "        vertical-align: top;\n",
       "    }\n",
       "\n",
       "    .dataframe thead th {\n",
       "        text-align: right;\n",
       "    }\n",
       "</style>\n",
       "<table border=\"1\" class=\"dataframe\">\n",
       "  <thead>\n",
       "    <tr style=\"text-align: right;\">\n",
       "      <th></th>\n",
       "      <th>state</th>\n",
       "      <th>act_2018_participation</th>\n",
       "    </tr>\n",
       "  </thead>\n",
       "  <tbody>\n",
       "    <tr>\n",
       "      <th>19</th>\n",
       "      <td>Maine</td>\n",
       "      <td>0.07</td>\n",
       "    </tr>\n",
       "  </tbody>\n",
       "</table>\n",
       "</div>"
      ],
      "text/plain": [
       "    state  act_2018_participation\n",
       "19  Maine                    0.07"
      ]
     },
     "execution_count": 87,
     "metadata": {},
     "output_type": "execute_result"
    }
   ],
   "source": [
    "# 2018 ACT lowest participation rate\n",
    "final.loc[final['act_2018_participation'] == final['act_2018_participation'].min(), ['state', 'act_2018_participation']]"
   ]
  },
  {
   "cell_type": "markdown",
   "metadata": {},
   "source": [
    "2018 ACT lowest participation rate: Maine"
   ]
  },
  {
   "cell_type": "code",
   "execution_count": 88,
   "metadata": {},
   "outputs": [
    {
     "data": {
      "text/html": [
       "<div>\n",
       "<style scoped>\n",
       "    .dataframe tbody tr th:only-of-type {\n",
       "        vertical-align: middle;\n",
       "    }\n",
       "\n",
       "    .dataframe tbody tr th {\n",
       "        vertical-align: top;\n",
       "    }\n",
       "\n",
       "    .dataframe thead th {\n",
       "        text-align: right;\n",
       "    }\n",
       "</style>\n",
       "<table border=\"1\" class=\"dataframe\">\n",
       "  <thead>\n",
       "    <tr style=\"text-align: right;\">\n",
       "      <th></th>\n",
       "      <th>state</th>\n",
       "      <th>act_2018_participation</th>\n",
       "    </tr>\n",
       "  </thead>\n",
       "  <tbody>\n",
       "    <tr>\n",
       "      <th>0</th>\n",
       "      <td>Alabama</td>\n",
       "      <td>1.0</td>\n",
       "    </tr>\n",
       "    <tr>\n",
       "      <th>3</th>\n",
       "      <td>Arkansas</td>\n",
       "      <td>1.0</td>\n",
       "    </tr>\n",
       "    <tr>\n",
       "      <th>17</th>\n",
       "      <td>Kentucky</td>\n",
       "      <td>1.0</td>\n",
       "    </tr>\n",
       "    <tr>\n",
       "      <th>18</th>\n",
       "      <td>Louisiana</td>\n",
       "      <td>1.0</td>\n",
       "    </tr>\n",
       "    <tr>\n",
       "      <th>24</th>\n",
       "      <td>Mississippi</td>\n",
       "      <td>1.0</td>\n",
       "    </tr>\n",
       "  </tbody>\n",
       "</table>\n",
       "</div>"
      ],
      "text/plain": [
       "          state  act_2018_participation\n",
       "0       Alabama                     1.0\n",
       "3      Arkansas                     1.0\n",
       "17     Kentucky                     1.0\n",
       "18    Louisiana                     1.0\n",
       "24  Mississippi                     1.0"
      ]
     },
     "execution_count": 88,
     "metadata": {},
     "output_type": "execute_result"
    }
   ],
   "source": [
    "# 2018 ACT highest participation rate\n",
    "final.loc[final['act_2018_participation'] == final['act_2018_participation'].max(), ['state', 'act_2018_participation']].head()"
   ]
  },
  {
   "cell_type": "markdown",
   "metadata": {},
   "source": [
    "2018 ACT highest participation rate: Alabama, Arkansas, Kentucky, Louisiana, Mississippi, Missouri, Montana, Nebraska, Nevada, North Carolina, Ohio, Oklahoma, South Carolina, Tennessee, Utah, Wisconsin, Wyoming"
   ]
  },
  {
   "cell_type": "code",
   "execution_count": 89,
   "metadata": {},
   "outputs": [
    {
     "data": {
      "text/plain": [
       "Index(['state', 'act_2017_participation', 'act_2017_english', 'act_2017_math',\n",
       "       'act_2017_reading', 'act_2017_science', 'act_2017_composite',\n",
       "       'sat_2017_participation', 'sat_2017_ebrw', 'sat_2017_math',\n",
       "       'sat_2017_total', 'act_2018_participation', 'act_2018_composite',\n",
       "       'act_2018_english', 'act_2018_math', 'act_2018_reading',\n",
       "       'act_2018_science', 'sat_2018_participation', 'sat_2018_ebrw',\n",
       "       'sat_2018_math', 'sat_2018_total'],\n",
       "      dtype='object')"
      ]
     },
     "execution_count": 89,
     "metadata": {},
     "output_type": "execute_result"
    }
   ],
   "source": [
    "final.columns"
   ]
  },
  {
   "cell_type": "markdown",
   "metadata": {},
   "source": [
    "##### highest and lowest mean total/composite scores"
   ]
  },
  {
   "cell_type": "code",
   "execution_count": 90,
   "metadata": {},
   "outputs": [
    {
     "data": {
      "text/html": [
       "<div>\n",
       "<style scoped>\n",
       "    .dataframe tbody tr th:only-of-type {\n",
       "        vertical-align: middle;\n",
       "    }\n",
       "\n",
       "    .dataframe tbody tr th {\n",
       "        vertical-align: top;\n",
       "    }\n",
       "\n",
       "    .dataframe thead th {\n",
       "        text-align: right;\n",
       "    }\n",
       "</style>\n",
       "<table border=\"1\" class=\"dataframe\">\n",
       "  <thead>\n",
       "    <tr style=\"text-align: right;\">\n",
       "      <th></th>\n",
       "      <th>state</th>\n",
       "      <th>sat_2017_total</th>\n",
       "    </tr>\n",
       "  </thead>\n",
       "  <tbody>\n",
       "    <tr>\n",
       "      <th>8</th>\n",
       "      <td>District of Columbia</td>\n",
       "      <td>950</td>\n",
       "    </tr>\n",
       "    <tr>\n",
       "      <th>7</th>\n",
       "      <td>Delaware</td>\n",
       "      <td>996</td>\n",
       "    </tr>\n",
       "    <tr>\n",
       "      <th>12</th>\n",
       "      <td>Idaho</td>\n",
       "      <td>1005</td>\n",
       "    </tr>\n",
       "    <tr>\n",
       "      <th>22</th>\n",
       "      <td>Michigan</td>\n",
       "      <td>1005</td>\n",
       "    </tr>\n",
       "    <tr>\n",
       "      <th>19</th>\n",
       "      <td>Maine</td>\n",
       "      <td>1012</td>\n",
       "    </tr>\n",
       "  </tbody>\n",
       "</table>\n",
       "</div>"
      ],
      "text/plain": [
       "                   state  sat_2017_total\n",
       "8   District of Columbia             950\n",
       "7               Delaware             996\n",
       "12                 Idaho            1005\n",
       "22              Michigan            1005\n",
       "19                 Maine            1012"
      ]
     },
     "execution_count": 90,
     "metadata": {},
     "output_type": "execute_result"
    }
   ],
   "source": [
    "# 2017 SAT lowest mean total score\n",
    "final.sort_values(by='sat_2017_total')[['state', 'sat_2017_total']].head()"
   ]
  },
  {
   "cell_type": "markdown",
   "metadata": {},
   "source": [
    "2017 SAT lowest mean total score: District of Columbia"
   ]
  },
  {
   "cell_type": "code",
   "execution_count": 91,
   "metadata": {},
   "outputs": [
    {
     "data": {
      "text/html": [
       "<div>\n",
       "<style scoped>\n",
       "    .dataframe tbody tr th:only-of-type {\n",
       "        vertical-align: middle;\n",
       "    }\n",
       "\n",
       "    .dataframe tbody tr th {\n",
       "        vertical-align: top;\n",
       "    }\n",
       "\n",
       "    .dataframe thead th {\n",
       "        text-align: right;\n",
       "    }\n",
       "</style>\n",
       "<table border=\"1\" class=\"dataframe\">\n",
       "  <thead>\n",
       "    <tr style=\"text-align: right;\">\n",
       "      <th></th>\n",
       "      <th>state</th>\n",
       "      <th>sat_2017_total</th>\n",
       "    </tr>\n",
       "  </thead>\n",
       "  <tbody>\n",
       "    <tr>\n",
       "      <th>23</th>\n",
       "      <td>Minnesota</td>\n",
       "      <td>1295</td>\n",
       "    </tr>\n",
       "    <tr>\n",
       "      <th>49</th>\n",
       "      <td>Wisconsin</td>\n",
       "      <td>1291</td>\n",
       "    </tr>\n",
       "    <tr>\n",
       "      <th>15</th>\n",
       "      <td>Iowa</td>\n",
       "      <td>1275</td>\n",
       "    </tr>\n",
       "    <tr>\n",
       "      <th>25</th>\n",
       "      <td>Missouri</td>\n",
       "      <td>1271</td>\n",
       "    </tr>\n",
       "    <tr>\n",
       "      <th>16</th>\n",
       "      <td>Kansas</td>\n",
       "      <td>1260</td>\n",
       "    </tr>\n",
       "  </tbody>\n",
       "</table>\n",
       "</div>"
      ],
      "text/plain": [
       "        state  sat_2017_total\n",
       "23  Minnesota            1295\n",
       "49  Wisconsin            1291\n",
       "15       Iowa            1275\n",
       "25   Missouri            1271\n",
       "16     Kansas            1260"
      ]
     },
     "execution_count": 91,
     "metadata": {},
     "output_type": "execute_result"
    }
   ],
   "source": [
    "# 2017 SAT highest mean total score\n",
    "final.sort_values(by='sat_2017_total', ascending=False)[['state', 'sat_2017_total']].head()"
   ]
  },
  {
   "cell_type": "code",
   "execution_count": 92,
   "metadata": {},
   "outputs": [
    {
     "data": {
      "text/html": [
       "<div>\n",
       "<style scoped>\n",
       "    .dataframe tbody tr th:only-of-type {\n",
       "        vertical-align: middle;\n",
       "    }\n",
       "\n",
       "    .dataframe tbody tr th {\n",
       "        vertical-align: top;\n",
       "    }\n",
       "\n",
       "    .dataframe thead th {\n",
       "        text-align: right;\n",
       "    }\n",
       "</style>\n",
       "<table border=\"1\" class=\"dataframe\">\n",
       "  <thead>\n",
       "    <tr style=\"text-align: right;\">\n",
       "      <th></th>\n",
       "      <th>state</th>\n",
       "    </tr>\n",
       "  </thead>\n",
       "  <tbody>\n",
       "    <tr>\n",
       "      <th>23</th>\n",
       "      <td>Minnesota</td>\n",
       "    </tr>\n",
       "  </tbody>\n",
       "</table>\n",
       "</div>"
      ],
      "text/plain": [
       "        state\n",
       "23  Minnesota"
      ]
     },
     "execution_count": 92,
     "metadata": {},
     "output_type": "execute_result"
    }
   ],
   "source": [
    "final.loc[[final['sat_2017_total'].idxmax()],['state']] # final.iloc[[final['sat_2017_total'].idxmax()]]"
   ]
  },
  {
   "cell_type": "markdown",
   "metadata": {},
   "source": [
    "2017 SAT highest mean total score: Minnesota"
   ]
  },
  {
   "cell_type": "code",
   "execution_count": 93,
   "metadata": {},
   "outputs": [
    {
     "data": {
      "text/html": [
       "<div>\n",
       "<style scoped>\n",
       "    .dataframe tbody tr th:only-of-type {\n",
       "        vertical-align: middle;\n",
       "    }\n",
       "\n",
       "    .dataframe tbody tr th {\n",
       "        vertical-align: top;\n",
       "    }\n",
       "\n",
       "    .dataframe thead th {\n",
       "        text-align: right;\n",
       "    }\n",
       "</style>\n",
       "<table border=\"1\" class=\"dataframe\">\n",
       "  <thead>\n",
       "    <tr style=\"text-align: right;\">\n",
       "      <th></th>\n",
       "      <th>state</th>\n",
       "      <th>sat_2018_total</th>\n",
       "    </tr>\n",
       "  </thead>\n",
       "  <tbody>\n",
       "    <tr>\n",
       "      <th>8</th>\n",
       "      <td>District of Columbia</td>\n",
       "      <td>977</td>\n",
       "    </tr>\n",
       "    <tr>\n",
       "      <th>7</th>\n",
       "      <td>Delaware</td>\n",
       "      <td>998</td>\n",
       "    </tr>\n",
       "    <tr>\n",
       "      <th>48</th>\n",
       "      <td>West Virginia</td>\n",
       "      <td>999</td>\n",
       "    </tr>\n",
       "    <tr>\n",
       "      <th>12</th>\n",
       "      <td>Idaho</td>\n",
       "      <td>1001</td>\n",
       "    </tr>\n",
       "    <tr>\n",
       "      <th>44</th>\n",
       "      <td>Utah</td>\n",
       "      <td>1010</td>\n",
       "    </tr>\n",
       "  </tbody>\n",
       "</table>\n",
       "</div>"
      ],
      "text/plain": [
       "                   state  sat_2018_total\n",
       "8   District of Columbia             977\n",
       "7               Delaware             998\n",
       "48         West Virginia             999\n",
       "12                 Idaho            1001\n",
       "44                  Utah            1010"
      ]
     },
     "execution_count": 93,
     "metadata": {},
     "output_type": "execute_result"
    }
   ],
   "source": [
    "# 2018 SAT lowest mean total score\n",
    "final.sort_values(by='sat_2018_total')[['state', 'sat_2018_total']].head()"
   ]
  },
  {
   "cell_type": "markdown",
   "metadata": {},
   "source": [
    "2018 SAT lowest mean total score: District of Columbia"
   ]
  },
  {
   "cell_type": "code",
   "execution_count": 94,
   "metadata": {},
   "outputs": [
    {
     "data": {
      "text/html": [
       "<div>\n",
       "<style scoped>\n",
       "    .dataframe tbody tr th:only-of-type {\n",
       "        vertical-align: middle;\n",
       "    }\n",
       "\n",
       "    .dataframe tbody tr th {\n",
       "        vertical-align: top;\n",
       "    }\n",
       "\n",
       "    .dataframe thead th {\n",
       "        text-align: right;\n",
       "    }\n",
       "</style>\n",
       "<table border=\"1\" class=\"dataframe\">\n",
       "  <thead>\n",
       "    <tr style=\"text-align: right;\">\n",
       "      <th></th>\n",
       "      <th>state</th>\n",
       "      <th>sat_2018_total</th>\n",
       "    </tr>\n",
       "  </thead>\n",
       "  <tbody>\n",
       "    <tr>\n",
       "      <th>23</th>\n",
       "      <td>Minnesota</td>\n",
       "      <td>1298</td>\n",
       "    </tr>\n",
       "    <tr>\n",
       "      <th>49</th>\n",
       "      <td>Wisconsin</td>\n",
       "      <td>1294</td>\n",
       "    </tr>\n",
       "    <tr>\n",
       "      <th>34</th>\n",
       "      <td>North Dakota</td>\n",
       "      <td>1283</td>\n",
       "    </tr>\n",
       "    <tr>\n",
       "      <th>15</th>\n",
       "      <td>Iowa</td>\n",
       "      <td>1265</td>\n",
       "    </tr>\n",
       "    <tr>\n",
       "      <th>16</th>\n",
       "      <td>Kansas</td>\n",
       "      <td>1265</td>\n",
       "    </tr>\n",
       "  </tbody>\n",
       "</table>\n",
       "</div>"
      ],
      "text/plain": [
       "           state  sat_2018_total\n",
       "23     Minnesota            1298\n",
       "49     Wisconsin            1294\n",
       "34  North Dakota            1283\n",
       "15          Iowa            1265\n",
       "16        Kansas            1265"
      ]
     },
     "execution_count": 94,
     "metadata": {},
     "output_type": "execute_result"
    }
   ],
   "source": [
    "# 2018 SAT highest mean total score\n",
    "final.sort_values(by='sat_2018_total', ascending=False)[['state', 'sat_2018_total']].head()"
   ]
  },
  {
   "cell_type": "markdown",
   "metadata": {},
   "source": [
    "2018 SAT highest mean total score: Minnesota"
   ]
  },
  {
   "cell_type": "code",
   "execution_count": 95,
   "metadata": {},
   "outputs": [
    {
     "data": {
      "text/html": [
       "<div>\n",
       "<style scoped>\n",
       "    .dataframe tbody tr th:only-of-type {\n",
       "        vertical-align: middle;\n",
       "    }\n",
       "\n",
       "    .dataframe tbody tr th {\n",
       "        vertical-align: top;\n",
       "    }\n",
       "\n",
       "    .dataframe thead th {\n",
       "        text-align: right;\n",
       "    }\n",
       "</style>\n",
       "<table border=\"1\" class=\"dataframe\">\n",
       "  <thead>\n",
       "    <tr style=\"text-align: right;\">\n",
       "      <th></th>\n",
       "      <th>state</th>\n",
       "      <th>act_2017_composite</th>\n",
       "    </tr>\n",
       "  </thead>\n",
       "  <tbody>\n",
       "    <tr>\n",
       "      <th>29</th>\n",
       "      <td>New Hampshire</td>\n",
       "      <td>25.5</td>\n",
       "    </tr>\n",
       "    <tr>\n",
       "      <th>21</th>\n",
       "      <td>Massachusetts</td>\n",
       "      <td>25.4</td>\n",
       "    </tr>\n",
       "    <tr>\n",
       "      <th>6</th>\n",
       "      <td>Connecticut</td>\n",
       "      <td>25.2</td>\n",
       "    </tr>\n",
       "    <tr>\n",
       "      <th>19</th>\n",
       "      <td>Maine</td>\n",
       "      <td>24.3</td>\n",
       "    </tr>\n",
       "    <tr>\n",
       "      <th>8</th>\n",
       "      <td>District of Columbia</td>\n",
       "      <td>24.2</td>\n",
       "    </tr>\n",
       "  </tbody>\n",
       "</table>\n",
       "</div>"
      ],
      "text/plain": [
       "                   state  act_2017_composite\n",
       "29         New Hampshire                25.5\n",
       "21         Massachusetts                25.4\n",
       "6            Connecticut                25.2\n",
       "19                 Maine                24.3\n",
       "8   District of Columbia                24.2"
      ]
     },
     "execution_count": 95,
     "metadata": {},
     "output_type": "execute_result"
    }
   ],
   "source": [
    "# 2017 ACT highest mean composite score\n",
    "final.sort_values(by='act_2017_composite', ascending=False)[['state', 'act_2017_composite']].head()"
   ]
  },
  {
   "cell_type": "markdown",
   "metadata": {},
   "source": [
    "2017 ACT highest mean composite score: New Hampshire"
   ]
  },
  {
   "cell_type": "code",
   "execution_count": 96,
   "metadata": {},
   "outputs": [
    {
     "data": {
      "text/html": [
       "<div>\n",
       "<style scoped>\n",
       "    .dataframe tbody tr th:only-of-type {\n",
       "        vertical-align: middle;\n",
       "    }\n",
       "\n",
       "    .dataframe tbody tr th {\n",
       "        vertical-align: top;\n",
       "    }\n",
       "\n",
       "    .dataframe thead th {\n",
       "        text-align: right;\n",
       "    }\n",
       "</style>\n",
       "<table border=\"1\" class=\"dataframe\">\n",
       "  <thead>\n",
       "    <tr style=\"text-align: right;\">\n",
       "      <th></th>\n",
       "      <th>state</th>\n",
       "      <th>act_2017_composite</th>\n",
       "    </tr>\n",
       "  </thead>\n",
       "  <tbody>\n",
       "    <tr>\n",
       "      <th>28</th>\n",
       "      <td>Nevada</td>\n",
       "      <td>17.8</td>\n",
       "    </tr>\n",
       "    <tr>\n",
       "      <th>24</th>\n",
       "      <td>Mississippi</td>\n",
       "      <td>18.6</td>\n",
       "    </tr>\n",
       "    <tr>\n",
       "      <th>40</th>\n",
       "      <td>South Carolina</td>\n",
       "      <td>18.7</td>\n",
       "    </tr>\n",
       "    <tr>\n",
       "      <th>11</th>\n",
       "      <td>Hawaii</td>\n",
       "      <td>19.0</td>\n",
       "    </tr>\n",
       "    <tr>\n",
       "      <th>33</th>\n",
       "      <td>North Carolina</td>\n",
       "      <td>19.1</td>\n",
       "    </tr>\n",
       "  </tbody>\n",
       "</table>\n",
       "</div>"
      ],
      "text/plain": [
       "             state  act_2017_composite\n",
       "28          Nevada                17.8\n",
       "24     Mississippi                18.6\n",
       "40  South Carolina                18.7\n",
       "11          Hawaii                19.0\n",
       "33  North Carolina                19.1"
      ]
     },
     "execution_count": 96,
     "metadata": {},
     "output_type": "execute_result"
    }
   ],
   "source": [
    "# 2017 ACT lowest mean composite score\n",
    "final.sort_values(by='act_2017_composite')[['state', 'act_2017_composite']].head()"
   ]
  },
  {
   "cell_type": "markdown",
   "metadata": {},
   "source": [
    "2017 ACT lowest mean composite score: Nevada"
   ]
  },
  {
   "cell_type": "code",
   "execution_count": 97,
   "metadata": {},
   "outputs": [
    {
     "data": {
      "text/html": [
       "<div>\n",
       "<style scoped>\n",
       "    .dataframe tbody tr th:only-of-type {\n",
       "        vertical-align: middle;\n",
       "    }\n",
       "\n",
       "    .dataframe tbody tr th {\n",
       "        vertical-align: top;\n",
       "    }\n",
       "\n",
       "    .dataframe thead th {\n",
       "        text-align: right;\n",
       "    }\n",
       "</style>\n",
       "<table border=\"1\" class=\"dataframe\">\n",
       "  <thead>\n",
       "    <tr style=\"text-align: right;\">\n",
       "      <th></th>\n",
       "      <th>state</th>\n",
       "      <th>act_2018_composite</th>\n",
       "    </tr>\n",
       "  </thead>\n",
       "  <tbody>\n",
       "    <tr>\n",
       "      <th>6</th>\n",
       "      <td>Connecticut</td>\n",
       "      <td>25.6</td>\n",
       "    </tr>\n",
       "    <tr>\n",
       "      <th>21</th>\n",
       "      <td>Massachusetts</td>\n",
       "      <td>25.5</td>\n",
       "    </tr>\n",
       "    <tr>\n",
       "      <th>29</th>\n",
       "      <td>New Hampshire</td>\n",
       "      <td>25.1</td>\n",
       "    </tr>\n",
       "    <tr>\n",
       "      <th>32</th>\n",
       "      <td>New York</td>\n",
       "      <td>24.5</td>\n",
       "    </tr>\n",
       "    <tr>\n",
       "      <th>22</th>\n",
       "      <td>Michigan</td>\n",
       "      <td>24.4</td>\n",
       "    </tr>\n",
       "  </tbody>\n",
       "</table>\n",
       "</div>"
      ],
      "text/plain": [
       "            state  act_2018_composite\n",
       "6     Connecticut                25.6\n",
       "21  Massachusetts                25.5\n",
       "29  New Hampshire                25.1\n",
       "32       New York                24.5\n",
       "22       Michigan                24.4"
      ]
     },
     "execution_count": 97,
     "metadata": {},
     "output_type": "execute_result"
    }
   ],
   "source": [
    "# 2018 ACT highest mean composite score\n",
    "final.sort_values(by='act_2018_composite', ascending=False)[['state', 'act_2018_composite']].head()"
   ]
  },
  {
   "cell_type": "markdown",
   "metadata": {},
   "source": [
    "2018 ACT highest mean composite score: Connecticut"
   ]
  },
  {
   "cell_type": "code",
   "execution_count": 98,
   "metadata": {},
   "outputs": [
    {
     "data": {
      "text/html": [
       "<div>\n",
       "<style scoped>\n",
       "    .dataframe tbody tr th:only-of-type {\n",
       "        vertical-align: middle;\n",
       "    }\n",
       "\n",
       "    .dataframe tbody tr th {\n",
       "        vertical-align: top;\n",
       "    }\n",
       "\n",
       "    .dataframe thead th {\n",
       "        text-align: right;\n",
       "    }\n",
       "</style>\n",
       "<table border=\"1\" class=\"dataframe\">\n",
       "  <thead>\n",
       "    <tr style=\"text-align: right;\">\n",
       "      <th></th>\n",
       "      <th>state</th>\n",
       "      <th>act_2018_composite</th>\n",
       "    </tr>\n",
       "  </thead>\n",
       "  <tbody>\n",
       "    <tr>\n",
       "      <th>28</th>\n",
       "      <td>Nevada</td>\n",
       "      <td>17.7</td>\n",
       "    </tr>\n",
       "    <tr>\n",
       "      <th>40</th>\n",
       "      <td>South Carolina</td>\n",
       "      <td>18.3</td>\n",
       "    </tr>\n",
       "    <tr>\n",
       "      <th>24</th>\n",
       "      <td>Mississippi</td>\n",
       "      <td>18.6</td>\n",
       "    </tr>\n",
       "    <tr>\n",
       "      <th>11</th>\n",
       "      <td>Hawaii</td>\n",
       "      <td>18.9</td>\n",
       "    </tr>\n",
       "    <tr>\n",
       "      <th>0</th>\n",
       "      <td>Alabama</td>\n",
       "      <td>19.1</td>\n",
       "    </tr>\n",
       "  </tbody>\n",
       "</table>\n",
       "</div>"
      ],
      "text/plain": [
       "             state  act_2018_composite\n",
       "28          Nevada                17.7\n",
       "40  South Carolina                18.3\n",
       "24     Mississippi                18.6\n",
       "11          Hawaii                18.9\n",
       "0          Alabama                19.1"
      ]
     },
     "execution_count": 98,
     "metadata": {},
     "output_type": "execute_result"
    }
   ],
   "source": [
    "# 2018 ACT lowest mean composite score\n",
    "final.sort_values(by='act_2018_composite')[['state', 'act_2018_composite']].head()"
   ]
  },
  {
   "cell_type": "markdown",
   "metadata": {},
   "source": [
    "2018 ACT lowest mean composite score: Nevada"
   ]
  },
  {
   "cell_type": "markdown",
   "metadata": {},
   "source": [
    "##### Exploration of participation rate change"
   ]
  },
  {
   "cell_type": "code",
   "execution_count": 99,
   "metadata": {},
   "outputs": [],
   "source": [
    "act_full_participation_either_years = final.loc[(final['act_2017_participation'] == 1) | (final['act_2018_participation'] == 1), ['state', 'act_2017_participation', 'act_2018_participation']]"
   ]
  },
  {
   "cell_type": "code",
   "execution_count": 100,
   "metadata": {},
   "outputs": [
    {
     "data": {
      "text/html": [
       "<div>\n",
       "<style scoped>\n",
       "    .dataframe tbody tr th:only-of-type {\n",
       "        vertical-align: middle;\n",
       "    }\n",
       "\n",
       "    .dataframe tbody tr th {\n",
       "        vertical-align: top;\n",
       "    }\n",
       "\n",
       "    .dataframe thead th {\n",
       "        text-align: right;\n",
       "    }\n",
       "</style>\n",
       "<table border=\"1\" class=\"dataframe\">\n",
       "  <thead>\n",
       "    <tr style=\"text-align: right;\">\n",
       "      <th></th>\n",
       "      <th>state</th>\n",
       "      <th>act_2017_participation</th>\n",
       "      <th>act_2018_participation</th>\n",
       "    </tr>\n",
       "  </thead>\n",
       "  <tbody>\n",
       "    <tr>\n",
       "      <th>5</th>\n",
       "      <td>Colorado</td>\n",
       "      <td>1.00</td>\n",
       "      <td>0.30</td>\n",
       "    </tr>\n",
       "    <tr>\n",
       "      <th>23</th>\n",
       "      <td>Minnesota</td>\n",
       "      <td>1.00</td>\n",
       "      <td>0.99</td>\n",
       "    </tr>\n",
       "    <tr>\n",
       "      <th>27</th>\n",
       "      <td>Nebraska</td>\n",
       "      <td>0.84</td>\n",
       "      <td>1.00</td>\n",
       "    </tr>\n",
       "    <tr>\n",
       "      <th>35</th>\n",
       "      <td>Ohio</td>\n",
       "      <td>0.75</td>\n",
       "      <td>1.00</td>\n",
       "    </tr>\n",
       "  </tbody>\n",
       "</table>\n",
       "</div>"
      ],
      "text/plain": [
       "        state  act_2017_participation  act_2018_participation\n",
       "5    Colorado                    1.00                    0.30\n",
       "23  Minnesota                    1.00                    0.99\n",
       "27   Nebraska                    0.84                    1.00\n",
       "35       Ohio                    0.75                    1.00"
      ]
     },
     "execution_count": 100,
     "metadata": {},
     "output_type": "execute_result"
    }
   ],
   "source": [
    "act_full_participation_either_years.loc[act_full_participation_either_years['act_2017_participation'] != act_full_participation_either_years['act_2018_participation']]"
   ]
  },
  {
   "cell_type": "markdown",
   "metadata": {},
   "source": [
    "States with year-to-year participation rate change for ACT, given that there was 100% participation rate in either and/or both years: Colorado, Minnesota, Nebraska, Ohio"
   ]
  },
  {
   "cell_type": "code",
   "execution_count": 101,
   "metadata": {},
   "outputs": [],
   "source": [
    "sat_full_participation_either_years = final.loc[(final['sat_2017_participation'] == 1) | (final['sat_2018_participation'] == 1), ['state', 'sat_2017_participation', 'sat_2018_participation']]"
   ]
  },
  {
   "cell_type": "code",
   "execution_count": 102,
   "metadata": {},
   "outputs": [
    {
     "data": {
      "text/html": [
       "<div>\n",
       "<style scoped>\n",
       "    .dataframe tbody tr th:only-of-type {\n",
       "        vertical-align: middle;\n",
       "    }\n",
       "\n",
       "    .dataframe tbody tr th {\n",
       "        vertical-align: top;\n",
       "    }\n",
       "\n",
       "    .dataframe thead th {\n",
       "        text-align: right;\n",
       "    }\n",
       "</style>\n",
       "<table border=\"1\" class=\"dataframe\">\n",
       "  <thead>\n",
       "    <tr style=\"text-align: right;\">\n",
       "      <th></th>\n",
       "      <th>state</th>\n",
       "      <th>sat_2017_participation</th>\n",
       "      <th>sat_2018_participation</th>\n",
       "    </tr>\n",
       "  </thead>\n",
       "  <tbody>\n",
       "    <tr>\n",
       "      <th>5</th>\n",
       "      <td>Colorado</td>\n",
       "      <td>0.11</td>\n",
       "      <td>1.00</td>\n",
       "    </tr>\n",
       "    <tr>\n",
       "      <th>8</th>\n",
       "      <td>District of Columbia</td>\n",
       "      <td>1.00</td>\n",
       "      <td>0.92</td>\n",
       "    </tr>\n",
       "    <tr>\n",
       "      <th>12</th>\n",
       "      <td>Idaho</td>\n",
       "      <td>0.93</td>\n",
       "      <td>1.00</td>\n",
       "    </tr>\n",
       "  </tbody>\n",
       "</table>\n",
       "</div>"
      ],
      "text/plain": [
       "                   state  sat_2017_participation  sat_2018_participation\n",
       "5               Colorado                    0.11                    1.00\n",
       "8   District of Columbia                    1.00                    0.92\n",
       "12                 Idaho                    0.93                    1.00"
      ]
     },
     "execution_count": 102,
     "metadata": {},
     "output_type": "execute_result"
    }
   ],
   "source": [
    "sat_full_participation_either_years.loc[sat_full_participation_either_years['sat_2017_participation'] != sat_full_participation_either_years['sat_2018_participation']]"
   ]
  },
  {
   "cell_type": "markdown",
   "metadata": {},
   "source": [
    "States with year-to-year participation rate change for SAT, given that there was 100% participation rate in either and/or both years: Colorado, District of Columbia, Idaho"
   ]
  },
  {
   "cell_type": "markdown",
   "metadata": {},
   "source": [
    "##### States with participation rates of >50% on both tests either year"
   ]
  },
  {
   "cell_type": "code",
   "execution_count": 103,
   "metadata": {},
   "outputs": [
    {
     "data": {
      "text/html": [
       "<div>\n",
       "<style scoped>\n",
       "    .dataframe tbody tr th:only-of-type {\n",
       "        vertical-align: middle;\n",
       "    }\n",
       "\n",
       "    .dataframe tbody tr th {\n",
       "        vertical-align: top;\n",
       "    }\n",
       "\n",
       "    .dataframe thead th {\n",
       "        text-align: right;\n",
       "    }\n",
       "</style>\n",
       "<table border=\"1\" class=\"dataframe\">\n",
       "  <thead>\n",
       "    <tr style=\"text-align: right;\">\n",
       "      <th></th>\n",
       "      <th>state</th>\n",
       "      <th>act_2017_participation</th>\n",
       "      <th>sat_2017_participation</th>\n",
       "      <th>act_2018_participation</th>\n",
       "      <th>sat_2018_participation</th>\n",
       "    </tr>\n",
       "  </thead>\n",
       "  <tbody>\n",
       "    <tr>\n",
       "      <th>9</th>\n",
       "      <td>Florida</td>\n",
       "      <td>0.73</td>\n",
       "      <td>0.83</td>\n",
       "      <td>0.66</td>\n",
       "      <td>0.56</td>\n",
       "    </tr>\n",
       "    <tr>\n",
       "      <th>10</th>\n",
       "      <td>Georgia</td>\n",
       "      <td>0.55</td>\n",
       "      <td>0.61</td>\n",
       "      <td>0.53</td>\n",
       "      <td>0.70</td>\n",
       "    </tr>\n",
       "    <tr>\n",
       "      <th>11</th>\n",
       "      <td>Hawaii</td>\n",
       "      <td>0.90</td>\n",
       "      <td>0.55</td>\n",
       "      <td>0.89</td>\n",
       "      <td>0.56</td>\n",
       "    </tr>\n",
       "    <tr>\n",
       "      <th>33</th>\n",
       "      <td>North Carolina</td>\n",
       "      <td>1.00</td>\n",
       "      <td>0.49</td>\n",
       "      <td>1.00</td>\n",
       "      <td>0.52</td>\n",
       "    </tr>\n",
       "    <tr>\n",
       "      <th>40</th>\n",
       "      <td>South Carolina</td>\n",
       "      <td>1.00</td>\n",
       "      <td>0.50</td>\n",
       "      <td>1.00</td>\n",
       "      <td>0.55</td>\n",
       "    </tr>\n",
       "  </tbody>\n",
       "</table>\n",
       "</div>"
      ],
      "text/plain": [
       "             state  act_2017_participation  sat_2017_participation  \\\n",
       "9          Florida                    0.73                    0.83   \n",
       "10         Georgia                    0.55                    0.61   \n",
       "11          Hawaii                    0.90                    0.55   \n",
       "33  North Carolina                    1.00                    0.49   \n",
       "40  South Carolina                    1.00                    0.50   \n",
       "\n",
       "    act_2018_participation  sat_2018_participation  \n",
       "9                     0.66                    0.56  \n",
       "10                    0.53                    0.70  \n",
       "11                    0.89                    0.56  \n",
       "33                    1.00                    0.52  \n",
       "40                    1.00                    0.55  "
      ]
     },
     "execution_count": 103,
     "metadata": {},
     "output_type": "execute_result"
    }
   ],
   "source": [
    "participation_more_than_50_in_2017 = (final['act_2017_participation'] > 0.5) & (final['sat_2017_participation'] > 0.5)\n",
    "participation_more_than_50_in_2018 = (final['act_2018_participation'] > 0.5) & (final['sat_2018_participation'] > 0.5)\n",
    "final.loc[participation_more_than_50_in_2017|participation_more_than_50_in_2018, ['state', 'act_2017_participation', 'sat_2017_participation', 'act_2018_participation', 'sat_2018_participation']]"
   ]
  },
  {
   "cell_type": "markdown",
   "metadata": {},
   "source": [
    "## Visualize the data\n",
    "\n",
    "There's not a magic bullet recommendation for the right number of plots to understand a given dataset, but visualizing your data is *always* a good idea. Not only does it allow you to quickly convey your findings (even if you have a non-technical audience), it will often reveal trends in your data that escaped you when you were looking only at numbers.\n",
    "\n",
    "Some recommendations on plotting:\n",
    "- Plots have titles\n",
    "- Plots have axis labels\n",
    "- Plots have appropriate tick labels\n",
    "- All text is legible in a plot\n",
    "- Plots demonstrate meaningful and valid relationships\n",
    "- Plots are interpreted to aid understanding\n",
    "\n",
    "There is such a thing as too many plots, and there are a *lot* of bad plots. You might make some! (But hopefully not with the guided prompts below)."
   ]
  },
  {
   "cell_type": "markdown",
   "metadata": {},
   "source": [
    "#### Use Seaborn's heatmap with pandas `.corr()` to visualize correlations between all numeric features\n",
    "\n",
    "Heatmaps are generally not appropriate for presentations, and should often be excluded from reports as they can be visually overwhelming. **However**, they can be extremely useful in identify relationships of potential interest (as well as identifying potential collinearity before modeling).\n",
    "\n",
    "*example*:\n",
    "```python\n",
    "sns.heatmap(df.corr())\n",
    "```\n",
    "\n",
    "Please take time to format your output, adding a title. Look through some of the additional arguments and options. (Axis labels aren't really necessary, as long as the title is informative)."
   ]
  },
  {
   "cell_type": "code",
   "execution_count": 104,
   "metadata": {},
   "outputs": [
    {
     "data": {
      "image/png": "[encoded data removed]",
      "text/plain": [
       "<Figure size 1080x720 with 2 Axes>"
      ]
     },
     "metadata": {
      "needs_background": "light"
     },
     "output_type": "display_data"
    }
   ],
   "source": [
    "corr = final.corr()\n",
    "mask = np.zeros_like(corr)\n",
    "mask[np.triu_indices_from(mask)] = True\n",
    "\n",
    "# Plot our correlation heatmap, while masking the upper triangle to be white.\n",
    "plt.figure(figsize=(15,10))\n",
    "sns.heatmap(corr, mask=mask, vmax=.3, square=True, annot=True)\n",
    "plt.title('Heatmap of correlations between all numeric features');\n",
    "plt.savefig('../images/heatmap.png', transparent=True)"
   ]
  },
  {
   "cell_type": "markdown",
   "metadata": {},
   "source": [
    "ACT participation rates for both years have a strong negative correlation with ACT scores  \n",
    "ACT participation rates are negatively correlated to SAT participation rates for both years  \n",
    "ACT participation rate in year 2017 is strongly positively correlated to ACT participation rate in year 2018  \n",
    "ACT participation rates in both years are moderately positively correlated to the SAT scores"
   ]
  },
  {
   "cell_type": "markdown",
   "metadata": {},
   "source": [
    "SAT participation rates are negatively correlated to SAT scores  \n",
    "SAT participation rates are negatively correlated to ACT participation rates for both years  \n",
    "SAT participation rate in year 2017 is strongly positively correlated to SAT participation rate in year 2018  \n",
    "SAT participation rates are moderately positively correlated to ACT scores "
   ]
  },
  {
   "cell_type": "markdown",
   "metadata": {},
   "source": [
    "#### Define a custom function to subplot histograms\n",
    "\n",
    "We have data for two tests for two years. We only have composite (and not subtest scores) for the 2018 ACT. We should write a function that will take the names of 2+ columns and subplot histograms. While you can use pandas plotting or Seaborn here, matplotlib gives you greater control over all aspects of your plots.\n",
    "\n",
    "[Helpful Link for Plotting Multiple Figures](https://matplotlib.org/users/pyplot_tutorial.html#working-with-multiple-figures-and-axes)\n",
    "\n",
    "Here's some starter code:"
   ]
  },
  {
   "cell_type": "code",
   "execution_count": 105,
   "metadata": {},
   "outputs": [],
   "source": [
    "def subplot_histograms(dataframe, list_of_columns, list_of_titles, list_of_xlabels, filename):\n",
    "    nrows = int(np.ceil(len(list_of_columns)/2)) # Makes sure you have enough rows\n",
    "    fig, ax = plt.subplots(nrows=nrows, ncols=2, figsize=(12, 8), sharey='row') # You'll want to specify your figsize\n",
    "    ax = ax.ravel() # Ravel turns a matrix into a vector, which is easier to iterate\n",
    "    for i, column in enumerate(list_of_columns): # Gives us an index value to get into all our lists\n",
    "        ax[i].hist(dataframe[column]) # feel free to add more settings\n",
    "        # Set titles, labels, etc here for each subplot\n",
    "        ax[i].set_title(list_of_titles[i], fontsize=14)\n",
    "        ax[i].set_xlabel(list_of_xlabels[i], fontsize=13)\n",
    "    plt.tight_layout()\n",
    "    plt.savefig('../images/{}.png'.format(filename), transparent=True)"
   ]
  },
  {
   "cell_type": "markdown",
   "metadata": {},
   "source": [
    "#### Plot and interpret histograms \n",
    "For each of the following:\n",
    "- Participation rates for SAT & ACT\n",
    "- Math scores for SAT & ACT\n",
    "- Reading/verbal scores for SAT & ACT"
   ]
  },
  {
   "cell_type": "markdown",
   "metadata": {},
   "source": [
    "##### Participation rates for SAT & ACT"
   ]
  },
  {
   "cell_type": "code",
   "execution_count": 106,
   "metadata": {},
   "outputs": [
    {
     "data": {
      "image/png": "[encoded data removed]",
      "text/plain": [
       "<Figure size 864x576 with 4 Axes>"
      ]
     },
     "metadata": {
      "needs_background": "light"
     },
     "output_type": "display_data"
    }
   ],
   "source": [
    "subplot_histograms(final, \n",
    "                   ['act_2017_participation', 'act_2018_participation', 'sat_2017_participation', 'sat_2018_participation'], \n",
    "                   ['ACT 2017 \\u2014 Histogram of Participation Rates', 'ACT 2018 \\u2014 Histogram of Participation Rates', 'SAT 2017 \\u2014 Histogram of Participation Rates', 'SAT 2018 \\u2014 Histogram of Participation Rates'],\n",
    "                   ['Participation Rate', 'Participation Rate', 'Participation Rate', 'Participation Rate'],\n",
    "                   \"histogram_participation\")"
   ]
  },
  {
   "cell_type": "markdown",
   "metadata": {},
   "source": [
    "**Observation: The participation rates for both ACT and SAT in both years seem to be multimodal, and spread across the domain of 0 and 1.**"
   ]
  },
  {
   "cell_type": "code",
   "execution_count": 107,
   "metadata": {
    "scrolled": true
   },
   "outputs": [
    {
     "data": {
      "image/png": "[encoded data removed]",
      "text/plain": [
       "<Figure size 864x576 with 4 Axes>"
      ]
     },
     "metadata": {
      "needs_background": "light"
     },
     "output_type": "display_data"
    }
   ],
   "source": [
    "subplot_histograms(final, \n",
    "                   ['act_2017_math', 'act_2018_math', 'sat_2017_math', 'sat_2018_math'], \n",
    "                   ['ACT 2017 \\u2014 Histogram of Average Math Scores', 'ACT 2018 \\u2014 Histogram of Average Math Scores', 'SAT 2017 \\u2014 Histogram of Average Math Scores', 'SAT 2018 \\u2014 Histogram of Average Math Scores'],\n",
    "                   ['Average Math Score' for i in range(4)],\n",
    "                   \"histogram_math\")"
   ]
  },
  {
   "cell_type": "markdown",
   "metadata": {},
   "source": [
    "**Observation:  \n",
    "The average math scores for both ACT and SAT in both years seem to be multimodal.  \n",
    "The spread of the Average Math Scores for ACT 2017 is the range from 18 to 25.5.  \n",
    "The spread of the Average Math Scores for ACT 2018 is the range from 17.5 to 25.5.  \n",
    "The spread of the Average Math Scores for SAT 2017 is the range from 460 to 650.  \n",
    "The spread of the Average Math Scores for SAT 2018 is the range from 480 to 660.**"
   ]
  },
  {
   "cell_type": "code",
   "execution_count": 108,
   "metadata": {},
   "outputs": [
    {
     "data": {
      "image/png": "[encoded data removed]",
      "text/plain": [
       "<Figure size 864x576 with 4 Axes>"
      ]
     },
     "metadata": {
      "needs_background": "light"
     },
     "output_type": "display_data"
    }
   ],
   "source": [
    "subplot_histograms(final, \n",
    "                   ['act_2017_reading', 'act_2018_reading', 'sat_2017_ebrw', 'sat_2018_ebrw'], \n",
    "                   ['ACT 2017 \\u2014 Histogram of Average Reading Scores', 'ACT 2018 \\u2014 Histogram of Average Reading Scores', 'SAT 2017 \\u2014 Histogram of Average EBRW Scores', 'SAT 2018 \\u2014 Histogram of Average EBRW Scores'],\n",
    "                   ['Average Reading Score', 'Average Reading Score', 'Average Evidence-Based Reading and Writing Score', 'Average Evidence-Based Reading and Writing Score'],\n",
    "                   \"histogram_reading\")"
   ]
  },
  {
   "cell_type": "markdown",
   "metadata": {},
   "source": [
    "**Observation:  \n",
    "The average reading/evidence-based reading and writing scores for both ACT and SAT in both years seem to be multimodal.  \n",
    "The spread of the Average Reading Scores for ACT 2017 is the range from 18 to 26.  \n",
    "The spread of the Average Reading Scores for ACT 2018 is the range from 18 to 26.  \n",
    "The spread of the Average Evidence-Based Reading and Writing Scores for SAT 2017 is the range from 480 to 645.  \n",
    "The spread of the Average Evidence-Based Reading and Writing Scores for SAT 2018 is the range from 480 to 645.**"
   ]
  },
  {
   "cell_type": "markdown",
   "metadata": {},
   "source": [
    "#### Plot and interpret scatter plots\n",
    "\n",
    "For each of the following:\n",
    "- SAT vs. ACT math scores for 2017\n",
    "- SAT vs. ACT verbal/reading scores for 2017\n",
    "- SAT vs. ACT total/composite scores for 2017\n",
    "- Total scores for SAT 2017 vs. 2018\n",
    "- Composite scores for ACT 2017 vs. 2018\n",
    "\n",
    "Plot the two variables against each other using matplotlib or Seaborn\n",
    "\n",
    "Your plots should show:\n",
    "- Two clearly labeled axes\n",
    "- A proper title\n",
    "- Using colors and symbols that are clear and unmistakable\n",
    "\n",
    "**Feel free to write a custom function, and subplot if you'd like.** Functions save both time and space.\n"
   ]
  },
  {
   "cell_type": "code",
   "execution_count": 109,
   "metadata": {},
   "outputs": [],
   "source": [
    "# Create function that plots multiple scatterplots in one figure\n",
    "def subplot_scatterplots(dataframe, list_of_column_pairs, list_of_titles, list_of_labels, fig_size, filename):\n",
    "    num_subplots = len(list_of_column_pairs)\n",
    "    nrows = int(np.ceil(num_subplots/2)) # Makes sure you have enough rows\n",
    "    fig, ax = plt.subplots(nrows=nrows, ncols=2, figsize=fig_size) # You'll want to specify your figsize\n",
    "    ax = ax.ravel() # Ravel turns a matrix into a vector, which is easier to iterate\n",
    "\n",
    "    for i, column_pair in enumerate(list_of_column_pairs):\n",
    "        x_col, y_col = column_pair\n",
    "        ax[i].scatter(dataframe[x_col], dataframe[y_col])\n",
    "        # Set titles, labels, etc here for each subplot\n",
    "        ax[i].set_title(list_of_titles[i], fontsize=14)\n",
    "        ax[i].set_xlabel(list_of_labels[i][0], fontsize=13)\n",
    "        ax[i].set_ylabel(list_of_labels[i][1], fontsize=13)\n",
    "    \n",
    "    plt.tight_layout()\n",
    "    \n",
    "    if num_subplots%2 == 1:\n",
    "        fig.delaxes(ax.flatten()[num_subplots]) \n",
    "    plt.savefig('../images/{}.png'.format(filename), transparent=True)"
   ]
  },
  {
   "cell_type": "code",
   "execution_count": 110,
   "metadata": {},
   "outputs": [
    {
     "data": {
      "image/png": "[encoded data removed]",
      "text/plain": [
       "<Figure size 1080x720 with 3 Axes>"
      ]
     },
     "metadata": {
      "needs_background": "light"
     },
     "output_type": "display_data"
    }
   ],
   "source": [
    "subplot_scatterplots(final,\n",
    "                    [('sat_2017_math', 'act_2017_math'), \n",
    "                     ('sat_2017_ebrw', 'act_2017_reading'),\n",
    "                     ('sat_2017_total', 'act_2017_composite')],\n",
    "                    ['Scatterplot of Average Math Scores \\u2014 SAT 2017 vs. ACT 2017', \n",
    "                     'Scatterplot of Average Verbal/Reading Scores \\u2014 SAT 2017 vs. ACT 2017',\n",
    "                     'Scatterplot of Average Total/Composite Scores \\u2014 SAT 2017 vs. ACT 2017'],\n",
    "                    [('SAT 2017 \\u2014 Average Math Score', 'ACT 2017 \\u2014 Average Math Score'),\n",
    "                     ('SAT 2017 \\u2014 Average EBRW Score', 'ACT 2017 \\u2014 Average Reading Score'),\n",
    "                     ('SAT 2017 \\u2014 Average Total Score', 'ACT 2017 \\u2014 Average Composite Score')],\n",
    "                    (15,10),\n",
    "                    \"scatterplot_section_scores\")"
   ]
  },
  {
   "cell_type": "markdown",
   "metadata": {},
   "source": [
    "**There's a moderate negative correlation between each pair of variables.**"
   ]
  },
  {
   "cell_type": "code",
   "execution_count": 111,
   "metadata": {},
   "outputs": [
    {
     "data": {
      "image/png": "[encoded data removed]",
      "text/plain": [
       "<Figure size 1080x432 with 1 Axes>"
      ]
     },
     "metadata": {
      "needs_background": "light"
     },
     "output_type": "display_data"
    }
   ],
   "source": [
    "subplot_scatterplots(final,\n",
    "                    [('sat_2017_total', 'sat_2018_total')],\n",
    "                    ['Scatterplot of Average Total Scores \\u2014 SAT 2017 vs. SAT 2018'],\n",
    "                    [('SAT 2017 \\u2014 Average Total Score', 'SAT 2018 \\u2014 Average Total Score')],\n",
    "                    (15,6),\n",
    "                    \"scatterplot_sat_total_score\")"
   ]
  },
  {
   "cell_type": "markdown",
   "metadata": {},
   "source": [
    "**There's a strong positive correlation between the Average Total Scores of SAT 2017 and that of SAT 2018**"
   ]
  },
  {
   "cell_type": "code",
   "execution_count": 112,
   "metadata": {},
   "outputs": [
    {
     "data": {
      "image/png": "[encoded data removed]",
      "text/plain": [
       "<Figure size 1080x432 with 1 Axes>"
      ]
     },
     "metadata": {
      "needs_background": "light"
     },
     "output_type": "display_data"
    }
   ],
   "source": [
    "subplot_scatterplots(final,\n",
    "                    [('act_2017_composite', 'act_2018_composite')],\n",
    "                    ['Scatterplot of Average Composite Scores \\u2014 ACT 2017 vs. ACT 2018'],\n",
    "                    [('ACT 2017 \\u2014 Average Composite Score', 'ACT 2018 \\u2014 Average Composite Score')],\n",
    "                    (15,6),\n",
    "                    \"scatterplot_act_composite_score\")"
   ]
  },
  {
   "cell_type": "markdown",
   "metadata": {},
   "source": [
    "**There's a strong positive correlation between the Average Composite Scores of ACT 2017 and that of ACT 2018**"
   ]
  },
  {
   "cell_type": "markdown",
   "metadata": {},
   "source": [
    "#### Plot and interpret boxplots\n",
    "\n",
    "For each numeric variable in the dataframe create a boxplot using Seaborn. Boxplots demonstrate central tendency and spread in variables. In a certain sense, these are somewhat redundant with histograms, but you may be better able to identify clear outliers or differences in IQR, etc.\n",
    "\n",
    "Multiple values can be plotted to a single boxplot as long as they are of the same relative scale (meaning they have similar min/max values).\n",
    "\n",
    "Each boxplot should:\n",
    "- Only include variables of a similar scale\n",
    "- Have clear labels for each variable\n",
    "- Have appropriate titles and labels"
   ]
  },
  {
   "cell_type": "code",
   "execution_count": 113,
   "metadata": {},
   "outputs": [],
   "source": [
    "act_scores_col = [col for col in final if re.findall('(state|^act_201(7|8).*(?<!participation)$)', col)]\n",
    "act_2017_scores_col = ['state'] + [col for col in final if re.findall('^act_2017.*(?<!participation)$', col)]\n",
    "act_2018_scores_col = ['state'] + [col for col in final if re.findall('^act_2018.*(?<!participation)$', col)]"
   ]
  },
  {
   "cell_type": "markdown",
   "metadata": {},
   "source": [
    "##### Boxplot of ACT 2017 & ACT 2018 Scores"
   ]
  },
  {
   "cell_type": "markdown",
   "metadata": {},
   "source": [
    "###### Preprocess ACT 2017 Scores"
   ]
  },
  {
   "cell_type": "code",
   "execution_count": 114,
   "metadata": {},
   "outputs": [],
   "source": [
    "act_2017_scores = final[act_2017_scores_col].copy()\n",
    "\n",
    "# remove prefix of columns\n",
    "act_2017_scores.columns = act_2017_scores.columns.map(lambda col: col.replace('act_2017_', ''))\n",
    "\n",
    "# add years\n",
    "act_2017_scores = act_2017_scores.assign(year=2017)"
   ]
  },
  {
   "cell_type": "markdown",
   "metadata": {},
   "source": [
    "###### Preprocess ACT 2018 Scores"
   ]
  },
  {
   "cell_type": "code",
   "execution_count": 115,
   "metadata": {},
   "outputs": [],
   "source": [
    "act_2018_scores = final[act_2018_scores_col].copy()\n",
    "\n",
    "# remove prefix of columns\n",
    "act_2018_scores.columns = act_2018_scores.columns.map(lambda col: col.replace('act_2018_', ''))\n",
    "\n",
    "# add years\n",
    "act_2018_scores = act_2018_scores.assign(year=2018)"
   ]
  },
  {
   "cell_type": "code",
   "execution_count": 116,
   "metadata": {},
   "outputs": [],
   "source": [
    "act_scores = act_2018_scores.append(act_2017_scores, sort=False).reset_index(drop=True).copy()"
   ]
  },
  {
   "cell_type": "code",
   "execution_count": 117,
   "metadata": {},
   "outputs": [],
   "source": [
    "act_scores['year'] = act_scores['year'].astype('category')"
   ]
  },
  {
   "cell_type": "code",
   "execution_count": 118,
   "metadata": {},
   "outputs": [],
   "source": [
    "# Adjust box widths in side-by-side boxplots\n",
    "# https://stackoverflow.com/questions/56838187/how-to-create-spacing-between-same-subgroup-in-seaborn-boxplot\n",
    "# https://stackoverflow.com/questions/31498850/set-space-between-boxplots-in-python-graphs-generated-nested-box-plots-with-seab\n",
    "\n",
    "def adjust_box_widths(g, fac):\n",
    "    \"\"\"\n",
    "    Adjust the widths of a seaborn-generated boxplot.\n",
    "    \"\"\"\n",
    "\n",
    "    # iterating through Axes instances\n",
    "    for ax in g.axes:\n",
    "\n",
    "        # iterating through axes artists:\n",
    "        for c in ax.get_children():\n",
    "\n",
    "            # searching for PathPatches\n",
    "            if isinstance(c, PathPatch):\n",
    "                # getting current width of box:\n",
    "                p = c.get_path()\n",
    "                verts = p.vertices\n",
    "                verts_sub = verts[:-1]\n",
    "                xmin = np.min(verts_sub[:, 0])\n",
    "                xmax = np.max(verts_sub[:, 0])\n",
    "                xmid = 0.5*(xmin+xmax)\n",
    "                xhalf = 0.5*(xmax - xmin)\n",
    "\n",
    "                # setting new width of box\n",
    "                xmin_new = xmid-fac*xhalf\n",
    "                xmax_new = xmid+fac*xhalf\n",
    "                verts_sub[verts_sub[:, 0] == xmin, 0] = xmin_new\n",
    "                verts_sub[verts_sub[:, 0] == xmax, 0] = xmax_new\n",
    "\n",
    "                # setting new width of median line\n",
    "                for l in ax.lines:\n",
    "                    if np.all(l.get_xdata() == [xmin, xmax]):\n",
    "                        l.set_xdata([xmin_new, xmax_new])"
   ]
  },
  {
   "cell_type": "code",
   "execution_count": 119,
   "metadata": {},
   "outputs": [],
   "source": [
    "act_scores_long = pd.melt(act_scores.drop(columns='state'), \"year\", var_name=\"Subsections\", value_name=\"Average Scores\")"
   ]
  },
  {
   "cell_type": "code",
   "execution_count": 120,
   "metadata": {},
   "outputs": [
    {
     "name": "stderr",
     "output_type": "stream",
     "text": [
      "/home/dev/anaconda3/lib/python3.7/site-packages/ipykernel_launcher.py:35: DeprecationWarning: elementwise comparison failed; this will raise an error in the future.\n"
     ]
    },
    {
     "data": {
      "image/png": "[encoded data removed]",
      "text/plain": [
       "<Figure size 720x576 with 1 Axes>"
      ]
     },
     "metadata": {
      "needs_background": "light"
     },
     "output_type": "display_data"
    }
   ],
   "source": [
    "# https://stackoverflow.com/questions/25284859/grouping-boxplots-in-seaborn-when-input-is-a-dataframe\n",
    "# https://stackoverflow.com/questions/40241082/in-a-single-figure-boxplot-of-all-columns-split-by-a-label-column\n",
    "\n",
    "fig = plt.figure(figsize=(10, 8))\n",
    "sns.boxplot(x=\"Subsections\", hue=\"year\", y=\"Average Scores\", data=act_scores_long)\n",
    "plt.title('Boxplots of ACT Scores')\n",
    "adjust_box_widths(fig, 0.9)\n",
    "plt.savefig('../images/boxplot_act_scores.png', transparent=True)"
   ]
  },
  {
   "cell_type": "markdown",
   "metadata": {},
   "source": [
    "The average scores for the english and science sections are distributed over a smaller range of values whereas english, reading, and composite are distributed over a wider range of values"
   ]
  },
  {
   "cell_type": "markdown",
   "metadata": {},
   "source": [
    "The average scores for all sections are right-skewed where the mean is more than the median"
   ]
  },
  {
   "cell_type": "markdown",
   "metadata": {},
   "source": [
    "The median of each section do not vary much from 2017 to 2018"
   ]
  },
  {
   "cell_type": "markdown",
   "metadata": {},
   "source": [
    "##### Boxplot of ACT 2017 & ACT 2018 Participation Rates"
   ]
  },
  {
   "cell_type": "code",
   "execution_count": 121,
   "metadata": {},
   "outputs": [],
   "source": [
    "# act_2017_participation_col = [col for col in final if re.findall('^act_2017.*participation$' , col)]\n",
    "act_2017_participation_col = ['state', 'act_2017_participation']\n",
    "act_2018_participation_col = ['state', 'act_2018_participation']"
   ]
  },
  {
   "cell_type": "code",
   "execution_count": 122,
   "metadata": {},
   "outputs": [],
   "source": [
    "act_2017_participation = final[act_2017_participation_col].copy()\n",
    "\n",
    "# remove prefix of columns\n",
    "act_2017_participation.columns = act_2017_participation.columns.map(lambda col: col.replace('act_2017_', ''))\n",
    "\n",
    "# add years\n",
    "act_2017_participation = act_2017_participation.assign(year=2017)"
   ]
  },
  {
   "cell_type": "code",
   "execution_count": 123,
   "metadata": {},
   "outputs": [],
   "source": [
    "act_2018_participation = final[act_2018_participation_col].copy()\n",
    "\n",
    "# remove prefix of columns\n",
    "act_2018_participation.columns = act_2018_participation.columns.map(lambda col: col.replace('act_2018_', ''))\n",
    "\n",
    "# add years\n",
    "act_2018_participation = act_2018_participation.assign(year=2018)"
   ]
  },
  {
   "cell_type": "code",
   "execution_count": 124,
   "metadata": {},
   "outputs": [],
   "source": [
    "act_participation = act_2017_participation.append(act_2018_participation).reset_index(drop=True).copy()"
   ]
  },
  {
   "cell_type": "code",
   "execution_count": 125,
   "metadata": {},
   "outputs": [],
   "source": [
    "act_participation['year'] = act_participation['year'].astype('category')"
   ]
  },
  {
   "cell_type": "code",
   "execution_count": 126,
   "metadata": {},
   "outputs": [],
   "source": [
    "act_participation_long = pd.melt(act_participation.drop(columns='state'), \"year\", var_name=\"\", value_name=\"Average Participation\")"
   ]
  },
  {
   "cell_type": "code",
   "execution_count": 127,
   "metadata": {},
   "outputs": [
    {
     "name": "stderr",
     "output_type": "stream",
     "text": [
      "/home/dev/anaconda3/lib/python3.7/site-packages/ipykernel_launcher.py:35: DeprecationWarning: elementwise comparison failed; this will raise an error in the future.\n"
     ]
    },
    {
     "data": {
      "image/png": "[encoded data removed]",
      "text/plain": [
       "<Figure size 504x360 with 1 Axes>"
      ]
     },
     "metadata": {
      "needs_background": "light"
     },
     "output_type": "display_data"
    }
   ],
   "source": [
    "fig = plt.figure(figsize=(7, 5))\n",
    "sns.boxplot(x=\"\", hue=\"year\", y=\"Average Participation\", data=act_participation_long)\n",
    "plt.title('Boxplots of ACT Participation')\n",
    "adjust_box_widths(fig, 0.5)\n",
    "plt.savefig('../images/boxplot_act_participation.png', transparent=True)"
   ]
  },
  {
   "cell_type": "markdown",
   "metadata": {},
   "source": [
    "The median of the ACT Participation did not change by much from year 2017 to year 2018."
   ]
  },
  {
   "cell_type": "markdown",
   "metadata": {},
   "source": [
    "###### Boxplots of SAT Section Scores"
   ]
  },
  {
   "cell_type": "code",
   "execution_count": 128,
   "metadata": {},
   "outputs": [],
   "source": [
    "sat_2017_section_scores_col = ['state'] + [col for col in final if re.findall('^sat_2017.*[^(participation)(total)]$', col)]\n",
    "sat_2018_section_scores_col = ['state', 'sat_2018_ebrw', 'sat_2018_math']"
   ]
  },
  {
   "cell_type": "code",
   "execution_count": 129,
   "metadata": {},
   "outputs": [],
   "source": [
    "sat_2017_section_scores = final[sat_2017_section_scores_col].copy()\n",
    "\n",
    "# remove prefix of columns\n",
    "sat_2017_section_scores.columns = sat_2017_section_scores.columns.map(lambda col: col.replace('sat_2017_', ''))\n",
    "\n",
    "# add years\n",
    "sat_2017_section_scores = sat_2017_section_scores.assign(year=2017)"
   ]
  },
  {
   "cell_type": "code",
   "execution_count": 130,
   "metadata": {},
   "outputs": [],
   "source": [
    "sat_2018_section_scores = final[sat_2018_section_scores_col].copy()\n",
    "\n",
    "# remove prefix of columns\n",
    "sat_2018_section_scores.columns = sat_2018_section_scores.columns.map(lambda col: col.replace('sat_2018_', ''))\n",
    "\n",
    "# add years\n",
    "sat_2018_section_scores = sat_2018_section_scores.assign(year=2018)"
   ]
  },
  {
   "cell_type": "code",
   "execution_count": 131,
   "metadata": {},
   "outputs": [],
   "source": [
    "sat_section_scores = sat_2017_section_scores.append(sat_2018_section_scores).reset_index(drop=True).copy()"
   ]
  },
  {
   "cell_type": "code",
   "execution_count": 132,
   "metadata": {},
   "outputs": [],
   "source": [
    "sat_section_scores['year'] = sat_section_scores['year'].astype('category')"
   ]
  },
  {
   "cell_type": "code",
   "execution_count": 133,
   "metadata": {},
   "outputs": [],
   "source": [
    "sat_section_scores_long = pd.melt(sat_section_scores.drop(columns='state'), \"year\", var_name=\"Section\", value_name=\"Average Scores\")"
   ]
  },
  {
   "cell_type": "code",
   "execution_count": 134,
   "metadata": {},
   "outputs": [
    {
     "name": "stderr",
     "output_type": "stream",
     "text": [
      "/home/dev/anaconda3/lib/python3.7/site-packages/ipykernel_launcher.py:35: DeprecationWarning: elementwise comparison failed; this will raise an error in the future.\n"
     ]
    },
    {
     "data": {
      "image/png": "[encoded data removed]",
      "text/plain": [
       "<Figure size 576x576 with 1 Axes>"
      ]
     },
     "metadata": {
      "needs_background": "light"
     },
     "output_type": "display_data"
    }
   ],
   "source": [
    "fig = plt.figure(figsize=(8, 8))\n",
    "sns.boxplot(x=\"Section\", hue=\"year\", y=\"Average Scores\", data=sat_section_scores_long)\n",
    "plt.title('Boxplots of SAT Section Scores')\n",
    "plt.legend(loc='upper left')\n",
    "adjust_box_widths(fig, 0.7);\n",
    "plt.savefig('../images/boxplot_sat_scores.png', transparent=True)"
   ]
  },
  {
   "cell_type": "markdown",
   "metadata": {},
   "source": [
    "The median for the respective EBRW and Math sections did not change by much from 2017 to 2018.  \n",
    "It can be observed however that the median decreased and the distribution has become more right skewed."
   ]
  },
  {
   "cell_type": "code",
   "execution_count": 135,
   "metadata": {},
   "outputs": [],
   "source": [
    "sat_2017_participation_total = final[['state', 'sat_2017_participation', 'sat_2017_total']].copy()\n",
    "\n",
    "# remove prefix of columns\n",
    "sat_2017_participation_total.columns = sat_2017_participation_total.columns.map(lambda col: col.replace('sat_2017_', ''))\n",
    "\n",
    "# add years\n",
    "sat_2017_participation_total = sat_2017_participation_total.assign(year=2017)"
   ]
  },
  {
   "cell_type": "code",
   "execution_count": 136,
   "metadata": {},
   "outputs": [],
   "source": [
    "sat_2018_participation_total = final[['state', 'sat_2018_participation', 'sat_2018_total']].copy()\n",
    "\n",
    "# remove prefix of columns\n",
    "sat_2018_participation_total.columns = sat_2018_participation_total.columns.map(lambda col: col.replace('sat_2018_', ''))\n",
    "\n",
    "# add years\n",
    "sat_2018_participation_total = sat_2018_participation_total.assign(year=2018)"
   ]
  },
  {
   "cell_type": "code",
   "execution_count": 137,
   "metadata": {},
   "outputs": [],
   "source": [
    "sat_participation_total = sat_2017_participation_total.append(sat_2018_participation_total).reset_index(drop=True).copy()"
   ]
  },
  {
   "cell_type": "code",
   "execution_count": 138,
   "metadata": {},
   "outputs": [],
   "source": [
    "sat_participation_total['year'] = sat_participation_total['year'].astype('category')"
   ]
  },
  {
   "cell_type": "code",
   "execution_count": 139,
   "metadata": {},
   "outputs": [
    {
     "data": {
      "text/html": [
       "<div>\n",
       "<style scoped>\n",
       "    .dataframe tbody tr th:only-of-type {\n",
       "        vertical-align: middle;\n",
       "    }\n",
       "\n",
       "    .dataframe tbody tr th {\n",
       "        vertical-align: top;\n",
       "    }\n",
       "\n",
       "    .dataframe thead th {\n",
       "        text-align: right;\n",
       "    }\n",
       "</style>\n",
       "<table border=\"1\" class=\"dataframe\">\n",
       "  <thead>\n",
       "    <tr style=\"text-align: right;\">\n",
       "      <th></th>\n",
       "      <th>state</th>\n",
       "      <th>participation</th>\n",
       "      <th>total</th>\n",
       "      <th>year</th>\n",
       "    </tr>\n",
       "  </thead>\n",
       "  <tbody>\n",
       "    <tr>\n",
       "      <th>0</th>\n",
       "      <td>Alabama</td>\n",
       "      <td>0.05</td>\n",
       "      <td>1165</td>\n",
       "      <td>2017</td>\n",
       "    </tr>\n",
       "    <tr>\n",
       "      <th>1</th>\n",
       "      <td>Alaska</td>\n",
       "      <td>0.38</td>\n",
       "      <td>1080</td>\n",
       "      <td>2017</td>\n",
       "    </tr>\n",
       "    <tr>\n",
       "      <th>2</th>\n",
       "      <td>Arizona</td>\n",
       "      <td>0.30</td>\n",
       "      <td>1116</td>\n",
       "      <td>2017</td>\n",
       "    </tr>\n",
       "    <tr>\n",
       "      <th>3</th>\n",
       "      <td>Arkansas</td>\n",
       "      <td>0.03</td>\n",
       "      <td>1208</td>\n",
       "      <td>2017</td>\n",
       "    </tr>\n",
       "    <tr>\n",
       "      <th>4</th>\n",
       "      <td>California</td>\n",
       "      <td>0.53</td>\n",
       "      <td>1055</td>\n",
       "      <td>2017</td>\n",
       "    </tr>\n",
       "    <tr>\n",
       "      <th>...</th>\n",
       "      <td>...</td>\n",
       "      <td>...</td>\n",
       "      <td>...</td>\n",
       "      <td>...</td>\n",
       "    </tr>\n",
       "    <tr>\n",
       "      <th>97</th>\n",
       "      <td>Virginia</td>\n",
       "      <td>0.68</td>\n",
       "      <td>1117</td>\n",
       "      <td>2018</td>\n",
       "    </tr>\n",
       "    <tr>\n",
       "      <th>98</th>\n",
       "      <td>Washington</td>\n",
       "      <td>0.69</td>\n",
       "      <td>1081</td>\n",
       "      <td>2018</td>\n",
       "    </tr>\n",
       "    <tr>\n",
       "      <th>99</th>\n",
       "      <td>West Virginia</td>\n",
       "      <td>0.28</td>\n",
       "      <td>999</td>\n",
       "      <td>2018</td>\n",
       "    </tr>\n",
       "    <tr>\n",
       "      <th>100</th>\n",
       "      <td>Wisconsin</td>\n",
       "      <td>0.03</td>\n",
       "      <td>1294</td>\n",
       "      <td>2018</td>\n",
       "    </tr>\n",
       "    <tr>\n",
       "      <th>101</th>\n",
       "      <td>Wyoming</td>\n",
       "      <td>0.03</td>\n",
       "      <td>1257</td>\n",
       "      <td>2018</td>\n",
       "    </tr>\n",
       "  </tbody>\n",
       "</table>\n",
       "<p>102 rows × 4 columns</p>\n",
       "</div>"
      ],
      "text/plain": [
       "             state  participation  total  year\n",
       "0          Alabama           0.05   1165  2017\n",
       "1           Alaska           0.38   1080  2017\n",
       "2          Arizona           0.30   1116  2017\n",
       "3         Arkansas           0.03   1208  2017\n",
       "4       California           0.53   1055  2017\n",
       "..             ...            ...    ...   ...\n",
       "97        Virginia           0.68   1117  2018\n",
       "98      Washington           0.69   1081  2018\n",
       "99   West Virginia           0.28    999  2018\n",
       "100      Wisconsin           0.03   1294  2018\n",
       "101        Wyoming           0.03   1257  2018\n",
       "\n",
       "[102 rows x 4 columns]"
      ]
     },
     "execution_count": 139,
     "metadata": {},
     "output_type": "execute_result"
    }
   ],
   "source": [
    "sat_participation_total"
   ]
  },
  {
   "cell_type": "code",
   "execution_count": 140,
   "metadata": {},
   "outputs": [
    {
     "name": "stderr",
     "output_type": "stream",
     "text": [
      "/home/dev/anaconda3/lib/python3.7/site-packages/ipykernel_launcher.py:35: DeprecationWarning: elementwise comparison failed; this will raise an error in the future.\n"
     ]
    },
    {
     "data": {
      "image/png": "[encoded data removed]",
      "text/plain": [
       "<Figure size 432x360 with 1 Axes>"
      ]
     },
     "metadata": {
      "needs_background": "light"
     },
     "output_type": "display_data"
    }
   ],
   "source": [
    "fig = plt.figure(figsize=(6, 5))\n",
    "sns.boxplot(x=\"year\", y=\"participation\", data=sat_participation_total)\n",
    "plt.title('Boxplots of SAT Average Participation Rates')\n",
    "plt.xlabel('Year')\n",
    "plt.ylabel('Average Participation Rates')\n",
    "adjust_box_widths(fig, 0.5);\n",
    "plt.savefig('../images/boxplot_sat_participation.png', transparent=True)"
   ]
  },
  {
   "cell_type": "markdown",
   "metadata": {},
   "source": [
    "The median of the average participation rates increased from 2017 to 2018.  \n",
    "The average participation rates became more left skewed in 2018 compared to 2017."
   ]
  },
  {
   "cell_type": "code",
   "execution_count": 141,
   "metadata": {},
   "outputs": [
    {
     "name": "stderr",
     "output_type": "stream",
     "text": [
      "/home/dev/anaconda3/lib/python3.7/site-packages/ipykernel_launcher.py:35: DeprecationWarning: elementwise comparison failed; this will raise an error in the future.\n"
     ]
    },
    {
     "data": {
      "image/png": "[encoded data removed]",
      "text/plain": [
       "<Figure size 432x360 with 1 Axes>"
      ]
     },
     "metadata": {
      "needs_background": "light"
     },
     "output_type": "display_data"
    }
   ],
   "source": [
    "fig = plt.figure(figsize=(6, 5))\n",
    "sns.boxplot(x=\"year\", y=\"total\", data=sat_participation_total)\n",
    "plt.title('Boxplots of SAT Average Total Score')\n",
    "plt.xlabel('Year')\n",
    "plt.ylabel('Average Total Score')\n",
    "adjust_box_widths(fig, 0.5);\n",
    "plt.savefig('../images/boxplot_sat_total_score.png', transparent=True)"
   ]
  },
  {
   "cell_type": "markdown",
   "metadata": {},
   "source": [
    "The variance of the average total scores for the SAT decreased in 2018."
   ]
  },
  {
   "cell_type": "code",
   "execution_count": 142,
   "metadata": {},
   "outputs": [],
   "source": [
    "sat_act_participation = pd.concat([act_participation.rename(columns={'participation': 'act_participation'}),\n",
    "                                   sat_participation_total[['participation']].rename(columns={'participation': 'sat_participation'})\n",
    "                                  ],\n",
    "                                  axis=1)"
   ]
  },
  {
   "cell_type": "code",
   "execution_count": 143,
   "metadata": {},
   "outputs": [
    {
     "data": {
      "text/html": [
       "<div>\n",
       "<style scoped>\n",
       "    .dataframe tbody tr th:only-of-type {\n",
       "        vertical-align: middle;\n",
       "    }\n",
       "\n",
       "    .dataframe tbody tr th {\n",
       "        vertical-align: top;\n",
       "    }\n",
       "\n",
       "    .dataframe thead th {\n",
       "        text-align: right;\n",
       "    }\n",
       "</style>\n",
       "<table border=\"1\" class=\"dataframe\">\n",
       "  <thead>\n",
       "    <tr style=\"text-align: right;\">\n",
       "      <th></th>\n",
       "      <th>state</th>\n",
       "      <th>act_participation</th>\n",
       "      <th>year</th>\n",
       "      <th>sat_participation</th>\n",
       "    </tr>\n",
       "  </thead>\n",
       "  <tbody>\n",
       "    <tr>\n",
       "      <th>0</th>\n",
       "      <td>Alabama</td>\n",
       "      <td>1.00</td>\n",
       "      <td>2017</td>\n",
       "      <td>0.05</td>\n",
       "    </tr>\n",
       "    <tr>\n",
       "      <th>1</th>\n",
       "      <td>Alaska</td>\n",
       "      <td>0.65</td>\n",
       "      <td>2017</td>\n",
       "      <td>0.38</td>\n",
       "    </tr>\n",
       "    <tr>\n",
       "      <th>2</th>\n",
       "      <td>Arizona</td>\n",
       "      <td>0.62</td>\n",
       "      <td>2017</td>\n",
       "      <td>0.30</td>\n",
       "    </tr>\n",
       "    <tr>\n",
       "      <th>3</th>\n",
       "      <td>Arkansas</td>\n",
       "      <td>1.00</td>\n",
       "      <td>2017</td>\n",
       "      <td>0.03</td>\n",
       "    </tr>\n",
       "    <tr>\n",
       "      <th>4</th>\n",
       "      <td>California</td>\n",
       "      <td>0.31</td>\n",
       "      <td>2017</td>\n",
       "      <td>0.53</td>\n",
       "    </tr>\n",
       "  </tbody>\n",
       "</table>\n",
       "</div>"
      ],
      "text/plain": [
       "        state  act_participation  year  sat_participation\n",
       "0     Alabama               1.00  2017               0.05\n",
       "1      Alaska               0.65  2017               0.38\n",
       "2     Arizona               0.62  2017               0.30\n",
       "3    Arkansas               1.00  2017               0.03\n",
       "4  California               0.31  2017               0.53"
      ]
     },
     "execution_count": 143,
     "metadata": {},
     "output_type": "execute_result"
    }
   ],
   "source": [
    "sat_act_participation.head()"
   ]
  },
  {
   "cell_type": "code",
   "execution_count": 144,
   "metadata": {},
   "outputs": [],
   "source": [
    "sat_act_participation_long = pd.melt(sat_act_participation.drop(columns='state'), \"year\", var_name=\"Exam Participated\", value_name=\"Participation Rate\")"
   ]
  },
  {
   "cell_type": "code",
   "execution_count": 145,
   "metadata": {},
   "outputs": [
    {
     "name": "stderr",
     "output_type": "stream",
     "text": [
      "/home/dev/anaconda3/lib/python3.7/site-packages/ipykernel_launcher.py:35: DeprecationWarning: elementwise comparison failed; this will raise an error in the future.\n"
     ]
    },
    {
     "data": {
      "image/png": "[encoded data removed]",
      "text/plain": [
       "<Figure size 576x576 with 1 Axes>"
      ]
     },
     "metadata": {
      "needs_background": "light"
     },
     "output_type": "display_data"
    }
   ],
   "source": [
    "fig = plt.figure(figsize=(8, 8))\n",
    "sns.boxplot(x=\"Exam Participated\", hue=\"year\", y=\"Participation Rate\", data=sat_act_participation_long)\n",
    "plt.title('Boxplots of SAT and ACT Participation Rates')\n",
    "plt.legend(loc='upper left')\n",
    "adjust_box_widths(fig, 0.7);\n",
    "plt.savefig('../images/boxplot_sat_act_participation.png', transparent=True)"
   ]
  },
  {
   "cell_type": "markdown",
   "metadata": {},
   "source": [
    "#### Feel free to do additional plots below\n",
    "*(do research and choose your own chart types & variables)*\n",
    "\n",
    "Are there any additional trends or relationships you haven't explored? Was there something interesting you saw that you'd like to dive further into? It's likely that there are a few more plots you might want to generate to support your narrative and recommendations that you are building toward. **As always, make sure you're interpreting your plots as you go**."
   ]
  },
  {
   "cell_type": "code",
   "execution_count": 146,
   "metadata": {},
   "outputs": [],
   "source": [
    "# Code\n",
    "def subplot_scatterplots_conditional(dataframe, list_of_column_pairs, list_of_titles, list_of_labels, fig_size, title, sharex, filename):\n",
    "    num_subplots = len(list_of_column_pairs)\n",
    "    nrows = int(np.ceil(num_subplots/2)) # Makes sure you have enough rows\n",
    "    fig, ax = plt.subplots(nrows=nrows, ncols=2, figsize=fig_size, sharey='row', sharex=sharex) # You'll want to specify your figsize\n",
    "    ax = ax.ravel() # Ravel turns a matrix into a vector, which is easier to iterate\n",
    "    \n",
    "    colors = {2017:'blue', 2018:'orange'}\n",
    "    \n",
    "\n",
    "    z = randn(10)\n",
    "    legend_elements = [\n",
    "                   Line2D([0], [0], linewidth=0, marker='o', color='blue', label='2017',\n",
    "                          markerfacecolor='blue', markersize=6),\n",
    "                   Line2D([0], [0], linewidth=0, marker='o', color='orange', label='2018',\n",
    "                          markerfacecolor='orange', markersize=6)\n",
    "    ]\n",
    "    \n",
    "    \n",
    "    for i, column_pair in enumerate(list_of_column_pairs):\n",
    "        x_col, y_col = column_pair\n",
    "                \n",
    "        scatter = ax[i].scatter(dataframe[x_col], \n",
    "                      dataframe[y_col], \n",
    "                      c=dataframe['year'].apply(lambda x: colors[x]))\n",
    "        # Set titles, labels, etc here for each subplot\n",
    "        ax[i].set_xlabel(list_of_labels[i][0], fontsize=13)\n",
    "        ax[i].set_ylabel(list_of_labels[i][1], fontsize=13)\n",
    "        ax[i].legend(handles=legend_elements)\n",
    "    \n",
    "    if num_subplots < 2:\n",
    "        ax[0].set_title(title)\n",
    "    else:\n",
    "        plt.suptitle(title)\n",
    "    plt.tight_layout(rect=[0, 0.03, 1, 0.95])\n",
    "    \n",
    "    \n",
    "    if num_subplots%2 == 1:\n",
    "        fig.delaxes(ax.flatten()[num_subplots])\n",
    "        \n",
    "    plt.savefig('../images/{}'.format(filename), transparent=True)"
   ]
  },
  {
   "cell_type": "code",
   "execution_count": 147,
   "metadata": {},
   "outputs": [
    {
     "data": {
      "text/plain": [
       "(102, 8)"
      ]
     },
     "execution_count": 147,
     "metadata": {},
     "output_type": "execute_result"
    }
   ],
   "source": [
    "# Plot participation of each test against each respective tests scores\n",
    "act_combined = pd.concat([act_scores, act_participation.drop(columns=['state', 'year'])], axis=1)\n",
    "act_combined.shape"
   ]
  },
  {
   "cell_type": "code",
   "execution_count": 148,
   "metadata": {},
   "outputs": [
    {
     "data": {
      "text/plain": [
       "Index(['state', 'composite', 'english', 'math', 'reading', 'science', 'year',\n",
       "       'participation'],\n",
       "      dtype='object')"
      ]
     },
     "execution_count": 148,
     "metadata": {},
     "output_type": "execute_result"
    }
   ],
   "source": [
    "act_combined.columns"
   ]
  },
  {
   "cell_type": "code",
   "execution_count": 149,
   "metadata": {},
   "outputs": [
    {
     "data": {
      "image/png": "[encoded data removed]",
      "text/plain": [
       "<Figure size 864x864 with 5 Axes>"
      ]
     },
     "metadata": {
      "needs_background": "light"
     },
     "output_type": "display_data"
    }
   ],
   "source": [
    "subplot_scatterplots_conditional(act_combined, \n",
    "                         [('english', 'participation'), \n",
    "                          ('math', 'participation'), \n",
    "                          ('reading', 'participation'),\n",
    "                          ('science', 'participation'),\n",
    "                          ('composite', 'participation')], \n",
    "                         ['', '', '', '', ''], \n",
    "                         [('English', 'Participation'), \n",
    "                          ('Math', ''), \n",
    "                          ('Reading', 'Participation'),\n",
    "                          ('Science', ''),\n",
    "                          ('Composite', 'Participation')], \n",
    "                         (12,12),\n",
    "                         \"Scatterplots of ACT Participation Rates vs. each ACT section scores in year 2017 and 2018\",\n",
    "                         True,\n",
    "                         \"scatterplot_act_participation_vs_section_scores\")"
   ]
  },
  {
   "cell_type": "markdown",
   "metadata": {},
   "source": [
    "Findings: There is a moderate negative correlation between the participation rates for the ACT and the scores for each section of the ACT. A possible explanation for this correlation may be due to less academically inclined students being compelled to take the ACT, boosting participation rates and at the same time, contributing to a lower mean score."
   ]
  },
  {
   "cell_type": "code",
   "execution_count": 150,
   "metadata": {},
   "outputs": [
    {
     "data": {
      "text/plain": [
       "(102, 6)"
      ]
     },
     "execution_count": 150,
     "metadata": {},
     "output_type": "execute_result"
    }
   ],
   "source": [
    "sat_combined = pd.concat([sat_section_scores, sat_participation_total.drop(columns=['state', 'year'])], axis=1)\n",
    "sat_combined.shape"
   ]
  },
  {
   "cell_type": "code",
   "execution_count": 151,
   "metadata": {},
   "outputs": [
    {
     "data": {
      "text/plain": [
       "Index(['state', 'ebrw', 'math', 'year', 'participation', 'total'], dtype='object')"
      ]
     },
     "execution_count": 151,
     "metadata": {},
     "output_type": "execute_result"
    }
   ],
   "source": [
    "sat_combined.columns"
   ]
  },
  {
   "cell_type": "code",
   "execution_count": 152,
   "metadata": {},
   "outputs": [
    {
     "data": {
      "image/png": "[encoded data removed]",
      "text/plain": [
       "<Figure size 864x864 with 3 Axes>"
      ]
     },
     "metadata": {
      "needs_background": "light"
     },
     "output_type": "display_data"
    }
   ],
   "source": [
    "subplot_scatterplots_conditional(sat_combined, \n",
    "                         [('ebrw', 'participation'), \n",
    "                          ('math', 'participation'), \n",
    "                          ('total', 'participation')], \n",
    "                         ['', '', ''], \n",
    "                         [('Evidence-Based Reading and Writing', 'Participation'), \n",
    "                          ('Math', 'Participation'), \n",
    "                          ('Total', 'Participation')], \n",
    "                         (12,12),\n",
    "                         \"Scatterplots of SAT Participation Rates vs. each SAT section scores in year 2017 and 2018\",\n",
    "                         False,\n",
    "                         \"scatterplot_sat_participation_vs_section_scores\")"
   ]
  },
  {
   "cell_type": "markdown",
   "metadata": {},
   "source": [
    "Findings: There is a strong negative correlation between the participation rates for the SAT and the scores for each section of the SAT. A possible explanation for this correlation may be due to less academically inclined students being compelled to take the SAT, boosting participation rates and at the same time, contributing to a lower mean score."
   ]
  },
  {
   "cell_type": "code",
   "execution_count": 153,
   "metadata": {},
   "outputs": [
    {
     "data": {
      "text/html": [
       "<div>\n",
       "<style scoped>\n",
       "    .dataframe tbody tr th:only-of-type {\n",
       "        vertical-align: middle;\n",
       "    }\n",
       "\n",
       "    .dataframe tbody tr th {\n",
       "        vertical-align: top;\n",
       "    }\n",
       "\n",
       "    .dataframe thead th {\n",
       "        text-align: right;\n",
       "    }\n",
       "</style>\n",
       "<table border=\"1\" class=\"dataframe\">\n",
       "  <thead>\n",
       "    <tr style=\"text-align: right;\">\n",
       "      <th></th>\n",
       "      <th>state</th>\n",
       "      <th>ebrw</th>\n",
       "      <th>math</th>\n",
       "      <th>year</th>\n",
       "      <th>participation</th>\n",
       "      <th>total</th>\n",
       "    </tr>\n",
       "  </thead>\n",
       "  <tbody>\n",
       "    <tr>\n",
       "      <th>0</th>\n",
       "      <td>Alabama</td>\n",
       "      <td>593</td>\n",
       "      <td>572</td>\n",
       "      <td>2017</td>\n",
       "      <td>0.05</td>\n",
       "      <td>1165</td>\n",
       "    </tr>\n",
       "    <tr>\n",
       "      <th>1</th>\n",
       "      <td>Alaska</td>\n",
       "      <td>547</td>\n",
       "      <td>533</td>\n",
       "      <td>2017</td>\n",
       "      <td>0.38</td>\n",
       "      <td>1080</td>\n",
       "    </tr>\n",
       "    <tr>\n",
       "      <th>2</th>\n",
       "      <td>Arizona</td>\n",
       "      <td>563</td>\n",
       "      <td>553</td>\n",
       "      <td>2017</td>\n",
       "      <td>0.30</td>\n",
       "      <td>1116</td>\n",
       "    </tr>\n",
       "    <tr>\n",
       "      <th>3</th>\n",
       "      <td>Arkansas</td>\n",
       "      <td>614</td>\n",
       "      <td>594</td>\n",
       "      <td>2017</td>\n",
       "      <td>0.03</td>\n",
       "      <td>1208</td>\n",
       "    </tr>\n",
       "    <tr>\n",
       "      <th>4</th>\n",
       "      <td>California</td>\n",
       "      <td>531</td>\n",
       "      <td>524</td>\n",
       "      <td>2017</td>\n",
       "      <td>0.53</td>\n",
       "      <td>1055</td>\n",
       "    </tr>\n",
       "    <tr>\n",
       "      <th>...</th>\n",
       "      <td>...</td>\n",
       "      <td>...</td>\n",
       "      <td>...</td>\n",
       "      <td>...</td>\n",
       "      <td>...</td>\n",
       "      <td>...</td>\n",
       "    </tr>\n",
       "    <tr>\n",
       "      <th>97</th>\n",
       "      <td>Virginia</td>\n",
       "      <td>567</td>\n",
       "      <td>550</td>\n",
       "      <td>2018</td>\n",
       "      <td>0.68</td>\n",
       "      <td>1117</td>\n",
       "    </tr>\n",
       "    <tr>\n",
       "      <th>98</th>\n",
       "      <td>Washington</td>\n",
       "      <td>543</td>\n",
       "      <td>538</td>\n",
       "      <td>2018</td>\n",
       "      <td>0.69</td>\n",
       "      <td>1081</td>\n",
       "    </tr>\n",
       "    <tr>\n",
       "      <th>99</th>\n",
       "      <td>West Virginia</td>\n",
       "      <td>513</td>\n",
       "      <td>486</td>\n",
       "      <td>2018</td>\n",
       "      <td>0.28</td>\n",
       "      <td>999</td>\n",
       "    </tr>\n",
       "    <tr>\n",
       "      <th>100</th>\n",
       "      <td>Wisconsin</td>\n",
       "      <td>641</td>\n",
       "      <td>653</td>\n",
       "      <td>2018</td>\n",
       "      <td>0.03</td>\n",
       "      <td>1294</td>\n",
       "    </tr>\n",
       "    <tr>\n",
       "      <th>101</th>\n",
       "      <td>Wyoming</td>\n",
       "      <td>633</td>\n",
       "      <td>625</td>\n",
       "      <td>2018</td>\n",
       "      <td>0.03</td>\n",
       "      <td>1257</td>\n",
       "    </tr>\n",
       "  </tbody>\n",
       "</table>\n",
       "<p>102 rows × 6 columns</p>\n",
       "</div>"
      ],
      "text/plain": [
       "             state  ebrw  math  year  participation  total\n",
       "0          Alabama   593   572  2017           0.05   1165\n",
       "1           Alaska   547   533  2017           0.38   1080\n",
       "2          Arizona   563   553  2017           0.30   1116\n",
       "3         Arkansas   614   594  2017           0.03   1208\n",
       "4       California   531   524  2017           0.53   1055\n",
       "..             ...   ...   ...   ...            ...    ...\n",
       "97        Virginia   567   550  2018           0.68   1117\n",
       "98      Washington   543   538  2018           0.69   1081\n",
       "99   West Virginia   513   486  2018           0.28    999\n",
       "100      Wisconsin   641   653  2018           0.03   1294\n",
       "101        Wyoming   633   625  2018           0.03   1257\n",
       "\n",
       "[102 rows x 6 columns]"
      ]
     },
     "execution_count": 153,
     "metadata": {},
     "output_type": "execute_result"
    }
   ],
   "source": [
    "sat_combined"
   ]
  },
  {
   "cell_type": "code",
   "execution_count": 154,
   "metadata": {},
   "outputs": [],
   "source": [
    "sat_act_participation_combined = pd.concat(\n",
    "    [sat_combined[['state', 'participation', 'year']].copy().rename(columns={'state':'state', 'participation': 'sat_participation', 'year':'year'}),\n",
    "    act_combined[['participation']].copy().rename(columns={'participation': 'act_participation'})], axis=1)"
   ]
  },
  {
   "cell_type": "code",
   "execution_count": 155,
   "metadata": {},
   "outputs": [
    {
     "data": {
      "image/png": "[encoded data removed]",
      "text/plain": [
       "<Figure size 1080x360 with 1 Axes>"
      ]
     },
     "metadata": {
      "needs_background": "light"
     },
     "output_type": "display_data"
    }
   ],
   "source": [
    "subplot_scatterplots_conditional(sat_act_participation_combined, \n",
    "                         [('sat_participation', 'act_participation')], \n",
    "                         [''], \n",
    "                         [('SAT Participation Rates', 'ACT Participation Rates')], \n",
    "                         (15,5),\n",
    "                         \"Scatterplot of SAT Participation Rates vs. ACT Participation Rates in year 2017 and 2018\", \n",
    "                         False,\n",
    "                         \"scatterplot_sat_participation_vs_act_participation\")"
   ]
  },
  {
   "cell_type": "markdown",
   "metadata": {},
   "source": [
    "Findings: The participation rates of the SAT are moderately negatively correlated with the participation rates of the ACT for both years. A possible explanation would be that each high-schooler takes either the SAT or the ACT test but not both. Therefore, a high participation rate in one test would result in a low participation rate in the other, and vice-versa."
   ]
  },
  {
   "cell_type": "markdown",
   "metadata": {},
   "source": [
    "#### (Optional): Using Tableau, create a choropleth map for each variable using a map of the US. \n",
    "\n",
    "Save this plot as an image file in an images directory, provide a relative path, and insert the image into notebook in markdown."
   ]
  },
  {
   "cell_type": "markdown",
   "metadata": {},
   "source": [
    "**SAT 2018 Participation Rates**"
   ]
  },
  {
   "cell_type": "markdown",
   "metadata": {},
   "source": [
    "![](../images/choropleth-sat-2018-participation.png)"
   ]
  },
  {
   "cell_type": "markdown",
   "metadata": {},
   "source": [
    "## Descriptive and Inferential Statistics"
   ]
  },
  {
   "cell_type": "markdown",
   "metadata": {},
   "source": [
    "#### Summarizing Distributions\n",
    "\n",
    "Above, we used pandas `describe` to provide quick summary statistics of our numeric columns. We also demonstrated many visual relationships.\n",
    "\n",
    "As data scientists, having a complete understanding of data is imperative prior to modeling.\n",
    "\n",
    "While we will continue to build our analytic tools, we know that measures of *central tendency*, *spread*, and *shape/skewness* provide a quick summary of distributions.\n",
    "\n",
    "For each variable in your data, summarize the underlying distributions (in words & statistics)\n",
    " - Be thorough in your verbal description of these distributions.\n",
    " - Be sure to back up these summaries with statistics."
   ]
  },
  {
   "cell_type": "code",
   "execution_count": 156,
   "metadata": {},
   "outputs": [
    {
     "data": {
      "text/html": [
       "<div>\n",
       "<style scoped>\n",
       "    .dataframe tbody tr th:only-of-type {\n",
       "        vertical-align: middle;\n",
       "    }\n",
       "\n",
       "    .dataframe tbody tr th {\n",
       "        vertical-align: top;\n",
       "    }\n",
       "\n",
       "    .dataframe thead th {\n",
       "        text-align: right;\n",
       "    }\n",
       "</style>\n",
       "<table border=\"1\" class=\"dataframe\">\n",
       "  <thead>\n",
       "    <tr style=\"text-align: right;\">\n",
       "      <th></th>\n",
       "      <th>act_2017_participation</th>\n",
       "      <th>act_2017_english</th>\n",
       "      <th>act_2017_math</th>\n",
       "      <th>act_2017_reading</th>\n",
       "      <th>act_2017_science</th>\n",
       "      <th>act_2017_composite</th>\n",
       "      <th>sat_2017_participation</th>\n",
       "      <th>sat_2017_ebrw</th>\n",
       "      <th>sat_2017_math</th>\n",
       "      <th>sat_2017_total</th>\n",
       "      <th>act_2018_participation</th>\n",
       "      <th>act_2018_composite</th>\n",
       "      <th>act_2018_english</th>\n",
       "      <th>act_2018_math</th>\n",
       "      <th>act_2018_reading</th>\n",
       "      <th>act_2018_science</th>\n",
       "      <th>sat_2018_participation</th>\n",
       "      <th>sat_2018_ebrw</th>\n",
       "      <th>sat_2018_math</th>\n",
       "      <th>sat_2018_total</th>\n",
       "    </tr>\n",
       "  </thead>\n",
       "  <tbody>\n",
       "    <tr>\n",
       "      <th>count</th>\n",
       "      <td>51.000000</td>\n",
       "      <td>51.000000</td>\n",
       "      <td>51.000000</td>\n",
       "      <td>51.000000</td>\n",
       "      <td>51.000000</td>\n",
       "      <td>51.000000</td>\n",
       "      <td>51.000000</td>\n",
       "      <td>51.000000</td>\n",
       "      <td>51.000000</td>\n",
       "      <td>51.000000</td>\n",
       "      <td>51.000000</td>\n",
       "      <td>51.000000</td>\n",
       "      <td>51.000000</td>\n",
       "      <td>51.000000</td>\n",
       "      <td>51.000000</td>\n",
       "      <td>51.000000</td>\n",
       "      <td>51.000000</td>\n",
       "      <td>51.000000</td>\n",
       "      <td>51.000000</td>\n",
       "      <td>51.000000</td>\n",
       "    </tr>\n",
       "    <tr>\n",
       "      <th>mean</th>\n",
       "      <td>0.652549</td>\n",
       "      <td>20.931373</td>\n",
       "      <td>21.182353</td>\n",
       "      <td>22.013725</td>\n",
       "      <td>21.450980</td>\n",
       "      <td>21.519608</td>\n",
       "      <td>0.398039</td>\n",
       "      <td>569.117647</td>\n",
       "      <td>556.882353</td>\n",
       "      <td>1126.098039</td>\n",
       "      <td>0.616471</td>\n",
       "      <td>21.486275</td>\n",
       "      <td>20.988235</td>\n",
       "      <td>21.125490</td>\n",
       "      <td>22.015686</td>\n",
       "      <td>21.345098</td>\n",
       "      <td>0.457451</td>\n",
       "      <td>563.686275</td>\n",
       "      <td>556.235294</td>\n",
       "      <td>1120.019608</td>\n",
       "    </tr>\n",
       "    <tr>\n",
       "      <th>std</th>\n",
       "      <td>0.321408</td>\n",
       "      <td>2.353677</td>\n",
       "      <td>1.981989</td>\n",
       "      <td>2.067271</td>\n",
       "      <td>1.739353</td>\n",
       "      <td>2.020695</td>\n",
       "      <td>0.352766</td>\n",
       "      <td>45.666901</td>\n",
       "      <td>47.121395</td>\n",
       "      <td>92.494812</td>\n",
       "      <td>0.340810</td>\n",
       "      <td>2.106278</td>\n",
       "      <td>2.446356</td>\n",
       "      <td>2.035765</td>\n",
       "      <td>2.167245</td>\n",
       "      <td>1.870114</td>\n",
       "      <td>0.373143</td>\n",
       "      <td>47.502627</td>\n",
       "      <td>47.772623</td>\n",
       "      <td>94.155083</td>\n",
       "    </tr>\n",
       "    <tr>\n",
       "      <th>min</th>\n",
       "      <td>0.080000</td>\n",
       "      <td>16.300000</td>\n",
       "      <td>18.000000</td>\n",
       "      <td>18.100000</td>\n",
       "      <td>18.200000</td>\n",
       "      <td>17.800000</td>\n",
       "      <td>0.020000</td>\n",
       "      <td>482.000000</td>\n",
       "      <td>468.000000</td>\n",
       "      <td>950.000000</td>\n",
       "      <td>0.070000</td>\n",
       "      <td>17.700000</td>\n",
       "      <td>16.600000</td>\n",
       "      <td>17.800000</td>\n",
       "      <td>18.000000</td>\n",
       "      <td>17.900000</td>\n",
       "      <td>0.020000</td>\n",
       "      <td>480.000000</td>\n",
       "      <td>480.000000</td>\n",
       "      <td>977.000000</td>\n",
       "    </tr>\n",
       "    <tr>\n",
       "      <th>25%</th>\n",
       "      <td>0.310000</td>\n",
       "      <td>19.000000</td>\n",
       "      <td>19.400000</td>\n",
       "      <td>20.450000</td>\n",
       "      <td>19.950000</td>\n",
       "      <td>19.800000</td>\n",
       "      <td>0.040000</td>\n",
       "      <td>533.500000</td>\n",
       "      <td>523.500000</td>\n",
       "      <td>1055.500000</td>\n",
       "      <td>0.285000</td>\n",
       "      <td>19.950000</td>\n",
       "      <td>19.100000</td>\n",
       "      <td>19.400000</td>\n",
       "      <td>20.450000</td>\n",
       "      <td>19.850000</td>\n",
       "      <td>0.045000</td>\n",
       "      <td>534.500000</td>\n",
       "      <td>522.500000</td>\n",
       "      <td>1057.500000</td>\n",
       "    </tr>\n",
       "    <tr>\n",
       "      <th>50%</th>\n",
       "      <td>0.690000</td>\n",
       "      <td>20.700000</td>\n",
       "      <td>20.900000</td>\n",
       "      <td>21.800000</td>\n",
       "      <td>21.300000</td>\n",
       "      <td>21.400000</td>\n",
       "      <td>0.380000</td>\n",
       "      <td>559.000000</td>\n",
       "      <td>548.000000</td>\n",
       "      <td>1107.000000</td>\n",
       "      <td>0.660000</td>\n",
       "      <td>21.300000</td>\n",
       "      <td>20.200000</td>\n",
       "      <td>20.700000</td>\n",
       "      <td>21.600000</td>\n",
       "      <td>21.100000</td>\n",
       "      <td>0.520000</td>\n",
       "      <td>552.000000</td>\n",
       "      <td>544.000000</td>\n",
       "      <td>1098.000000</td>\n",
       "    </tr>\n",
       "    <tr>\n",
       "      <th>75%</th>\n",
       "      <td>1.000000</td>\n",
       "      <td>23.300000</td>\n",
       "      <td>23.100000</td>\n",
       "      <td>24.150000</td>\n",
       "      <td>23.200000</td>\n",
       "      <td>23.600000</td>\n",
       "      <td>0.660000</td>\n",
       "      <td>613.000000</td>\n",
       "      <td>599.000000</td>\n",
       "      <td>1212.000000</td>\n",
       "      <td>1.000000</td>\n",
       "      <td>23.550000</td>\n",
       "      <td>23.700000</td>\n",
       "      <td>23.150000</td>\n",
       "      <td>24.100000</td>\n",
       "      <td>23.050000</td>\n",
       "      <td>0.775000</td>\n",
       "      <td>610.500000</td>\n",
       "      <td>593.500000</td>\n",
       "      <td>1204.000000</td>\n",
       "    </tr>\n",
       "    <tr>\n",
       "      <th>max</th>\n",
       "      <td>1.000000</td>\n",
       "      <td>25.500000</td>\n",
       "      <td>25.300000</td>\n",
       "      <td>26.000000</td>\n",
       "      <td>24.900000</td>\n",
       "      <td>25.500000</td>\n",
       "      <td>1.000000</td>\n",
       "      <td>644.000000</td>\n",
       "      <td>651.000000</td>\n",
       "      <td>1295.000000</td>\n",
       "      <td>1.000000</td>\n",
       "      <td>25.600000</td>\n",
       "      <td>26.000000</td>\n",
       "      <td>25.200000</td>\n",
       "      <td>26.100000</td>\n",
       "      <td>24.900000</td>\n",
       "      <td>1.000000</td>\n",
       "      <td>643.000000</td>\n",
       "      <td>655.000000</td>\n",
       "      <td>1298.000000</td>\n",
       "    </tr>\n",
       "    <tr>\n",
       "      <th>skew</th>\n",
       "      <td>-0.197989</td>\n",
       "      <td>0.352660</td>\n",
       "      <td>0.332683</td>\n",
       "      <td>0.269366</td>\n",
       "      <td>0.218823</td>\n",
       "      <td>0.319810</td>\n",
       "      <td>0.346450</td>\n",
       "      <td>0.272693</td>\n",
       "      <td>0.365040</td>\n",
       "      <td>0.310903</td>\n",
       "      <td>-0.021916</td>\n",
       "      <td>0.281962</td>\n",
       "      <td>0.371507</td>\n",
       "      <td>0.269548</td>\n",
       "      <td>0.201361</td>\n",
       "      <td>0.172383</td>\n",
       "      <td>0.136228</td>\n",
       "      <td>0.282300</td>\n",
       "      <td>0.530407</td>\n",
       "      <td>0.466432</td>\n",
       "    </tr>\n",
       "    <tr>\n",
       "      <th>kurt</th>\n",
       "      <td>-1.631970</td>\n",
       "      <td>-0.879307</td>\n",
       "      <td>-0.979210</td>\n",
       "      <td>-0.982094</td>\n",
       "      <td>-0.956033</td>\n",
       "      <td>-0.983524</td>\n",
       "      <td>-1.380695</td>\n",
       "      <td>-1.220371</td>\n",
       "      <td>-0.925843</td>\n",
       "      <td>-1.105461</td>\n",
       "      <td>-1.738681</td>\n",
       "      <td>-1.080666</td>\n",
       "      <td>-1.071710</td>\n",
       "      <td>-1.109059</td>\n",
       "      <td>-1.116031</td>\n",
       "      <td>-1.109301</td>\n",
       "      <td>-1.569003</td>\n",
       "      <td>-1.055118</td>\n",
       "      <td>-0.756126</td>\n",
       "      <td>-1.022725</td>\n",
       "    </tr>\n",
       "  </tbody>\n",
       "</table>\n",
       "</div>"
      ],
      "text/plain": [
       "       act_2017_participation  act_2017_english  act_2017_math  \\\n",
       "count               51.000000         51.000000      51.000000   \n",
       "mean                 0.652549         20.931373      21.182353   \n",
       "std                  0.321408          2.353677       1.981989   \n",
       "min                  0.080000         16.300000      18.000000   \n",
       "25%                  0.310000         19.000000      19.400000   \n",
       "50%                  0.690000         20.700000      20.900000   \n",
       "75%                  1.000000         23.300000      23.100000   \n",
       "max                  1.000000         25.500000      25.300000   \n",
       "skew                -0.197989          0.352660       0.332683   \n",
       "kurt                -1.631970         -0.879307      -0.979210   \n",
       "\n",
       "       act_2017_reading  act_2017_science  act_2017_composite  \\\n",
       "count         51.000000         51.000000           51.000000   \n",
       "mean          22.013725         21.450980           21.519608   \n",
       "std            2.067271          1.739353            2.020695   \n",
       "min           18.100000         18.200000           17.800000   \n",
       "25%           20.450000         19.950000           19.800000   \n",
       "50%           21.800000         21.300000           21.400000   \n",
       "75%           24.150000         23.200000           23.600000   \n",
       "max           26.000000         24.900000           25.500000   \n",
       "skew           0.269366          0.218823            0.319810   \n",
       "kurt          -0.982094         -0.956033           -0.983524   \n",
       "\n",
       "       sat_2017_participation  sat_2017_ebrw  sat_2017_math  sat_2017_total  \\\n",
       "count               51.000000      51.000000      51.000000       51.000000   \n",
       "mean                 0.398039     569.117647     556.882353     1126.098039   \n",
       "std                  0.352766      45.666901      47.121395       92.494812   \n",
       "min                  0.020000     482.000000     468.000000      950.000000   \n",
       "25%                  0.040000     533.500000     523.500000     1055.500000   \n",
       "50%                  0.380000     559.000000     548.000000     1107.000000   \n",
       "75%                  0.660000     613.000000     599.000000     1212.000000   \n",
       "max                  1.000000     644.000000     651.000000     1295.000000   \n",
       "skew                 0.346450       0.272693       0.365040        0.310903   \n",
       "kurt                -1.380695      -1.220371      -0.925843       -1.105461   \n",
       "\n",
       "       act_2018_participation  act_2018_composite  act_2018_english  \\\n",
       "count               51.000000           51.000000         51.000000   \n",
       "mean                 0.616471           21.486275         20.988235   \n",
       "std                  0.340810            2.106278          2.446356   \n",
       "min                  0.070000           17.700000         16.600000   \n",
       "25%                  0.285000           19.950000         19.100000   \n",
       "50%                  0.660000           21.300000         20.200000   \n",
       "75%                  1.000000           23.550000         23.700000   \n",
       "max                  1.000000           25.600000         26.000000   \n",
       "skew                -0.021916            0.281962          0.371507   \n",
       "kurt                -1.738681           -1.080666         -1.071710   \n",
       "\n",
       "       act_2018_math  act_2018_reading  act_2018_science  \\\n",
       "count      51.000000         51.000000         51.000000   \n",
       "mean       21.125490         22.015686         21.345098   \n",
       "std         2.035765          2.167245          1.870114   \n",
       "min        17.800000         18.000000         17.900000   \n",
       "25%        19.400000         20.450000         19.850000   \n",
       "50%        20.700000         21.600000         21.100000   \n",
       "75%        23.150000         24.100000         23.050000   \n",
       "max        25.200000         26.100000         24.900000   \n",
       "skew        0.269548          0.201361          0.172383   \n",
       "kurt       -1.109059         -1.116031         -1.109301   \n",
       "\n",
       "       sat_2018_participation  sat_2018_ebrw  sat_2018_math  sat_2018_total  \n",
       "count               51.000000      51.000000      51.000000       51.000000  \n",
       "mean                 0.457451     563.686275     556.235294     1120.019608  \n",
       "std                  0.373143      47.502627      47.772623       94.155083  \n",
       "min                  0.020000     480.000000     480.000000      977.000000  \n",
       "25%                  0.045000     534.500000     522.500000     1057.500000  \n",
       "50%                  0.520000     552.000000     544.000000     1098.000000  \n",
       "75%                  0.775000     610.500000     593.500000     1204.000000  \n",
       "max                  1.000000     643.000000     655.000000     1298.000000  \n",
       "skew                 0.136228       0.282300       0.530407        0.466432  \n",
       "kurt                -1.569003      -1.055118      -0.756126       -1.022725  "
      ]
     },
     "execution_count": 156,
     "metadata": {},
     "output_type": "execute_result"
    }
   ],
   "source": [
    "# Create a modified describe function which includes finding the skewness and kurtosis of each numeric variable\n",
    "# Reference: https://stackoverflow.com/questions/38545828/pandas-describe-by-additional-parameters'\n",
    "def modified_describe(df):\n",
    "    return pd.concat([df.describe().T,\n",
    "                      df.skew().rename('skew'),\n",
    "                      df.kurt().rename('kurt'),\n",
    "                     ], axis=1).T\n",
    "\n",
    "modified_describe(final)"
   ]
  },
  {
   "cell_type": "markdown",
   "metadata": {},
   "source": [
    "*Observation*  \n",
    "\n",
    "act_2017_participation is distributed with mean of 0.653 and standard deviation of 0.321 and is left-skewed (negative skewness value of -0.198). As its kurtosis is less than zero, the distribution is light tails and is a platykurtic distribution. [Reference](https://www.spcforexcel.com/knowledge/basic-statistics/are-skewness-and-kurtosis-useful-statistics#kurtosis)"
   ]
  },
  {
   "cell_type": "markdown",
   "metadata": {},
   "source": [
    "#### We generally assuming that data we sample from a population will be normally distributed. Do we observe this trend?"
   ]
  },
  {
   "cell_type": "markdown",
   "metadata": {},
   "source": [
    "Answer: No. The kurtosis values for each and every numeric variable is far from 0, hence we cannot assume a normal distribution."
   ]
  },
  {
   "cell_type": "markdown",
   "metadata": {},
   "source": [
    "Does This Assumption Hold for:\n",
    "    - Math\n",
    "    - Reading\n",
    "    - Rates\n",
    "Explain your answers for each distribution and how you think this will affect estimates made from these data."
   ]
  },
  {
   "cell_type": "markdown",
   "metadata": {},
   "source": [
    "Answer: Inferential statistics performed on each variable will not be accurate as they depend on the assumption of normality."
   ]
  },
  {
   "cell_type": "markdown",
   "metadata": {},
   "source": [
    "#### Estimate Limits of Data\n",
    "\n",
    "Suppose we only seek to understand the relationship between SAT and ACT participation rates in 2017. \n",
    "\n",
    "##### Does it make sense to conduct statistical inference given these data specifically? \n",
    "\n",
    "Why or why not?\n",
    "\n",
    "*(think about granularity, aggregation, the relationships between populations size & rates...consider the actually populations these data describe in answering this question)*"
   ]
  },
  {
   "cell_type": "markdown",
   "metadata": {},
   "source": [
    "Answer: Statistical inference cannot be made as participation rate has been aggregated. Hence, we cannot deduce the sampling variability which is needed to construct the confidence interval for statistical inference of the population parameter."
   ]
  },
  {
   "cell_type": "markdown",
   "metadata": {},
   "source": [
    "##### Is it appropriate to compare *these* specific SAT and ACT math scores? \n",
    "\n",
    "Why or why not?"
   ]
  },
  {
   "cell_type": "markdown",
   "metadata": {},
   "source": [
    "Answer: The content tested in the SAT and that tested in the ACT may not overlap entirely and hence it would not be appropriate to make a direct comparison between the math sections of both tests. Also, they are not of the same range."
   ]
  },
  {
   "cell_type": "markdown",
   "metadata": {},
   "source": [
    "#### Statistical Evaluation of Distributions \n",
    "\n",
    "**If you feel it's appropriate**, using methods we discussed in class, run hypothesis tests to compare variables of interest in our dataset. "
   ]
  },
  {
   "cell_type": "code",
   "execution_count": null,
   "metadata": {},
   "outputs": [],
   "source": []
  },
  {
   "cell_type": "markdown",
   "metadata": {},
   "source": [
    "## Outside Research"
   ]
  },
  {
   "cell_type": "markdown",
   "metadata": {},
   "source": [
    "Based upon your observations, choose **three** states that demonstrate interesting trends in their SAT and/or ACT participation rates. Spend some time doing outside research on state policies that might influence these rates, and summarize your findings below. **Feel free to go back and create new plots that highlight these states of interest**. If you bring in any outside tables or charts, make sure you are explicit about having borrowed them. If you quote any text, make sure that it renders as being quoted. (Make sure that you cite your sources -- check with you local instructor for citation preferences)."
   ]
  },
  {
   "cell_type": "markdown",
   "metadata": {},
   "source": [
    "*Research Findings* "
   ]
  },
  {
   "cell_type": "markdown",
   "metadata": {},
   "source": [
    "<ins>Connecticut</ins> has 100% SAT participation rates for both 2017 and 2018 due to a mandate for all 11th graders in the state’s public schools to take the SAT college admissions tests, replacing an existing statewide exam. [Connecticut to Require All 11th Graders to Take the SAT](https://www.nytimes.com/2015/08/07/nyregion/connecticut-to-require-all-11th-graders-to-take-the-sat.html)  \n",
    "However, Connecticut does not come in first place for the highest average total score for the SAT in both years, probably because students who are not academically inclined contribute to the score."
   ]
  },
  {
   "cell_type": "markdown",
   "metadata": {},
   "source": [
    "<u>Alabama</u> has the highest participation rate for 2 years running most probably because the state of Alabama pays for the ACT and makes it mandatory that high schoolers take the ACT"
   ]
  },
  {
   "cell_type": "markdown",
   "metadata": {},
   "source": [
    "<u>Minnesota</u> has the highest average total score for 2 years running. This pattern may be due to the fact that the state of Minnesota does not pay for nor mandates the ACT and SAT for high schoolers, in turn leading to more academically-inclined and studious candidates taking the test in the state of Minnesota, driving up the average total scores."
   ]
  },
  {
   "cell_type": "markdown",
   "metadata": {},
   "source": [
    "(https://www.princetonreview.com/college-advice/act-sat-state-requirements)\n",
    "\n",
    "<table cellspacing=\"0\" cellpadding=\"0\" style=\"float:left\">\n",
    "<thead>\n",
    "        <tr style=\"height:20px;\">\n",
    "            <th id=\"0R0\" style=\"height: 20px;\" class=\"row-headers-background row-header-shim\">\n",
    "                <div class=\"row-header-wrapper\" style=\"line-height: 20px;\"></div>\n",
    "                <th class=\"s0\" dir=\"ltr\">State</th>\n",
    "            <th class=\"s0\" dir=\"ltr\">Requires SAT</th>\n",
    "            <th class=\"s0\" dir=\"ltr\">Requires ACT</th>\n",
    "            <th class=\"s0\" dir=\"ltr\">Requires Either</th>\n",
    "            <th class=\"s0\" dir=\"ltr\">Pays for SAT</th>\n",
    "            <th class=\"s0\" dir=\"ltr\">Pays for ACT</th>\n",
    "    </tr>\n",
    "    </thead>\n",
    "    <tbody>\n",
    "        <tr style=\"height:20px;\"><th id=\"0R1\" style=\"height: 20px;\" class=\"row-headers-background row-header-shim\"><div class=\"row-header-wrapper\" style=\"line-height: 20px;\">1</div></th><td class=\"s0\" dir=\"ltr\">Alabama</td><td class=\"s0\" dir=\"ltr\">No</td><td class=\"s0\" dir=\"ltr\">Yes</td><td class=\"s0\" dir=\"ltr\">n/a</td><td class=\"s0\" dir=\"ltr\">No</td><td class=\"s0\" dir=\"ltr\">Yes</td></tr><tr style=\"height:20px;\"><th id=\"0R2\" style=\"height: 20px;\" class=\"row-headers-background row-header-shim\"><div class=\"row-header-wrapper\" style=\"line-height: 20px;\">2</div></th><td class=\"s0\" dir=\"ltr\">Alaska</td><td class=\"s0\" dir=\"ltr\">No</td><td class=\"s0\" dir=\"ltr\">No</td><td class=\"s0\" dir=\"ltr\">No</td><td class=\"s0\" dir=\"ltr\">No</td><td class=\"s0\" dir=\"ltr\">No</td></tr><tr style=\"height:20px;\"><th id=\"0R3\" style=\"height: 20px;\" class=\"row-headers-background row-header-shim\"><div class=\"row-header-wrapper\" style=\"line-height: 20px;\">3</div></th><td class=\"s0\" dir=\"ltr\">Arizona</td><td class=\"s0\" dir=\"ltr\">No</td><td class=\"s0\" dir=\"ltr\">No</td><td class=\"s0\" dir=\"ltr\">No</td><td class=\"s0\" dir=\"ltr\">No</td><td class=\"s0\" dir=\"ltr\">No</td></tr><tr style=\"height:20px;\"><th id=\"0R4\" style=\"height: 20px;\" class=\"row-headers-background row-header-shim\"><div class=\"row-header-wrapper\" style=\"line-height: 20px;\">4</div></th><td class=\"s0\" dir=\"ltr\">Arkansas</td><td class=\"s0\" dir=\"ltr\">No</td><td class=\"s0\" dir=\"ltr\">No</td><td class=\"s0\" dir=\"ltr\">n/a</td><td class=\"s0\" dir=\"ltr\">No</td><td class=\"s0\" dir=\"ltr\">Yes</td></tr><tr style=\"height:20px;\"><th id=\"0R5\" style=\"height: 20px;\" class=\"row-headers-background row-header-shim\"><div class=\"row-header-wrapper\" style=\"line-height: 20px;\">5</div></th><td class=\"s0\" dir=\"ltr\">California</td><td class=\"s0\" dir=\"ltr\">No</td><td class=\"s0\" dir=\"ltr\">No</td><td class=\"s0\" dir=\"ltr\">No</td><td class=\"s0\" dir=\"ltr\">No</td><td class=\"s0\" dir=\"ltr\">No</td></tr><tr style=\"height:20px;\"><th id=\"0R6\" style=\"height: 20px;\" class=\"row-headers-background row-header-shim\"><div class=\"row-header-wrapper\" style=\"line-height: 20px;\">6</div></th><td class=\"s0\" dir=\"ltr\">Colorado</td><td class=\"s0\" dir=\"ltr\">Yes</td><td class=\"s0\" dir=\"ltr\">No</td><td class=\"s0\" dir=\"ltr\">n/a</td><td class=\"s0\" dir=\"ltr\">Yes</td><td class=\"s0\" dir=\"ltr\">Yes</td></tr><tr style=\"height:20px;\"><th id=\"0R7\" style=\"height: 20px;\" class=\"row-headers-background row-header-shim\"><div class=\"row-header-wrapper\" style=\"line-height: 20px;\">7</div></th><td class=\"s0\" dir=\"ltr\">Connecticut</td><td class=\"s0\" dir=\"ltr\">Yes</td><td class=\"s0\" dir=\"ltr\">No</td><td class=\"s0\" dir=\"ltr\">n/a</td><td class=\"s0\" dir=\"ltr\">Yes</td><td class=\"s0\" dir=\"ltr\">No</td></tr><tr style=\"height:20px;\"><th id=\"0R8\" style=\"height: 20px;\" class=\"row-headers-background row-header-shim\"><div class=\"row-header-wrapper\" style=\"line-height: 20px;\">8</div></th><td class=\"s0\" dir=\"ltr\">DC</td><td class=\"s0\" dir=\"ltr\">Yes</td><td class=\"s0\" dir=\"ltr\">No</td><td class=\"s0\" dir=\"ltr\">n/a</td><td class=\"s0\" dir=\"ltr\">Yes</td><td class=\"s0\" dir=\"ltr\">No</td></tr><tr style=\"height:20px;\"><th id=\"0R9\" style=\"height: 20px;\" class=\"row-headers-background row-header-shim\"><div class=\"row-header-wrapper\" style=\"line-height: 20px;\">9</div></th><td class=\"s0\" dir=\"ltr\">Delaware</td><td class=\"s0\" dir=\"ltr\">Yes</td><td class=\"s0\" dir=\"ltr\">No</td><td class=\"s0\" dir=\"ltr\">n/a</td><td class=\"s0\" dir=\"ltr\">Yes</td><td class=\"s0\" dir=\"ltr\">No</td></tr><tr style=\"height:20px;\"><th id=\"0R10\" style=\"height: 20px;\" class=\"row-headers-background row-header-shim\"><div class=\"row-header-wrapper\" style=\"line-height: 20px;\">10</div></th><td class=\"s0\" dir=\"ltr\">Florida</td><td class=\"s0\" dir=\"ltr\">No</td><td class=\"s0\" dir=\"ltr\">No</td><td class=\"s0\" dir=\"ltr\">No</td><td class=\"s0\" dir=\"ltr\">No</td><td class=\"s0\" dir=\"ltr\">No</td></tr><tr style=\"height:20px;\"><th id=\"0R11\" style=\"height: 20px;\" class=\"row-headers-background row-header-shim\"><div class=\"row-header-wrapper\" style=\"line-height: 20px;\">11</div></th><td class=\"s0\" dir=\"ltr\">Georgia</td><td class=\"s0\" dir=\"ltr\">No</td><td class=\"s0\" dir=\"ltr\">No</td><td class=\"s0\" dir=\"ltr\">No</td><td class=\"s0\" dir=\"ltr\">No</td><td class=\"s0\" dir=\"ltr\">No</td></tr><tr style=\"height:20px;\"><th id=\"0R12\" style=\"height: 20px;\" class=\"row-headers-background row-header-shim\"><div class=\"row-header-wrapper\" style=\"line-height: 20px;\">12</div></th><td class=\"s0\" dir=\"ltr\">Hawaii</td><td class=\"s0\" dir=\"ltr\">No</td><td class=\"s0\" dir=\"ltr\">Yes</td><td class=\"s0\" dir=\"ltr\">n/a</td><td class=\"s0\" dir=\"ltr\">No</td><td class=\"s0\" dir=\"ltr\">Yes</td></tr><tr style=\"height:20px;\"><th id=\"0R13\" style=\"height: 20px;\" class=\"row-headers-background row-header-shim\"><div class=\"row-header-wrapper\" style=\"line-height: 20px;\">13</div></th><td class=\"s0\" dir=\"ltr\">Idaho</td><td class=\"s0\" dir=\"ltr\">No</td><td class=\"s0\" dir=\"ltr\">No</td><td class=\"s0\" dir=\"ltr\">Yes</td><td class=\"s0\" dir=\"ltr\">No</td><td class=\"s0\" dir=\"ltr\">No</td></tr><tr style=\"height:20px;\"><th id=\"0R14\" style=\"height: 20px;\" class=\"row-headers-background row-header-shim\"><div class=\"row-header-wrapper\" style=\"line-height: 20px;\">14</div></th><td class=\"s0\" dir=\"ltr\">Illinois</td><td class=\"s0\" dir=\"ltr\">Yes</td><td class=\"s0\" dir=\"ltr\">No</td><td class=\"s0\" dir=\"ltr\">n/a</td><td class=\"s0\" dir=\"ltr\">Yes</td><td class=\"s0\" dir=\"ltr\">No</td></tr><tr style=\"height:20px;\"><th id=\"0R15\" style=\"height: 20px;\" class=\"row-headers-background row-header-shim\"><div class=\"row-header-wrapper\" style=\"line-height: 20px;\">15</div></th><td class=\"s0\" dir=\"ltr\">Indiana</td><td class=\"s0\" dir=\"ltr\">No</td><td class=\"s0\" dir=\"ltr\">No</td><td class=\"s0\" dir=\"ltr\">No</td><td class=\"s0\" dir=\"ltr\">No</td><td class=\"s0\" dir=\"ltr\">No</td></tr><tr style=\"height:20px;\"><th id=\"0R16\" style=\"height: 20px;\" class=\"row-headers-background row-header-shim\"><div class=\"row-header-wrapper\" style=\"line-height: 20px;\">16</div></th><td class=\"s0\" dir=\"ltr\">Iowa</td><td class=\"s0\" dir=\"ltr\">No</td><td class=\"s0\" dir=\"ltr\">No</td><td class=\"s0\" dir=\"ltr\">No</td><td class=\"s0\" dir=\"ltr\">No</td><td class=\"s0\" dir=\"ltr\">No</td></tr><tr style=\"height:20px;\"><th id=\"0R17\" style=\"height: 20px;\" class=\"row-headers-background row-header-shim\"><div class=\"row-header-wrapper\" style=\"line-height: 20px;\">17</div></th><td class=\"s0\" dir=\"ltr\">Kansas</td><td class=\"s0\" dir=\"ltr\">No</td><td class=\"s0\" dir=\"ltr\">No</td><td class=\"s0\" dir=\"ltr\">No</td><td class=\"s0\" dir=\"ltr\">No</td><td class=\"s0\" dir=\"ltr\">No</td></tr><tr style=\"height:20px;\"><th id=\"0R18\" style=\"height: 20px;\" class=\"row-headers-background row-header-shim\"><div class=\"row-header-wrapper\" style=\"line-height: 20px;\">18</div></th><td class=\"s0\" dir=\"ltr\">Kentucky</td><td class=\"s0\" dir=\"ltr\">No</td><td class=\"s0\" dir=\"ltr\">Yes</td><td class=\"s0\" dir=\"ltr\">n/a</td><td class=\"s0\" dir=\"ltr\">No</td><td class=\"s0\" dir=\"ltr\">Yes</td></tr><tr style=\"height:20px;\"><th id=\"0R19\" style=\"height: 20px;\" class=\"row-headers-background row-header-shim\"><div class=\"row-header-wrapper\" style=\"line-height: 20px;\">19</div></th><td class=\"s0\" dir=\"ltr\">Louisiana</td><td class=\"s0\" dir=\"ltr\">No</td><td class=\"s0\" dir=\"ltr\">Yes</td><td class=\"s0\" dir=\"ltr\">n/a</td><td class=\"s0\" dir=\"ltr\">No</td><td class=\"s0\" dir=\"ltr\">Yes</td></tr><tr style=\"height:20px;\"><th id=\"0R20\" style=\"height: 20px;\" class=\"row-headers-background row-header-shim\"><div class=\"row-header-wrapper\" style=\"line-height: 20px;\">20</div></th><td class=\"s0\" dir=\"ltr\">Maine</td><td class=\"s0\" dir=\"ltr\">Yes</td><td class=\"s0\" dir=\"ltr\">No</td><td class=\"s0\" dir=\"ltr\">n/a</td><td class=\"s0\" dir=\"ltr\">Yes</td><td class=\"s0\" dir=\"ltr\">No</td></tr><tr style=\"height:20px;\"><th id=\"0R21\" style=\"height: 20px;\" class=\"row-headers-background row-header-shim\"><div class=\"row-header-wrapper\" style=\"line-height: 20px;\">21</div></th><td class=\"s0\" dir=\"ltr\">Maryland</td><td class=\"s0\" dir=\"ltr\">No</td><td class=\"s0\" dir=\"ltr\">No</td><td class=\"s0\" dir=\"ltr\">No</td><td class=\"s0\" dir=\"ltr\">No</td><td class=\"s0\" dir=\"ltr\">No</td></tr><tr style=\"height:20px;\"><th id=\"0R22\" style=\"height: 20px;\" class=\"row-headers-background row-header-shim\"><div class=\"row-header-wrapper\" style=\"line-height: 20px;\">22</div></th><td class=\"s0\" dir=\"ltr\">Michigan</td><td class=\"s0\" dir=\"ltr\">Yes</td><td class=\"s0\" dir=\"ltr\">No</td><td class=\"s0\" dir=\"ltr\">n/a</td><td class=\"s0\" dir=\"ltr\">Yes</td><td class=\"s0\" dir=\"ltr\">No</td></tr><tr style=\"height:20px;\"><th id=\"0R23\" style=\"height: 20px;\" class=\"row-headers-background row-header-shim\"><div class=\"row-header-wrapper\" style=\"line-height: 20px;\">23</div></th><td class=\"s0\" dir=\"ltr\">Minnesota</td><td class=\"s0\" dir=\"ltr\">No</td><td class=\"s0\" dir=\"ltr\">No</td><td class=\"s0\" dir=\"ltr\">No</td><td class=\"s0\" dir=\"ltr\">No</td><td class=\"s0\" dir=\"ltr\">No</td></tr><tr style=\"height:20px;\"><th id=\"0R24\" style=\"height: 20px;\" class=\"row-headers-background row-header-shim\"><div class=\"row-header-wrapper\" style=\"line-height: 20px;\">24</div></th><td class=\"s0\" dir=\"ltr\">Mississippi</td><td class=\"s0\" dir=\"ltr\">No</td><td class=\"s0\" dir=\"ltr\">Yes</td><td class=\"s0\" dir=\"ltr\">n/a</td><td class=\"s0\" dir=\"ltr\">No</td><td class=\"s0\" dir=\"ltr\">Yes</td></tr><tr style=\"height:20px;\"><th id=\"0R25\" style=\"height: 20px;\" class=\"row-headers-background row-header-shim\"><div class=\"row-header-wrapper\" style=\"line-height: 20px;\">25</div></th><td class=\"s0\" dir=\"ltr\">Missouri</td><td class=\"s0\" dir=\"ltr\">No</td><td class=\"s0\" dir=\"ltr\">Yes</td><td class=\"s0\" dir=\"ltr\">n/a</td><td class=\"s0\" dir=\"ltr\">No</td><td class=\"s0\" dir=\"ltr\">Yes</td></tr><tr style=\"height:20px;\"><th id=\"0R26\" style=\"height: 20px;\" class=\"row-headers-background row-header-shim\"><div class=\"row-header-wrapper\" style=\"line-height: 20px;\">26</div></th><td class=\"s0\" dir=\"ltr\">Montana</td><td class=\"s0\" dir=\"ltr\">No</td><td class=\"s0\" dir=\"ltr\">Yes</td><td class=\"s0\" dir=\"ltr\">n/a</td><td class=\"s0\" dir=\"ltr\">No</td><td class=\"s0\" dir=\"ltr\">Yes</td></tr><tr style=\"height:20px;\"><th id=\"0R27\" style=\"height: 20px;\" class=\"row-headers-background row-header-shim\"><div class=\"row-header-wrapper\" style=\"line-height: 20px;\">27</div></th><td class=\"s0\" dir=\"ltr\">Nebraska</td><td class=\"s0\" dir=\"ltr\">No</td><td class=\"s0\" dir=\"ltr\">Yes</td><td class=\"s0\" dir=\"ltr\">n/a</td><td class=\"s0\" dir=\"ltr\">No</td><td class=\"s0\" dir=\"ltr\">Yes</td></tr><tr style=\"height:20px;\"><th id=\"0R28\" style=\"height: 20px;\" class=\"row-headers-background row-header-shim\"><div class=\"row-header-wrapper\" style=\"line-height: 20px;\">28</div></th><td class=\"s0\" dir=\"ltr\">Nevada</td><td class=\"s0\" dir=\"ltr\">No</td><td class=\"s0\" dir=\"ltr\">Yes</td><td class=\"s0\" dir=\"ltr\">n/a</td><td class=\"s0\" dir=\"ltr\">No</td><td class=\"s0\" dir=\"ltr\">Yes</td></tr><tr style=\"height:20px;\"><th id=\"0R29\" style=\"height: 20px;\" class=\"row-headers-background row-header-shim\"><div class=\"row-header-wrapper\" style=\"line-height: 20px;\">29</div></th><td class=\"s0 softmerge\" dir=\"ltr\"><div class=\"softmerge-inner\" style=\"width: 97px; left: -1px;\">New Hampshire</div></td><td class=\"s0\" dir=\"ltr\">Yes</td><td class=\"s0\" dir=\"ltr\">No</td><td class=\"s0\" dir=\"ltr\">n/a</td><td class=\"s0\" dir=\"ltr\">Yes</td><td class=\"s0\" dir=\"ltr\">No</td></tr><tr style=\"height:20px;\"><th id=\"0R30\" style=\"height: 20px;\" class=\"row-headers-background row-header-shim\"><div class=\"row-header-wrapper\" style=\"line-height: 20px;\">30</div></th><td class=\"s0\" dir=\"ltr\">New Jersey</td><td class=\"s0\" dir=\"ltr\">No</td><td class=\"s0\" dir=\"ltr\">No</td><td class=\"s0\" dir=\"ltr\">No</td><td class=\"s0\" dir=\"ltr\">No</td><td class=\"s0\" dir=\"ltr\">No</td></tr><tr style=\"height:20px;\"><th id=\"0R31\" style=\"height: 20px;\" class=\"row-headers-background row-header-shim\"><div class=\"row-header-wrapper\" style=\"line-height: 20px;\">31</div></th><td class=\"s0\" dir=\"ltr\">New Mexico</td><td class=\"s0\" dir=\"ltr\">No</td><td class=\"s0\" dir=\"ltr\">No</td><td class=\"s0\" dir=\"ltr\">No</td><td class=\"s0\" dir=\"ltr\">No</td><td class=\"s0\" dir=\"ltr\">No</td></tr><tr style=\"height:20px;\"><th id=\"0R32\" style=\"height: 20px;\" class=\"row-headers-background row-header-shim\"><div class=\"row-header-wrapper\" style=\"line-height: 20px;\">32</div></th><td class=\"s0\" dir=\"ltr\">New York</td><td class=\"s0\" dir=\"ltr\">No</td><td class=\"s0\" dir=\"ltr\">No</td><td class=\"s0\" dir=\"ltr\">No</td><td class=\"s0\" dir=\"ltr\">No</td><td class=\"s0\" dir=\"ltr\">No</td></tr><tr style=\"height:20px;\"><th id=\"0R33\" style=\"height: 20px;\" class=\"row-headers-background row-header-shim\"><div class=\"row-header-wrapper\" style=\"line-height: 20px;\">33</div></th><td class=\"s0\" dir=\"ltr\">North Carolina</td><td class=\"s0\" dir=\"ltr\">No</td><td class=\"s0\" dir=\"ltr\">Yes</td><td class=\"s0\" dir=\"ltr\">n/a</td><td class=\"s0\" dir=\"ltr\">No</td><td class=\"s0\" dir=\"ltr\">Yes</td></tr><tr style=\"height:20px;\"><th id=\"0R34\" style=\"height: 20px;\" class=\"row-headers-background row-header-shim\"><div class=\"row-header-wrapper\" style=\"line-height: 20px;\">34</div></th><td class=\"s0\" dir=\"ltr\">North Dakota</td><td class=\"s0\" dir=\"ltr\">No</td><td class=\"s0\" dir=\"ltr\">No</td><td class=\"s0\" dir=\"ltr\">No</td><td class=\"s0\" dir=\"ltr\">No</td><td class=\"s0\" dir=\"ltr\">No</td></tr><tr style=\"height:20px;\"><th id=\"0R35\" style=\"height: 20px;\" class=\"row-headers-background row-header-shim\"><div class=\"row-header-wrapper\" style=\"line-height: 20px;\">35</div></th><td class=\"s0\" dir=\"ltr\">Ohio</td><td class=\"s0\" dir=\"ltr\">No</td><td class=\"s0\" dir=\"ltr\">No</td><td class=\"s0\" dir=\"ltr\">Yes</td><td class=\"s0\" dir=\"ltr\">No</td><td class=\"s0\" dir=\"ltr\">Yes</td></tr><tr style=\"height:20px;\"><th id=\"0R36\" style=\"height: 20px;\" class=\"row-headers-background row-header-shim\"><div class=\"row-header-wrapper\" style=\"line-height: 20px;\">36</div></th><td class=\"s0\" dir=\"ltr\">Oklahoma</td><td class=\"s0\" dir=\"ltr\">No</td><td class=\"s0\" dir=\"ltr\">No</td><td class=\"s0\" dir=\"ltr\">No</td><td class=\"s0\" dir=\"ltr\">Yes</td><td class=\"s0\" dir=\"ltr\">Yes</td></tr><tr style=\"height:20px;\"><th id=\"0R37\" style=\"height: 20px;\" class=\"row-headers-background row-header-shim\"><div class=\"row-header-wrapper\" style=\"line-height: 20px;\">37</div></th><td class=\"s0\" dir=\"ltr\">Oregon</td><td class=\"s0\" dir=\"ltr\">No</td><td class=\"s0\" dir=\"ltr\">No</td><td class=\"s0\" dir=\"ltr\">No</td><td class=\"s0\" dir=\"ltr\">No</td><td class=\"s0\" dir=\"ltr\">No</td></tr><tr style=\"height:20px;\"><th id=\"0R38\" style=\"height: 20px;\" class=\"row-headers-background row-header-shim\"><div class=\"row-header-wrapper\" style=\"line-height: 20px;\">38</div></th><td class=\"s0\" dir=\"ltr\">Pennsylvania</td><td class=\"s0\" dir=\"ltr\">No</td><td class=\"s0\" dir=\"ltr\">No</td><td class=\"s0\" dir=\"ltr\">No</td><td class=\"s0\" dir=\"ltr\">No</td><td class=\"s0\" dir=\"ltr\">No</td></tr><tr style=\"height:20px;\"><th id=\"0R39\" style=\"height: 20px;\" class=\"row-headers-background row-header-shim\"><div class=\"row-header-wrapper\" style=\"line-height: 20px;\">39</div></th><td class=\"s0\" dir=\"ltr\">Rhode Island</td><td class=\"s0\" dir=\"ltr\">No</td><td class=\"s0\" dir=\"ltr\">No</td><td class=\"s0\" dir=\"ltr\">No</td><td class=\"s0\" dir=\"ltr\">No</td><td class=\"s0\" dir=\"ltr\">No</td></tr><tr style=\"height:20px;\"><th id=\"0R40\" style=\"height: 20px;\" class=\"row-headers-background row-header-shim\"><div class=\"row-header-wrapper\" style=\"line-height: 20px;\">40</div></th><td class=\"s0\" dir=\"ltr\">South Carolina</td><td class=\"s0\" dir=\"ltr\">No</td><td class=\"s0\" dir=\"ltr\">Yes</td><td class=\"s0\" dir=\"ltr\">n/a</td><td class=\"s0\" dir=\"ltr\">No</td><td class=\"s0\" dir=\"ltr\">Yes</td></tr><tr style=\"height:20px;\"><th id=\"0R41\" style=\"height: 20px;\" class=\"row-headers-background row-header-shim\"><div class=\"row-header-wrapper\" style=\"line-height: 20px;\">41</div></th><td class=\"s0\" dir=\"ltr\">South Dakota</td><td class=\"s0\" dir=\"ltr\">No</td><td class=\"s0\" dir=\"ltr\">No</td><td class=\"s0\" dir=\"ltr\">No</td><td class=\"s0\" dir=\"ltr\">No</td><td class=\"s0\" dir=\"ltr\">No</td></tr><tr style=\"height:20px;\"><th id=\"0R42\" style=\"height: 20px;\" class=\"row-headers-background row-header-shim\"><div class=\"row-header-wrapper\" style=\"line-height: 20px;\">42</div></th><td class=\"s0\" dir=\"ltr\">Tennessee</td><td class=\"s0\" dir=\"ltr\">No</td><td class=\"s0\" dir=\"ltr\">No</td><td class=\"s0\" dir=\"ltr\">Yes</td><td class=\"s0\" dir=\"ltr\">No</td><td class=\"s0\" dir=\"ltr\">No</td></tr><tr style=\"height:20px;\"><th id=\"0R43\" style=\"height: 20px;\" class=\"row-headers-background row-header-shim\"><div class=\"row-header-wrapper\" style=\"line-height: 20px;\">43</div></th><td class=\"s0\" dir=\"ltr\">Texas</td><td class=\"s0\" dir=\"ltr\">No</td><td class=\"s0\" dir=\"ltr\">No</td><td class=\"s0\" dir=\"ltr\">No</td><td class=\"s0\" dir=\"ltr\">No</td><td class=\"s0\" dir=\"ltr\">No</td></tr><tr style=\"height:20px;\"><th id=\"0R44\" style=\"height: 20px;\" class=\"row-headers-background row-header-shim\"><div class=\"row-header-wrapper\" style=\"line-height: 20px;\">44</div></th><td class=\"s0\" dir=\"ltr\">Utah</td><td class=\"s0\" dir=\"ltr\">No</td><td class=\"s0\" dir=\"ltr\">Yes</td><td class=\"s0\" dir=\"ltr\">n/a</td><td class=\"s0\" dir=\"ltr\">No</td><td class=\"s0\" dir=\"ltr\">Yes</td></tr><tr style=\"height:20px;\"><th id=\"0R45\" style=\"height: 20px;\" class=\"row-headers-background row-header-shim\"><div class=\"row-header-wrapper\" style=\"line-height: 20px;\">45</div></th><td class=\"s0\" dir=\"ltr\">Vermont</td><td class=\"s0\" dir=\"ltr\">No</td><td class=\"s0\" dir=\"ltr\">No</td><td class=\"s0\" dir=\"ltr\">No</td><td class=\"s0\" dir=\"ltr\">No</td><td class=\"s0\" dir=\"ltr\">No</td></tr><tr style=\"height:20px;\"><th id=\"0R46\" style=\"height: 20px;\" class=\"row-headers-background row-header-shim\"><div class=\"row-header-wrapper\" style=\"line-height: 20px;\">46</div></th><td class=\"s0\" dir=\"ltr\">Virginia</td><td class=\"s0\" dir=\"ltr\">No</td><td class=\"s0\" dir=\"ltr\">No</td><td class=\"s0\" dir=\"ltr\">No</td><td class=\"s0\" dir=\"ltr\">No</td><td class=\"s0\" dir=\"ltr\">No</td></tr><tr style=\"height:20px;\"><th id=\"0R47\" style=\"height: 20px;\" class=\"row-headers-background row-header-shim\"><div class=\"row-header-wrapper\" style=\"line-height: 20px;\">47</div></th><td class=\"s0\" dir=\"ltr\">Washington</td><td class=\"s0\" dir=\"ltr\">No</td><td class=\"s0\" dir=\"ltr\">No</td><td class=\"s0\" dir=\"ltr\">No</td><td class=\"s0\" dir=\"ltr\">No</td><td class=\"s0\" dir=\"ltr\">No</td></tr><tr style=\"height:20px;\"><th id=\"0R48\" style=\"height: 20px;\" class=\"row-headers-background row-header-shim\"><div class=\"row-header-wrapper\" style=\"line-height: 20px;\">48</div></th><td class=\"s0\" dir=\"ltr\">West Virginia</td><td class=\"s0\" dir=\"ltr\">No</td><td class=\"s0\" dir=\"ltr\">No</td><td class=\"s0\" dir=\"ltr\">No</td><td class=\"s0\" dir=\"ltr\">No</td><td class=\"s0\" dir=\"ltr\">No</td></tr><tr style=\"height:20px;\"><th id=\"0R49\" style=\"height: 20px;\" class=\"row-headers-background row-header-shim\"><div class=\"row-header-wrapper\" style=\"line-height: 20px;\">49</div></th><td class=\"s0\" dir=\"ltr\">Wisconsin</td><td class=\"s0\" dir=\"ltr\">No</td><td class=\"s0\" dir=\"ltr\">Yes</td><td class=\"s0\" dir=\"ltr\">n/a</td><td class=\"s0\" dir=\"ltr\">No</td><td class=\"s0\" dir=\"ltr\">Yes</td></tr><tr style=\"height:20px;\"><th id=\"0R50\" style=\"height: 20px;\" class=\"row-headers-background row-header-shim\"><div class=\"row-header-wrapper\" style=\"line-height: 20px;\">50</div></th><td class=\"s0\" dir=\"ltr\">Wyoming</td><td class=\"s0\" dir=\"ltr\">No</td><td class=\"s0\" dir=\"ltr\">Yes</td><td class=\"s0\" dir=\"ltr\">n/a</td><td class=\"s0\" dir=\"ltr\">No</td><td class=\"s0\" dir=\"ltr\">Yes</td></tr></tbody>\n",
    "</table>\n"
   ]
  },
  {
   "cell_type": "markdown",
   "metadata": {},
   "source": [
    "## Conclusions and Recommendations"
   ]
  },
  {
   "cell_type": "markdown",
   "metadata": {},
   "source": [
    "Based on your exploration of the data, what are you key takeaways and recommendations? Choose one state with a lower participation rate and provide a suggestion for how the College Board might increase participation amongst graduating seniors in this state. Are there additional data you desire that would better inform your investigations?"
   ]
  },
  {
   "cell_type": "markdown",
   "metadata": {},
   "source": [
    "*Answer*"
   ]
  },
  {
   "cell_type": "markdown",
   "metadata": {},
   "source": [
    "Although the participation rates of either test are negatively correlated with each of the scores of the respective test's section, it does not suggest a causal relationship between these pairs of variables, specifically, reducing the scores by making the test more difficult for example would not necessarily result in an increase in the participation rates.\n",
    "\n",
    "In fact, participation rates may influence scores. Higher participation rates of the SAT may be due to the state mandating SAT as the state examination. This in turn would lead to less academically inclined students taking the exam and lowering the mean scores.\n",
    "\n",
    "Given that the participation rates are highest in states where the SAT is mandatory and paid for, the College Board could lobby the state government of North Dakota, which has the lowest SAT participation rates for both years and does not mandate either the ACT or SAT nor pays for either tests, to adopt the SAT as the state's compulsory examination for high-schoolers and perhaps even sponsor the test.  \n",
    "\n",
    "Additional data such as the universities within each state and the ranking of the universities throughout the U.S. might provide additional insight into the participation rate of either test as there may be individuals who take one test over the other with the intention of entering his/her desired college which may require either the SAT or the ACT. "
   ]
  }
 ],
 "metadata": {
  "anaconda-cloud": {},
  "kernelspec": {
   "display_name": "Python 3",
   "language": "python",
   "name": "python3"
  },
  "language_info": {
   "codemirror_mode": {
    "name": "ipython",
    "version": 3
   },
   "file_extension": ".py",
   "mimetype": "text/x-python",
   "name": "python",
   "nbconvert_exporter": "python",
   "pygments_lexer": "ipython3",
   "version": "3.7.4"
  }
 },
 "nbformat": 4,
 "nbformat_minor": 2
}
